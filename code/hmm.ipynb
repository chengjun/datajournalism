{
 "metadata": {
  "name": "",
  "signature": "sha256:e619e5b2bd9bf0638802bb95a9e57883febeab412eda4227b3e14abd229acb17"
 },
 "nbformat": 3,
 "nbformat_minor": 0,
 "worksheets": [
  {
   "cells": [
    {
     "cell_type": "heading",
     "level": 1,
     "metadata": {},
     "source": [
      "\u524d\u5411\u7b97\u6cd5\u548c\u540e\u5411\u7b97\u6cd5"
     ]
    },
    {
     "cell_type": "code",
     "collapsed": false,
     "input": [
      "import  numpy as np  \n",
      "from random import choice as rc\n",
      "\n",
      "# N boxes\n",
      "A=np.array([[0.5,0.2,0.3],[0.3,0.5,0.2],[0.2,0.3,0.5]])  \n",
      "# M kinds of fruits\n",
      "B=np.array([[0.5,0.2, 0.3],[0.1,0.4, 0.5],[0.4,0.3, 0.3]]) \n",
      "# initial box distributon \n",
      "pi=np.array([0.2,0.4,0.4])  \n",
      "\n",
      "N=A.shape[0] #N kinds of  state  \n",
      "M=B.shape[1] #M kinds of observation  \n",
      "O=np.array([rc(range(M)) ,rc(range(M)), rc(range(M)), rc(range(M))]) #T=len(O) \n",
      "T=len(O)\n",
      "\n",
      "print O  \n",
      "print N\n",
      "print M\n",
      "#initialize:  \n",
      "\n",
      "alpha=np.zeros((T, N),np.float)  \n",
      "for i in range(N):  \n",
      "    alpha[0,i]=pi[i]*B[i,O[0]]  \n",
      "\n",
      "\n",
      "#Recursion:  \n",
      "for t in range(T-1):  \n",
      "    for i in range(N):    \n",
      "        for j in range(N):  \n",
      "            alpha[t+1,i]+=alpha[t,j]*A[j,i]  \n",
      "        alpha[t+1,i]*=B[i,O[t+1]]  \n",
      "\n",
      "print alpha      \n",
      "#compute P(O|lamda) and termination  \n",
      "P_forward=0  \n",
      "for i in range(N):  \n",
      "    P_forward+=alpha[T-1,i] #begin with 0 so T-1  \n",
      "\n",
      "\n",
      "print P_forward  \n",
      "\n",
      "#initialize:  \n",
      "Beta=np.zeros((T,N),np.float)  \n",
      "print Beta  \n",
      "\n",
      "for i in range(N):  \n",
      "    Beta[T-1,i]=1  \n",
      "\n",
      "#recursion:  \n",
      "for t in range(T-2,-1,-1):  \n",
      "    for i in range(N):  \n",
      "        for j in range(N):  \n",
      "            Beta[t,i]+=A[i,j]*B[j,O[t+1]]*Beta[t+1,j]  \n",
      "\n",
      "print Beta              \n",
      "#termination:  \n",
      "P_back=0  \n",
      "for i in range(N):  \n",
      "    P_back+=pi[i]*B[i,O[0]]*Beta[0,i]  \n",
      "\n",
      "print P_back"
     ],
     "language": "python",
     "metadata": {},
     "outputs": [
      {
       "output_type": "stream",
       "stream": "stdout",
       "text": [
        "[2 1 0 0]\n",
        "3\n",
        "3\n",
        "[[ 0.06        0.2         0.12      ]\n",
        " [ 0.0228      0.0592      0.0354    ]\n",
        " [ 0.01812     0.004478    0.014552  ]\n",
        " [ 0.0066569   0.00102286  0.00544304]]\n",
        "0.0131228\n",
        "[[ 0.  0.  0.]\n",
        " [ 0.  0.  0.]\n",
        " [ 0.  0.  0.]\n",
        " [ 0.  0.  0.]]\n",
        "[[ 0.032388  0.035146  0.034586]\n",
        " [ 0.1427    0.0989    0.1134  ]\n",
        " [ 0.39      0.28      0.33    ]\n",
        " [ 1.        1.        1.      ]]\n",
        "0.0131228\n"
       ]
      }
     ],
     "prompt_number": 11
    },
    {
     "cell_type": "heading",
     "level": 1,
     "metadata": {},
     "source": [
      "Viterbi\u7b97\u6cd5"
     ]
    },
    {
     "cell_type": "code",
     "collapsed": false,
     "input": [
      "states = ('Healthy', 'Fever')\n",
      "observations = ('normal', 'cold', 'dizzy')\n",
      "start_probability = {'Healthy': 0.6, 'Fever': 0.4}\n",
      "\n",
      "transition_probability = {\n",
      "   'Healthy' : {'Healthy': 0.7, 'Fever': 0.3},\n",
      "   'Fever' : {'Healthy': 0.4, 'Fever': 0.6}\n",
      "   }\n",
      "\n",
      "emission_probability = {\n",
      "   'Healthy' : {'normal': 0.5, 'cold': 0.4, 'dizzy': 0.1},\n",
      "   'Fever' : {'normal': 0.1, 'cold': 0.3, 'dizzy': 0.6}\n",
      "   }\n"
     ],
     "language": "python",
     "metadata": {},
     "outputs": []
    },
    {
     "cell_type": "code",
     "collapsed": false,
     "input": [
      "def viterbi(obs, states, start_p, trans_p, emit_p):\n",
      "    V = [{}]\n",
      "    path = {}\n",
      "\n",
      "    # Initialize base cases (t == 0)\n",
      "    for y in states:\n",
      "        V[0][y] = start_p[y] * emit_p[y][obs[0]]\n",
      "        path[y] = [y]\n",
      "\n",
      "    # Run Viterbi for t > 0\n",
      "    for t in range(1, len(obs)):\n",
      "        V.append({})\n",
      "        newpath = {}\n",
      "\n",
      "        for y in states:\n",
      "            (prob, state) = max((V[t-1][y0] * trans_p[y0][y] * emit_p[y][obs[t]], y0) for y0 in states)\n",
      "            V[t][y] = prob\n",
      "            newpath[y] = path[state] + [y]\n",
      "\n",
      "        # Don't need to remember the old paths\n",
      "        path = newpath\n",
      "    n = 0           # if only one element is observed max is sought in the initialization values\n",
      "    if len(obs) != 1:\n",
      "        n = t\n",
      "    print_dptable(V)\n",
      "    (prob, state) = max((V[n][y], y) for y in states)\n",
      "    return (prob, path[state])\n",
      "\n",
      "# Don't study this, it just prints a table of the steps.\n",
      "def print_dptable(V):\n",
      "    s = \"    \" + \" \".join((\"%7d\" % i) for i in range(len(V))) + \"\\n\"\n",
      "    for y in V[0]:\n",
      "        s += \"%.5s: \" % y\n",
      "        s += \" \".join(\"%.7s\" % (\"%f\" % v[y]) for v in V)\n",
      "        s += \"\\n\"\n",
      "    print(s)   "
     ],
     "language": "python",
     "metadata": {},
     "outputs": [],
     "prompt_number": 12
    },
    {
     "cell_type": "code",
     "collapsed": false,
     "input": [
      "viterbi(observations, states, start_probability, transition_probability, emission_probability)"
     ],
     "language": "python",
     "metadata": {},
     "outputs": [
      {
       "output_type": "stream",
       "stream": "stdout",
       "text": [
        "          0       1       2\n",
        "Healt: 0.30000 0.08400 0.00588\n",
        "Fever: 0.04000 0.02700 0.01512\n",
        "\n"
       ]
      },
      {
       "metadata": {},
       "output_type": "pyout",
       "prompt_number": 4,
       "text": [
        "(0.01512, ['Healthy', 'Healthy', 'Fever'])"
       ]
      }
     ],
     "prompt_number": 4
    },
    {
     "cell_type": "heading",
     "level": 1,
     "metadata": {},
     "source": [
      "Baum-Welch\u7b97\u6cd5"
     ]
    },
    {
     "cell_type": "code",
     "collapsed": false,
     "input": [
      "#http://www.cs.colostate.edu/~anderson/cs440/index.html/doku.php?id=notes:hmm2\n",
      "\n",
      "import numpy as np\n",
      "from copy import copy\n",
      "%matplotlib inline\n",
      "import matplotlib.pyplot as plt\n",
      "\n",
      "class HMM:\n",
      "    def __init__(self):\n",
      "        pass\n",
      "\n",
      "    def simulate(self,nSteps):\n",
      "\n",
      "        def drawFrom(probs):\n",
      "            return np.where(np.random.multinomial(1,probs) == 1)[0][0]\n",
      "\n",
      "        observations = np.zeros(nSteps)\n",
      "        states = np.zeros(nSteps)\n",
      "        states[0] = drawFrom(self.pi)\n",
      "        observations[0] = drawFrom(self.B[states[0],:])\n",
      "        for t in range(1,nSteps):\n",
      "            states[t] = drawFrom(self.A[states[t-1],:])\n",
      "            observations[t] = drawFrom(self.B[states[t],:])\n",
      "        return observations,states\n",
      "\n",
      "\n",
      "    def train(self,observations,criterion,graphics=False):\n",
      "        if graphics:\n",
      "            plt.ion()\n",
      "\n",
      "        nStates = self.A.shape[0]\n",
      "        nSamples = len(observations)\n",
      "\n",
      "        A = self.A\n",
      "        B = self.B\n",
      "        pi = copy(self.pi)\n",
      "        \n",
      "        done = False\n",
      "        while not done:\n",
      "\n",
      "            # alpha_t(i) = P(O_1 O_2 ... O_t, q_t = S_i | hmm)\n",
      "            # Initialize alpha\n",
      "            alpha = np.zeros((nStates,nSamples))\n",
      "            c = np.zeros(nSamples) #scale factors\n",
      "            alpha[:,0] = pi.T * self.B[:,observations[0]]\n",
      "            c[0] = 1.0/np.sum(alpha[:,0])\n",
      "            alpha[:,0] = c[0] * alpha[:,0]\n",
      "            # Update alpha for each observation step\n",
      "            for t in range(1,nSamples):\n",
      "                alpha[:,t] = np.dot(alpha[:,t-1].T, self.A).T * self.B[:,observations[t]]\n",
      "                c[t] = 1.0/np.sum(alpha[:,t])\n",
      "                alpha[:,t] = c[t] * alpha[:,t]\n",
      "\n",
      "            # beta_t(i) = P(O_t+1 O_t+2 ... O_T | q_t = S_i , hmm)\n",
      "            # Initialize beta\n",
      "            beta = np.zeros((nStates,nSamples))\n",
      "            beta[:,nSamples-1] = 1\n",
      "            beta[:,nSamples-1] = c[nSamples-1] * beta[:,nSamples-1]\n",
      "            # Update beta backwards from end of sequence\n",
      "            for t in range(len(observations)-1,0,-1):\n",
      "                beta[:,t-1] = np.dot(self.A, (self.B[:,observations[t]] * beta[:,t]))\n",
      "                beta[:,t-1] = c[t-1] * beta[:,t-1]\n",
      "\n",
      "            xi = np.zeros((nStates,nStates,nSamples-1));\n",
      "            for t in range(nSamples-1):\n",
      "                denom = np.dot(np.dot(alpha[:,t].T, self.A) * self.B[:,observations[t+1]].T,\n",
      "                               beta[:,t+1])\n",
      "                for i in range(nStates):\n",
      "                    numer = alpha[i,t] * self.A[i,:] * self.B[:,observations[t+1]].T * \\\n",
      "                            beta[:,t+1].T\n",
      "                    xi[i,:,t] = numer / denom\n",
      "  \n",
      "            # gamma_t(i) = P(q_t = S_i | O, hmm)\n",
      "            gamma = np.squeeze(np.sum(xi,axis=1))\n",
      "            # Need final gamma element for new B\n",
      "            prod =  (alpha[:,nSamples-1] * beta[:,nSamples-1]).reshape((-1,1))\n",
      "            gamma = np.hstack((gamma,  prod / np.sum(prod))) #append one more to gamma!!!\n",
      "\n",
      "            newpi = gamma[:,0]\n",
      "            newA = np.sum(xi,2) / np.sum(gamma[:,:-1],axis=1).reshape((-1,1))\n",
      "            newB = copy(B)\n",
      "\n",
      "            if graphics:\n",
      "                plt.subplot(2,1,1)\n",
      "                plt.cla()\n",
      "                #plt.plot(gamma.T)\n",
      "                plt.plot(gamma[1])\n",
      "                plt.ylim(-0.1,1.1)\n",
      "                plt.legend(('Probability State=1'))\n",
      "                plt.xlabel('Time')\n",
      "                plt.draw()\n",
      "            \n",
      "            numLevels = self.B.shape[1]\n",
      "            sumgamma = np.sum(gamma,axis=1)\n",
      "            for lev in range(numLevels):\n",
      "                mask = observations == lev\n",
      "                newB[:,lev] = np.sum(gamma[:,mask],axis=1) / sumgamma\n",
      "\n",
      "            if np.max(abs(pi - newpi)) < criterion and \\\n",
      "                   np.max(abs(A - newA)) < criterion and \\\n",
      "                   np.max(abs(B - newB)) < criterion:\n",
      "                done = 1;\n",
      "  \n",
      "            A[:],B[:],pi[:] = newA,newB,newpi\n",
      "\n",
      "        self.A[:] = newA\n",
      "        self.B[:] = newB\n",
      "        self.pi[:] = newpi\n",
      "        self.gamma = gamma"
     ],
     "language": "python",
     "metadata": {},
     "outputs": [],
     "prompt_number": 1
    },
    {
     "cell_type": "code",
     "collapsed": false,
     "input": [
      "hmm = HMM()\n",
      "hmm.pi = np.array([0.5, 0.5])\n",
      "hmm.A = np.array([[0.85, 0.15],\n",
      "                  [0.12, 0.88]])\n",
      "hmm.B = np.array([[0.8, 0.1, 0.1],\n",
      "                  [0.0, 0.0, 1]])\n",
      "\n",
      "observations,states = hmm.simulate(1000)\n",
      "#print observations\n",
      "#print states"
     ],
     "language": "python",
     "metadata": {},
     "outputs": [],
     "prompt_number": 2
    },
    {
     "cell_type": "code",
     "collapsed": false,
     "input": [
      "hmmguess = HMM()\n",
      "hmmguess.pi = np.array([0.5, 0.5])\n",
      "hmmguess.A = np.array([[0.5, 0.5],\n",
      "                       [0.5, 0.5]])\n",
      "hmmguess.B = np.array([[0.3, 0.3, 0.4],\n",
      "                       [0.2, 0.5, 0.3]])\n",
      "\n",
      "hmmguess.train(observations,0.0001,graphics=True)"
     ],
     "language": "python",
     "metadata": {},
     "outputs": [
      {
       "metadata": {},
       "output_type": "display_data",
       "png": "[encoded data removed]",
       "text": [
        "<matplotlib.figure.Figure at 0x106792350>"
       ]
      }
     ],
     "prompt_number": 3
    },
    {
     "cell_type": "code",
     "collapsed": false,
     "input": [
      "hmmguess.A\n"
     ],
     "language": "python",
     "metadata": {},
     "outputs": [
      {
       "metadata": {},
       "output_type": "pyout",
       "prompt_number": 5,
       "text": [
        "array([[ 0.34814603,  0.65185397],\n",
        "       [ 0.91005877,  0.08994123]])"
       ]
      }
     ],
     "prompt_number": 5
    },
    {
     "cell_type": "code",
     "collapsed": false,
     "input": [
      "hmmguess.B"
     ],
     "language": "python",
     "metadata": {},
     "outputs": [
      {
       "metadata": {},
       "output_type": "pyout",
       "prompt_number": 6,
       "text": [
        "array([[  4.25532831e-01,   2.05305118e-08,   5.74467148e-01],\n",
        "       [  3.04336392e-01,   1.15121744e-01,   5.80541864e-01]])"
       ]
      }
     ],
     "prompt_number": 6
    },
    {
     "cell_type": "code",
     "collapsed": false,
     "input": [
      "hmmguess.pi"
     ],
     "language": "python",
     "metadata": {},
     "outputs": [
      {
       "metadata": {},
       "output_type": "pyout",
       "prompt_number": 7,
       "text": [
        "array([  1.00000000e+00,   1.26014703e-45])"
       ]
      }
     ],
     "prompt_number": 7
    },
    {
     "cell_type": "code",
     "collapsed": false,
     "input": [
      "hmmguess.gamma"
     ],
     "language": "python",
     "metadata": {},
     "outputs": [
      {
       "metadata": {},
       "output_type": "pyout",
       "prompt_number": 8,
       "text": [
        "array([[  1.00000000e+00,   3.83935075e-01,   7.40098083e-01, ...,\n",
        "          9.90345458e-01,   9.47364182e-08,   9.34002829e-01],\n",
        "       [  1.26014703e-45,   6.16064925e-01,   2.59901917e-01, ...,\n",
        "          9.65454160e-03,   9.99999905e-01,   6.59971709e-02]])"
       ]
      }
     ],
     "prompt_number": 8
    }
   ],
   "metadata": {}
  }
 ]
}