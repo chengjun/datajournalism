{
 "metadata": {
  "name": "",
  "signature": "sha256:884980034809b7dd70e1c166f51dc613028ce5a7b7a3ec1f6072ea01ab96b621"
 },
 "nbformat": 3,
 "nbformat_minor": 0,
 "worksheets": [
  {
   "cells": [
    {
     "cell_type": "heading",
     "level": 1,
     "metadata": {},
     "source": [
      "\u5b66\u4e60\u4f7f\u7528IPython"
     ]
    },
    {
     "cell_type": "markdown",
     "metadata": {},
     "source": [
      "![Image Title](http://www.completemortgageprocessing.net/wp-content/uploads/2011/10/teach-class.jpg)\n",
      "\n",
      "\u8bfe\u7a0b\u63cf\u8ff0\uff08Course Description\uff09\uff1a\u8ba1\u7b97\u4f20\u64ad\u5b66\u662f\u8ba1\u7b97\u793e\u4f1a\u79d1\u5b66\u7684\u91cd\u8981\u5206\u652f\u3002\u5b83\u4e3b\u8981\u5173\u6ce8\u4eba\u7c7b\u4f20\u64ad\u884c\u4e3a\u7684\u53ef\u8ba1\u7b97\u6027\u57fa\u7840\uff0c\u4ee5\u4f20\u64ad\u7f51\u7edc\u5206\u6790\u3001\u4f20\u64ad\u6587\u672c\u6316\u6398\u3001\u6570\u636e\u79d1\u5b66\u7b49\u4e3a\u4e3b\u8981\u5206\u6790\u5de5\u5177\uff0c\uff08\u4ee5\u975e\u4ecb\u5165\u5730\u65b9\u5f0f\uff09\u5927\u89c4\u6a21\u5730\u6536\u96c6\u5e76\u5206\u6790\u4eba\u7c7b\u4f20\u64ad\u884c\u4e3a\u6570\u636e\uff0c\u6316\u6398\u4eba\u7c7b\u4f20\u64ad\u884c\u4e3a\u80cc\u540e\u7684\u6a21\u5f0f\u548c\u6cd5\u5219\uff0c\u5206\u6790\u6a21\u5f0f\u80cc\u540e\u7684\u751f\u6210\u673a\u5236\u4e0e\u57fa\u672c\u539f\u7406\uff0c\u53ef\u4ee5\u88ab\u5e7f\u6cdb\u5730\u5e94\u7528\u4e8e\u6570\u636e\u65b0\u95fb\u548c\u8ba1\u7b97\u5e7f\u544a\u7b49\u573a\u666f\uff0c\u6ce8\u91cd\u7f16\u7a0b\u8bad\u7ec3\u3001\u6570\u5b66\u5efa\u6a21\u3001\u53ef\u8ba1\u7b97\u601d\u7ef4\u3002\n",
      "\n",
      "- \u7b2c\u4e00\u90e8\u5206 \u7f51\u9875\u6293\u53d6\n",
      "- \u7b2c\u4e8c\u90e8\u5206 \u5c55\u73b0\u6570\u5b66\u516c\u5f0f\n",
      "- \u7b2c\u4e09\u90e8\u5206 \u4e92\u52a8\u5c55\u73b0\n"
     ]
    },
    {
     "cell_type": "heading",
     "level": 2,
     "metadata": {},
     "source": [
      "\u7b2c\u4e00\u90e8\u5206 \u7f51\u9875\u6293\u53d6"
     ]
    },
    {
     "cell_type": "code",
     "collapsed": false,
     "input": [
      "import urllib2\n",
      "from bs4 import BeautifulSoup"
     ],
     "language": "python",
     "metadata": {
      "slideshow": {
       "slide_type": "slide"
      }
     },
     "outputs": [],
     "prompt_number": 18
    },
    {
     "cell_type": "code",
     "collapsed": false,
     "input": [
      "from IPython.display import HTML\n",
      "HTML('<iframe src=http://jc.nju.edu.cn width=900 height=500></iframe>')\n",
      "# the webpage we would like to crawl"
     ],
     "language": "python",
     "metadata": {},
     "outputs": [
      {
       "html": [
        "<iframe src=http://jc.nju.edu.cn width=900 height=500></iframe>"
       ],
       "metadata": {},
       "output_type": "pyout",
       "prompt_number": 51,
       "text": [
        "<IPython.core.display.HTML at 0x14a62278>"
       ]
      }
     ],
     "prompt_number": 51
    },
    {
     "cell_type": "code",
     "collapsed": false,
     "input": [
      "url = \"http://jc.nju.edu.cn/\"\n",
      "content = urllib2.urlopen(url).read()\n",
      "soup = BeautifulSoup(content) \n",
      "# title of webpage\n",
      "print soup.title.text"
     ],
     "language": "python",
     "metadata": {
      "slideshow": {
       "slide_type": "subslide"
      }
     },
     "outputs": [
      {
       "output_type": "stream",
       "stream": "stdout",
       "text": [
        "\u5357\u4eac\u5927\u5b66\u65b0\u95fb\u4f20\u64ad\u5b66\u9662\n"
       ]
      }
     ],
     "prompt_number": 49
    },
    {
     "cell_type": "code",
     "collapsed": false,
     "input": [
      "# print notices\n",
      "notices = soup.find_all('a', {'class', 'notice-title'})\n",
      "for i in notices:\n",
      "    print i.text"
     ],
     "language": "python",
     "metadata": {},
     "outputs": [
      {
       "output_type": "stream",
       "stream": "stdout",
       "text": [
        "\u5357\u4eac\u5927\u5b66\u65b0\u95fb\u4f20\u64ad\u5b66\u9662\u7b2c\u4e8c\u5c4a520\u7814\u7a76\u751f\u5b66\u672f\u8bba\n",
        "418\u535a\u58eb\u4e4b\u5bb6\u5b66\u672f\u5348\u9910\u4f1a\u7b2c\u4e8c\u5b63\u7b2c22\u671f(\u603b\u7b2c47\n",
        "418\u535a\u58eb\u4e4b\u5bb6\u5b66\u672f\u5348\u9910\u4f1a\u7b2c\u4e8c\u5b63\u7b2c21\u671f(\u603b\u7b2c46\n",
        "\u5357\u4eac\u5927\u5b66\u65b0\u95fb\u4f20\u64ad\u5b66\u9662\u5f81\u96c6\u7b2c25\u5c4a\u4e2d\u56fd\u65b0\u95fb\u5956\n",
        "\u5357\u4eac\u5927\u5b66\u65b0\u95fb\u4f20\u64ad\u5b66\u9662\u201c\u540c\u4e00\u7247\u5929\u7a7a  \" \u96fe\u973e\n",
        "\u201c\u540c\u4e00\u7247\u5929\u7a7a \"\u96fe\u973e\u5728\u4e2d\u56fd\u201d\u5bd2\u5047\u793e\u4f1a\u5b9e\u8df5\u6d3b\n",
        "\u6c5f\u82cf\u7701\u54f2\u5b66\u793e\u4f1a\u79d1\u5b66\u754c\u7b2c\u516b\u5c4a\u5b66\u672f\u5927\u4f1a\u201c\u793e\u4f1a\n",
        "\u65b0\u95fb\u4f20\u64ad\u5b66\u9662\u5173\u4e8e2015\u5c4a\u7855\u58eb\u6bd5\u4e1a\u751f\u9884\u7b54\u8fa9\u7684\n",
        "\u5357\u4eac\u5927\u5b66\u4e0e\u6c5f\u82cf\u7701\u59d4\u5ba3\u4f20\u90e8\u7b7e\u8ba2\u534f\u8bae\u5171\u5efa\u65b0\u95fb\n",
        "\u6211\u9662\u8058\u4efb\u7b2c\u4e00\u6279\u65b0\u95fb\u4f20\u64ad\u4e13\u4e1a\u7855\u58eb\u6821\u5916\u5bfc\u5e08\n"
       ]
      }
     ],
     "prompt_number": 50
    },
    {
     "cell_type": "heading",
     "level": 2,
     "metadata": {},
     "source": [
      "\u7b2c\u4e8c\u90e8\u5206 \u5c55\u73b0\u6570\u5b66\u516c\u5f0f"
     ]
    },
    {
     "cell_type": "code",
     "collapsed": false,
     "input": [
      "# display equations\n",
      "from IPython.display import Latex\n",
      "Latex(r\"$\\sqrt{x^2+y^2}$\")"
     ],
     "language": "python",
     "metadata": {},
     "outputs": [
      {
       "latex": [
        "$\\sqrt{x^2+y^2}$"
       ],
       "metadata": {},
       "output_type": "pyout",
       "prompt_number": 43,
       "text": [
        "<IPython.core.display.Latex at 0x14a4c9b0>"
       ]
      }
     ],
     "prompt_number": 43
    },
    {
     "cell_type": "code",
     "collapsed": false,
     "input": [
      "Latex(r\"\"\"\\begin{eqnarray}\n",
      "\\nabla \\times \\vec{\\mathbf{B}} -\\, \\frac1c\\, \\frac{\\partial\\vec{\\mathbf{E}}}{\\partial t} & = \\frac{4\\pi}{c}\\vec{\\mathbf{j}} \\\\\n",
      "\\nabla \\cdot \\vec{\\mathbf{E}} & = 4 \\pi \\rho \\\\\n",
      "\\nabla \\times \\vec{\\mathbf{E}}\\, +\\, \\frac1c\\, \\frac{\\partial\\vec{\\mathbf{B}}}{\\partial t} & = \\vec{\\mathbf{0}} \\\\\n",
      "\\nabla \\cdot \\vec{\\mathbf{B}} & = 0 \n",
      "\\end{eqnarray}\"\"\")"
     ],
     "language": "python",
     "metadata": {},
     "outputs": [
      {
       "latex": [
        "\\begin{eqnarray}\n",
        "\\nabla \\times \\vec{\\mathbf{B}} -\\, \\frac1c\\, \\frac{\\partial\\vec{\\mathbf{E}}}{\\partial t} & = \\frac{4\\pi}{c}\\vec{\\mathbf{j}} \\\\\n",
        "\\nabla \\cdot \\vec{\\mathbf{E}} & = 4 \\pi \\rho \\\\\n",
        "\\nabla \\times \\vec{\\mathbf{E}}\\, +\\, \\frac1c\\, \\frac{\\partial\\vec{\\mathbf{B}}}{\\partial t} & = \\vec{\\mathbf{0}} \\\\\n",
        "\\nabla \\cdot \\vec{\\mathbf{B}} & = 0 \n",
        "\\end{eqnarray}"
       ],
       "metadata": {},
       "output_type": "pyout",
       "prompt_number": 42,
       "text": [
        "<IPython.core.display.Latex at 0x14a4ce48>"
       ]
      }
     ],
     "prompt_number": 42
    },
    {
     "cell_type": "code",
     "collapsed": false,
     "input": [
      "%%latex\n",
      "\\begin{equation*}\n",
      "P(E)   = {n \\choose k} p^k (1-p)^{ n-k} \n",
      "\\end{equation*}"
     ],
     "language": "python",
     "metadata": {},
     "outputs": [
      {
       "latex": [
        "\\begin{equation*}\n",
        "P(E)   = {n \\choose k} p^k (1-p)^{ n-k} \n",
        "\\end{equation*}"
       ],
       "metadata": {},
       "output_type": "display_data",
       "text": [
        "<IPython.core.display.Latex at 0x14a4cef0>"
       ]
      }
     ],
     "prompt_number": 41
    },
    {
     "cell_type": "code",
     "collapsed": false,
     "input": [
      "from IPython.display import display, Math, Latex\n",
      "display(Math(r'F(k) = \\int_{-\\infty}^{\\infty} f(x) e^{2\\pi i k} dx'))"
     ],
     "language": "python",
     "metadata": {},
     "outputs": [
      {
       "latex": [
        "$$F(k) = \\int_{-\\infty}^{\\infty} f(x) e^{2\\pi i k} dx$$"
       ],
       "metadata": {},
       "output_type": "display_data",
       "text": [
        "<IPython.core.display.Math at 0x14a4c630>"
       ]
      }
     ],
     "prompt_number": 37
    },
    {
     "cell_type": "heading",
     "level": 2,
     "metadata": {},
     "source": [
      "\u7b2c\u4e09\u90e8\u5206 \u4e92\u52a8\u5c55\u73b0"
     ]
    },
    {
     "cell_type": "code",
     "collapsed": false,
     "input": [
      "# using interctive mode\n",
      "from IPython.html.widgets import interact, interactive, fixed\n",
      "@interact(x=True, y=1.0)\n",
      "def g(x, y):\n",
      "    print(x, y)"
     ],
     "language": "python",
     "metadata": {},
     "outputs": [
      {
       "output_type": "stream",
       "stream": "stdout",
       "text": [
        "(True, 1.0)\n"
       ]
      }
     ],
     "prompt_number": 35
    },
    {
     "cell_type": "heading",
     "level": 2,
     "metadata": {},
     "source": [
      "\u7b2c\u56db\u90e8\u5206 \u6293\u53d6\u5929\u6daf\u8bba\u575b\u6587\u7ae0\u5217\u8868"
     ]
    },
    {
     "cell_type": "code",
     "collapsed": false,
     "input": [
      "import urllib2\n",
      "from bs4 import BeautifulSoup\n",
      "import os\n",
      "\n",
      "# set work directory\n",
      "os.chdir('D:/')\n",
      "\n",
      "\n",
      "def crawler(page_num, file_name):\n",
      "    try:\n",
      "        # open the browser\n",
      "        url = \"http://bbs.tianya.cn/list.jsp?item=free&nextid=%d&order=8&k=\u96fe\u973e\" % page_num\n",
      "        content = urllib2.urlopen(url).read() #\u83b7\u53d6\u7f51\u9875\u7684html\u6587\u672c\n",
      "        soup = BeautifulSoup(content) \n",
      "        articles = soup.find_all('tr')\n",
      "        # write down info\n",
      "        for i in articles[1:]:\n",
      "            td = i.find_all('td')\n",
      "            title = td[0].text.strip()\n",
      "            title_url = td[0].a['href']\n",
      "            author = td[1].text\n",
      "            author_url = td[1].a['href']\n",
      "            views = td[2].text\n",
      "            replies = td[3].text\n",
      "            date = td[4]['title']\n",
      "            record = title + '\\t' + title_url+ '\\t' + author + '\\t'+ author_url + '\\t' + views+ '\\t'  + replies+ '\\t'+ date\n",
      "            with open(file_name,'a') as p: # '''Note'''\uff1a\uff21ppend mode, run only once!\n",
      "                        p.write(record.encode('utf-8')+\"\\n\") ##!!encode here to utf-8 to avoid encoding\n",
      "\n",
      "    except:\n",
      "        pass"
     ],
     "language": "python",
     "metadata": {},
     "outputs": [],
     "prompt_number": 66
    },
    {
     "cell_type": "code",
     "collapsed": false,
     "input": [
      "# crawl all pages\n",
      "for page_num in range(1,5):\n",
      "    print (page_num)\n",
      "    crawler(page_num, 'wumai_first_4_pages.txt') "
     ],
     "language": "python",
     "metadata": {},
     "outputs": [
      {
       "output_type": "stream",
       "stream": "stdout",
       "text": [
        "1\n",
        "2"
       ]
      },
      {
       "output_type": "stream",
       "stream": "stdout",
       "text": [
        "\n",
        "3"
       ]
      },
      {
       "output_type": "stream",
       "stream": "stdout",
       "text": [
        "\n",
        "4"
       ]
      },
      {
       "output_type": "stream",
       "stream": "stdout",
       "text": [
        "\n"
       ]
      }
     ],
     "prompt_number": 67
    },
    {
     "cell_type": "code",
     "collapsed": false,
     "input": [
      "import pandas\n",
      "\n",
      "df = pandas.read_csv('D:/wumai_first_4_pages.txt', sep = \"\\t\", header=None)\n",
      "df[:3]"
     ],
     "language": "python",
     "metadata": {},
     "outputs": [
      {
       "html": [
        "<div style=\"max-height:1000px;max-width:1500px;overflow:auto;\">\n",
        "<table border=\"1\" class=\"dataframe\">\n",
        "  <thead>\n",
        "    <tr style=\"text-align: right;\">\n",
        "      <th></th>\n",
        "      <th>0</th>\n",
        "      <th>1</th>\n",
        "      <th>2</th>\n",
        "      <th>3</th>\n",
        "      <th>4</th>\n",
        "      <th>5</th>\n",
        "      <th>6</th>\n",
        "    </tr>\n",
        "  </thead>\n",
        "  <tbody>\n",
        "    <tr>\n",
        "      <th>0</th>\n",
        "      <td> \u9ec4\u4e07\u91cc\u5c31\u662f\u5236\u9020\u534e\u5317\u96fe\u973e\u6570\u767e\u4e07\u6761\u4eba\u547d\u7684\u5143\u51f6</td>\n",
        "      <td> /post-free-3932565-1.shtml</td>\n",
        "      <td>     carls</td>\n",
        "      <td>   http://www.tianya.cn/284121</td>\n",
        "      <td> 2871</td>\n",
        "      <td> 39</td>\n",
        "      <td> 2013-12-23 21:14</td>\n",
        "    </tr>\n",
        "    <tr>\n",
        "      <th>1</th>\n",
        "      <td>  \u6bd4\u96fe\u973e\u8fd8\u8981\u53ef\u6015\u7684\u6559\u80b2(\u795e\u6728\u7bc7\u6700\u65b0\u62fc\u76d8)</td>\n",
        "      <td> /post-free-4776578-1.shtml</td>\n",
        "      <td> happy\u6625\u6ee1\u4eba\u95f4</td>\n",
        "      <td> http://www.tianya.cn/96416374</td>\n",
        "      <td> 2848</td>\n",
        "      <td>  0</td>\n",
        "      <td> 2014-11-17 15:40</td>\n",
        "    </tr>\n",
        "    <tr>\n",
        "      <th>2</th>\n",
        "      <td>          \u5173\u4e8e\u89e3\u51b3\u96fe\u973e\u95ee\u9898\u7684\u5efa\u8bae</td>\n",
        "      <td> /post-free-4166980-1.shtml</td>\n",
        "      <td>      \u4e01\u4e018O</td>\n",
        "      <td> http://www.tianya.cn/87926338</td>\n",
        "      <td> 2750</td>\n",
        "      <td>  6</td>\n",
        "      <td> 2014-03-04 15:03</td>\n",
        "    </tr>\n",
        "  </tbody>\n",
        "</table>\n",
        "<p>3 rows \u00d7 7 columns</p>\n",
        "</div>"
       ],
       "metadata": {},
       "output_type": "pyout",
       "prompt_number": 87,
       "text": [
        "                      0                           1          2  \\\n",
        "0  \u9ec4\u4e07\u91cc\u5c31\u662f\u5236\u9020\u534e\u5317\u96fe\u973e\u6570\u767e\u4e07\u6761\u4eba\u547d\u7684\u5143\u51f6  /post-free-3932565-1.shtml      carls   \n",
        "1   \u6bd4\u96fe\u973e\u8fd8\u8981\u53ef\u6015\u7684\u6559\u80b2(\u795e\u6728\u7bc7\u6700\u65b0\u62fc\u76d8)  /post-free-4776578-1.shtml  happy\u6625\u6ee1\u4eba\u95f4   \n",
        "2           \u5173\u4e8e\u89e3\u51b3\u96fe\u973e\u95ee\u9898\u7684\u5efa\u8bae  /post-free-4166980-1.shtml       \u4e01\u4e018O   \n",
        "\n",
        "                               3     4   5                 6  \n",
        "0    http://www.tianya.cn/284121  2871  39  2013-12-23 21:14  \n",
        "1  http://www.tianya.cn/96416374  2848   0  2014-11-17 15:40  \n",
        "2  http://www.tianya.cn/87926338  2750   6  2014-03-04 15:03  \n",
        "\n",
        "[3 rows x 7 columns]"
       ]
      }
     ],
     "prompt_number": 87
    }
   ],
   "metadata": {}
  }
 ]
}