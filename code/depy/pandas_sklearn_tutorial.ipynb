{
 "metadata": {
  "name": "",
  "signature": "sha256:1308518c23c85628736ed6871f893d0957d69a86509d848406520d7418299bf9"
 },
 "nbformat": 3,
 "nbformat_minor": 0,
 "worksheets": [
  {
   "cells": [
    {
     "cell_type": "heading",
     "level": 1,
     "metadata": {},
     "source": [
      "https://github.com/jseabold/depy/blob/master/pandas_sklearn.ipynb"
     ]
    },
    {
     "cell_type": "code",
     "collapsed": false,
     "input": [
      "import os\n",
      "import numpy as np\n",
      "import pandas as pd"
     ],
     "language": "python",
     "metadata": {},
     "outputs": [],
     "prompt_number": 1
    },
    {
     "cell_type": "code",
     "collapsed": false,
     "input": [
      "%matplotlib inline\n",
      "pd.set_option(\"max_rows\", 10)\n",
      "np.set_printoptions(suppress=True)"
     ],
     "language": "python",
     "metadata": {},
     "outputs": [],
     "prompt_number": 3
    },
    {
     "cell_type": "code",
     "collapsed": false,
     "input": [
      "from seaborn import set_style\n",
      "set_style(\"darkgrid\")\n",
      "import seaborn as sns\n",
      "import matplotlib.pyplot as plt"
     ],
     "language": "python",
     "metadata": {},
     "outputs": [],
     "prompt_number": 4
    },
    {
     "cell_type": "code",
     "collapsed": false,
     "input": [
      "with open(\"data/adult.names\") as fin:\n",
      "    notes = fin.read()\n",
      "    \n",
      "#print(notes)"
     ],
     "language": "python",
     "metadata": {},
     "outputs": [],
     "prompt_number": 54
    },
    {
     "cell_type": "code",
     "collapsed": false,
     "input": [
      "dta = pd.read_csv(\"data/adult.data.cleaned.csv.gz\", compression=\"gzip\")"
     ],
     "language": "python",
     "metadata": {},
     "outputs": [],
     "prompt_number": 6
    },
    {
     "cell_type": "code",
     "collapsed": false,
     "input": [
      "test = pd.read_csv(\"data/adult.test.cleaned.csv.gz\", compression=\"gzip\")"
     ],
     "language": "python",
     "metadata": {},
     "outputs": [],
     "prompt_number": 7
    },
    {
     "cell_type": "code",
     "collapsed": false,
     "input": [
      "dta.head()"
     ],
     "language": "python",
     "metadata": {},
     "outputs": [
      {
       "html": [
        "<div style=\"max-height:1000px;max-width:1500px;overflow:auto;\">\n",
        "<table border=\"1\" class=\"dataframe\">\n",
        "  <thead>\n",
        "    <tr style=\"text-align: right;\">\n",
        "      <th></th>\n",
        "      <th>age</th>\n",
        "      <th>workclass</th>\n",
        "      <th>fnlwgt</th>\n",
        "      <th>education</th>\n",
        "      <th>education_num</th>\n",
        "      <th>marital_status</th>\n",
        "      <th>occupation</th>\n",
        "      <th>relationship</th>\n",
        "      <th>race</th>\n",
        "      <th>sex</th>\n",
        "      <th>capital_gain</th>\n",
        "      <th>capital_loss</th>\n",
        "      <th>hours_per_week</th>\n",
        "      <th>native_country</th>\n",
        "      <th>income</th>\n",
        "    </tr>\n",
        "  </thead>\n",
        "  <tbody>\n",
        "    <tr>\n",
        "      <th>0</th>\n",
        "      <td>39</td>\n",
        "      <td>State-gov</td>\n",
        "      <td>77516</td>\n",
        "      <td>Bachelors</td>\n",
        "      <td>13</td>\n",
        "      <td>Never-married</td>\n",
        "      <td>Adm-clerical</td>\n",
        "      <td>Not-in-family</td>\n",
        "      <td>White</td>\n",
        "      <td>Male</td>\n",
        "      <td>2174</td>\n",
        "      <td>0</td>\n",
        "      <td>40</td>\n",
        "      <td>United-States</td>\n",
        "      <td>&lt;=50K</td>\n",
        "    </tr>\n",
        "    <tr>\n",
        "      <th>1</th>\n",
        "      <td>50</td>\n",
        "      <td>Self-emp-not-inc</td>\n",
        "      <td>83311</td>\n",
        "      <td>Bachelors</td>\n",
        "      <td>13</td>\n",
        "      <td>Married-civ-spouse</td>\n",
        "      <td>Exec-managerial</td>\n",
        "      <td>Husband</td>\n",
        "      <td>White</td>\n",
        "      <td>Male</td>\n",
        "      <td>0</td>\n",
        "      <td>0</td>\n",
        "      <td>13</td>\n",
        "      <td>United-States</td>\n",
        "      <td>&lt;=50K</td>\n",
        "    </tr>\n",
        "    <tr>\n",
        "      <th>2</th>\n",
        "      <td>38</td>\n",
        "      <td>Private</td>\n",
        "      <td>215646</td>\n",
        "      <td>HS-grad</td>\n",
        "      <td>9</td>\n",
        "      <td>Divorced</td>\n",
        "      <td>Handlers-cleaners</td>\n",
        "      <td>Not-in-family</td>\n",
        "      <td>White</td>\n",
        "      <td>Male</td>\n",
        "      <td>0</td>\n",
        "      <td>0</td>\n",
        "      <td>40</td>\n",
        "      <td>United-States</td>\n",
        "      <td>&lt;=50K</td>\n",
        "    </tr>\n",
        "    <tr>\n",
        "      <th>3</th>\n",
        "      <td>53</td>\n",
        "      <td>Private</td>\n",
        "      <td>234721</td>\n",
        "      <td>11th</td>\n",
        "      <td>7</td>\n",
        "      <td>Married-civ-spouse</td>\n",
        "      <td>Handlers-cleaners</td>\n",
        "      <td>Husband</td>\n",
        "      <td>Black</td>\n",
        "      <td>Male</td>\n",
        "      <td>0</td>\n",
        "      <td>0</td>\n",
        "      <td>40</td>\n",
        "      <td>United-States</td>\n",
        "      <td>&lt;=50K</td>\n",
        "    </tr>\n",
        "    <tr>\n",
        "      <th>4</th>\n",
        "      <td>28</td>\n",
        "      <td>Private</td>\n",
        "      <td>338409</td>\n",
        "      <td>Bachelors</td>\n",
        "      <td>13</td>\n",
        "      <td>Married-civ-spouse</td>\n",
        "      <td>Prof-specialty</td>\n",
        "      <td>Wife</td>\n",
        "      <td>Black</td>\n",
        "      <td>Female</td>\n",
        "      <td>0</td>\n",
        "      <td>0</td>\n",
        "      <td>40</td>\n",
        "      <td>Cuba</td>\n",
        "      <td>&lt;=50K</td>\n",
        "    </tr>\n",
        "  </tbody>\n",
        "</table>\n",
        "</div>"
       ],
       "metadata": {},
       "output_type": "pyout",
       "prompt_number": 8,
       "text": [
        "   age         workclass  fnlwgt  education  education_num  \\\n",
        "0   39         State-gov   77516  Bachelors             13   \n",
        "1   50  Self-emp-not-inc   83311  Bachelors             13   \n",
        "2   38           Private  215646    HS-grad              9   \n",
        "3   53           Private  234721       11th              7   \n",
        "4   28           Private  338409  Bachelors             13   \n",
        "\n",
        "       marital_status         occupation   relationship   race     sex  \\\n",
        "0       Never-married       Adm-clerical  Not-in-family  White    Male   \n",
        "1  Married-civ-spouse    Exec-managerial        Husband  White    Male   \n",
        "2            Divorced  Handlers-cleaners  Not-in-family  White    Male   \n",
        "3  Married-civ-spouse  Handlers-cleaners        Husband  Black    Male   \n",
        "4  Married-civ-spouse     Prof-specialty           Wife  Black  Female   \n",
        "\n",
        "   capital_gain  capital_loss  hours_per_week native_country income  \n",
        "0          2174             0              40  United-States  <=50K  \n",
        "1             0             0              13  United-States  <=50K  \n",
        "2             0             0              40  United-States  <=50K  \n",
        "3             0             0              40  United-States  <=50K  \n",
        "4             0             0              40           Cuba  <=50K  "
       ]
      }
     ],
     "prompt_number": 8
    },
    {
     "cell_type": "code",
     "collapsed": false,
     "input": [
      "dta.info()"
     ],
     "language": "python",
     "metadata": {},
     "outputs": [
      {
       "output_type": "stream",
       "stream": "stdout",
       "text": [
        "<class 'pandas.core.frame.DataFrame'>\n",
        "Int64Index: 32561 entries, 0 to 32560\n",
        "Data columns (total 15 columns):\n",
        "age               32561 non-null int64\n",
        "workclass         32561 non-null object\n",
        "fnlwgt            32561 non-null int64\n",
        "education         32561 non-null object\n",
        "education_num     32561 non-null int64\n",
        "marital_status    32561 non-null object\n",
        "occupation        32561 non-null object\n",
        "relationship      32561 non-null object\n",
        "race              32561 non-null object\n",
        "sex               32561 non-null object\n",
        "capital_gain      32561 non-null int64\n",
        "capital_loss      32561 non-null int64\n",
        "hours_per_week    32561 non-null int64\n",
        "native_country    32561 non-null object\n",
        "income            32561 non-null object\n",
        "dtypes: int64(6), object(9)\n",
        "memory usage: 4.0+ MB\n"
       ]
      }
     ],
     "prompt_number": 9
    },
    {
     "cell_type": "code",
     "collapsed": false,
     "input": [
      "dta.describe()"
     ],
     "language": "python",
     "metadata": {},
     "outputs": [
      {
       "html": [
        "<div style=\"max-height:1000px;max-width:1500px;overflow:auto;\">\n",
        "<table border=\"1\" class=\"dataframe\">\n",
        "  <thead>\n",
        "    <tr style=\"text-align: right;\">\n",
        "      <th></th>\n",
        "      <th>age</th>\n",
        "      <th>fnlwgt</th>\n",
        "      <th>education_num</th>\n",
        "      <th>capital_gain</th>\n",
        "      <th>capital_loss</th>\n",
        "      <th>hours_per_week</th>\n",
        "    </tr>\n",
        "  </thead>\n",
        "  <tbody>\n",
        "    <tr>\n",
        "      <th>count</th>\n",
        "      <td>32561.000000</td>\n",
        "      <td>32561.000000</td>\n",
        "      <td>32561.000000</td>\n",
        "      <td>32561.000000</td>\n",
        "      <td>32561.000000</td>\n",
        "      <td>32561.000000</td>\n",
        "    </tr>\n",
        "    <tr>\n",
        "      <th>mean</th>\n",
        "      <td>38.581647</td>\n",
        "      <td>189778.366512</td>\n",
        "      <td>10.080679</td>\n",
        "      <td>1077.648844</td>\n",
        "      <td>87.303830</td>\n",
        "      <td>40.437456</td>\n",
        "    </tr>\n",
        "    <tr>\n",
        "      <th>std</th>\n",
        "      <td>13.640433</td>\n",
        "      <td>105549.977697</td>\n",
        "      <td>2.572720</td>\n",
        "      <td>7385.292085</td>\n",
        "      <td>402.960219</td>\n",
        "      <td>12.347429</td>\n",
        "    </tr>\n",
        "    <tr>\n",
        "      <th>min</th>\n",
        "      <td>17.000000</td>\n",
        "      <td>12285.000000</td>\n",
        "      <td>1.000000</td>\n",
        "      <td>0.000000</td>\n",
        "      <td>0.000000</td>\n",
        "      <td>1.000000</td>\n",
        "    </tr>\n",
        "    <tr>\n",
        "      <th>25%</th>\n",
        "      <td>28.000000</td>\n",
        "      <td>117827.000000</td>\n",
        "      <td>9.000000</td>\n",
        "      <td>0.000000</td>\n",
        "      <td>0.000000</td>\n",
        "      <td>40.000000</td>\n",
        "    </tr>\n",
        "    <tr>\n",
        "      <th>50%</th>\n",
        "      <td>37.000000</td>\n",
        "      <td>178356.000000</td>\n",
        "      <td>10.000000</td>\n",
        "      <td>0.000000</td>\n",
        "      <td>0.000000</td>\n",
        "      <td>40.000000</td>\n",
        "    </tr>\n",
        "    <tr>\n",
        "      <th>75%</th>\n",
        "      <td>48.000000</td>\n",
        "      <td>237051.000000</td>\n",
        "      <td>12.000000</td>\n",
        "      <td>0.000000</td>\n",
        "      <td>0.000000</td>\n",
        "      <td>45.000000</td>\n",
        "    </tr>\n",
        "    <tr>\n",
        "      <th>max</th>\n",
        "      <td>90.000000</td>\n",
        "      <td>1484705.000000</td>\n",
        "      <td>16.000000</td>\n",
        "      <td>99999.000000</td>\n",
        "      <td>4356.000000</td>\n",
        "      <td>99.000000</td>\n",
        "    </tr>\n",
        "  </tbody>\n",
        "</table>\n",
        "</div>"
       ],
       "metadata": {},
       "output_type": "pyout",
       "prompt_number": 10,
       "text": [
        "                age          fnlwgt  education_num  capital_gain  \\\n",
        "count  32561.000000    32561.000000   32561.000000  32561.000000   \n",
        "mean      38.581647   189778.366512      10.080679   1077.648844   \n",
        "std       13.640433   105549.977697       2.572720   7385.292085   \n",
        "min       17.000000    12285.000000       1.000000      0.000000   \n",
        "25%       28.000000   117827.000000       9.000000      0.000000   \n",
        "50%       37.000000   178356.000000      10.000000      0.000000   \n",
        "75%       48.000000   237051.000000      12.000000      0.000000   \n",
        "max       90.000000  1484705.000000      16.000000  99999.000000   \n",
        "\n",
        "       capital_loss  hours_per_week  \n",
        "count  32561.000000    32561.000000  \n",
        "mean      87.303830       40.437456  \n",
        "std      402.960219       12.347429  \n",
        "min        0.000000        1.000000  \n",
        "25%        0.000000       40.000000  \n",
        "50%        0.000000       40.000000  \n",
        "75%        0.000000       45.000000  \n",
        "max     4356.000000       99.000000  "
       ]
      }
     ],
     "prompt_number": 10
    },
    {
     "cell_type": "code",
     "collapsed": false,
     "input": [
      "dta.index"
     ],
     "language": "python",
     "metadata": {},
     "outputs": [
      {
       "metadata": {},
       "output_type": "pyout",
       "prompt_number": 11,
       "text": [
        "Int64Index([    0,     1,     2,     3,     4,     5,     6,     7,     8,\n",
        "                9, \n",
        "            ...\n",
        "            32551, 32552, 32553, 32554, 32555, 32556, 32557, 32558, 32559,\n",
        "            32560],\n",
        "           dtype='int64', length=32561)"
       ]
      }
     ],
     "prompt_number": 11
    },
    {
     "cell_type": "code",
     "collapsed": false,
     "input": [
      "dta.columns"
     ],
     "language": "python",
     "metadata": {},
     "outputs": [
      {
       "metadata": {},
       "output_type": "pyout",
       "prompt_number": 12,
       "text": [
        "Index([u'age', u'workclass', u'fnlwgt', u'education', u'education_num',\n",
        "       u'marital_status', u'occupation', u'relationship', u'race', u'sex',\n",
        "       u'capital_gain', u'capital_loss', u'hours_per_week', u'native_country',\n",
        "       u'income'],\n",
        "      dtype='object')"
       ]
      }
     ],
     "prompt_number": 12
    },
    {
     "cell_type": "code",
     "collapsed": false,
     "input": [
      "dta.columns.difference(test.columns)"
     ],
     "language": "python",
     "metadata": {},
     "outputs": [
      {
       "metadata": {},
       "output_type": "pyout",
       "prompt_number": 13,
       "text": [
        "Index([], dtype='object')"
       ]
      }
     ],
     "prompt_number": 13
    },
    {
     "cell_type": "code",
     "collapsed": false,
     "input": [
      "dta.columns.equals(test.columns)"
     ],
     "language": "python",
     "metadata": {},
     "outputs": [
      {
       "metadata": {},
       "output_type": "pyout",
       "prompt_number": 14,
       "text": [
        "True"
       ]
      }
     ],
     "prompt_number": 14
    },
    {
     "cell_type": "code",
     "collapsed": false,
     "input": [
      "dta.columns.difference(test.columns)"
     ],
     "language": "python",
     "metadata": {},
     "outputs": [
      {
       "metadata": {},
       "output_type": "pyout",
       "prompt_number": 15,
       "text": [
        "Index([], dtype='object')"
       ]
      }
     ],
     "prompt_number": 15
    },
    {
     "cell_type": "code",
     "collapsed": false,
     "input": [
      "dta.ix[[5, 10, 15]]"
     ],
     "language": "python",
     "metadata": {},
     "outputs": [
      {
       "html": [
        "<div style=\"max-height:1000px;max-width:1500px;overflow:auto;\">\n",
        "<table border=\"1\" class=\"dataframe\">\n",
        "  <thead>\n",
        "    <tr style=\"text-align: right;\">\n",
        "      <th></th>\n",
        "      <th>age</th>\n",
        "      <th>workclass</th>\n",
        "      <th>fnlwgt</th>\n",
        "      <th>education</th>\n",
        "      <th>education_num</th>\n",
        "      <th>marital_status</th>\n",
        "      <th>occupation</th>\n",
        "      <th>relationship</th>\n",
        "      <th>race</th>\n",
        "      <th>sex</th>\n",
        "      <th>capital_gain</th>\n",
        "      <th>capital_loss</th>\n",
        "      <th>hours_per_week</th>\n",
        "      <th>native_country</th>\n",
        "      <th>income</th>\n",
        "    </tr>\n",
        "  </thead>\n",
        "  <tbody>\n",
        "    <tr>\n",
        "      <th>5</th>\n",
        "      <td>37</td>\n",
        "      <td>Private</td>\n",
        "      <td>284582</td>\n",
        "      <td>Masters</td>\n",
        "      <td>14</td>\n",
        "      <td>Married-civ-spouse</td>\n",
        "      <td>Exec-managerial</td>\n",
        "      <td>Wife</td>\n",
        "      <td>White</td>\n",
        "      <td>Female</td>\n",
        "      <td>0</td>\n",
        "      <td>0</td>\n",
        "      <td>40</td>\n",
        "      <td>United-States</td>\n",
        "      <td>&lt;=50K</td>\n",
        "    </tr>\n",
        "    <tr>\n",
        "      <th>10</th>\n",
        "      <td>37</td>\n",
        "      <td>Private</td>\n",
        "      <td>280464</td>\n",
        "      <td>Some-college</td>\n",
        "      <td>10</td>\n",
        "      <td>Married-civ-spouse</td>\n",
        "      <td>Exec-managerial</td>\n",
        "      <td>Husband</td>\n",
        "      <td>Black</td>\n",
        "      <td>Male</td>\n",
        "      <td>0</td>\n",
        "      <td>0</td>\n",
        "      <td>80</td>\n",
        "      <td>United-States</td>\n",
        "      <td>&gt;50K</td>\n",
        "    </tr>\n",
        "    <tr>\n",
        "      <th>15</th>\n",
        "      <td>34</td>\n",
        "      <td>Private</td>\n",
        "      <td>245487</td>\n",
        "      <td>7th-8th</td>\n",
        "      <td>4</td>\n",
        "      <td>Married-civ-spouse</td>\n",
        "      <td>Transport-moving</td>\n",
        "      <td>Husband</td>\n",
        "      <td>Amer-Indian-Eskimo</td>\n",
        "      <td>Male</td>\n",
        "      <td>0</td>\n",
        "      <td>0</td>\n",
        "      <td>45</td>\n",
        "      <td>Mexico</td>\n",
        "      <td>&lt;=50K</td>\n",
        "    </tr>\n",
        "  </tbody>\n",
        "</table>\n",
        "</div>"
       ],
       "metadata": {},
       "output_type": "pyout",
       "prompt_number": 16,
       "text": [
        "    age workclass  fnlwgt     education  education_num      marital_status  \\\n",
        "5    37   Private  284582       Masters             14  Married-civ-spouse   \n",
        "10   37   Private  280464  Some-college             10  Married-civ-spouse   \n",
        "15   34   Private  245487       7th-8th              4  Married-civ-spouse   \n",
        "\n",
        "          occupation relationship                race     sex  capital_gain  \\\n",
        "5    Exec-managerial         Wife               White  Female             0   \n",
        "10   Exec-managerial      Husband               Black    Male             0   \n",
        "15  Transport-moving      Husband  Amer-Indian-Eskimo    Male             0   \n",
        "\n",
        "    capital_loss  hours_per_week native_country income  \n",
        "5              0              40  United-States  <=50K  \n",
        "10             0              80  United-States   >50K  \n",
        "15             0              45         Mexico  <=50K  "
       ]
      }
     ],
     "prompt_number": 16
    },
    {
     "cell_type": "code",
     "collapsed": false,
     "input": [
      "dta[[\"workclass\", \"education\"]]"
     ],
     "language": "python",
     "metadata": {},
     "outputs": [
      {
       "html": [
        "<div style=\"max-height:1000px;max-width:1500px;overflow:auto;\">\n",
        "<table border=\"1\" class=\"dataframe\">\n",
        "  <thead>\n",
        "    <tr style=\"text-align: right;\">\n",
        "      <th></th>\n",
        "      <th>workclass</th>\n",
        "      <th>education</th>\n",
        "    </tr>\n",
        "  </thead>\n",
        "  <tbody>\n",
        "    <tr>\n",
        "      <th>0</th>\n",
        "      <td>State-gov</td>\n",
        "      <td>Bachelors</td>\n",
        "    </tr>\n",
        "    <tr>\n",
        "      <th>1</th>\n",
        "      <td>Self-emp-not-inc</td>\n",
        "      <td>Bachelors</td>\n",
        "    </tr>\n",
        "    <tr>\n",
        "      <th>2</th>\n",
        "      <td>Private</td>\n",
        "      <td>HS-grad</td>\n",
        "    </tr>\n",
        "    <tr>\n",
        "      <th>3</th>\n",
        "      <td>Private</td>\n",
        "      <td>11th</td>\n",
        "    </tr>\n",
        "    <tr>\n",
        "      <th>4</th>\n",
        "      <td>Private</td>\n",
        "      <td>Bachelors</td>\n",
        "    </tr>\n",
        "    <tr>\n",
        "      <th>...</th>\n",
        "      <td>...</td>\n",
        "      <td>...</td>\n",
        "    </tr>\n",
        "    <tr>\n",
        "      <th>32556</th>\n",
        "      <td>Private</td>\n",
        "      <td>Assoc-acdm</td>\n",
        "    </tr>\n",
        "    <tr>\n",
        "      <th>32557</th>\n",
        "      <td>Private</td>\n",
        "      <td>HS-grad</td>\n",
        "    </tr>\n",
        "    <tr>\n",
        "      <th>32558</th>\n",
        "      <td>Private</td>\n",
        "      <td>HS-grad</td>\n",
        "    </tr>\n",
        "    <tr>\n",
        "      <th>32559</th>\n",
        "      <td>Private</td>\n",
        "      <td>HS-grad</td>\n",
        "    </tr>\n",
        "    <tr>\n",
        "      <th>32560</th>\n",
        "      <td>Self-emp-inc</td>\n",
        "      <td>HS-grad</td>\n",
        "    </tr>\n",
        "  </tbody>\n",
        "</table>\n",
        "<p>32561 rows \u00d7 2 columns</p>\n",
        "</div>"
       ],
       "metadata": {},
       "output_type": "pyout",
       "prompt_number": 17,
       "text": [
        "              workclass   education\n",
        "0             State-gov   Bachelors\n",
        "1      Self-emp-not-inc   Bachelors\n",
        "2               Private     HS-grad\n",
        "3               Private        11th\n",
        "4               Private   Bachelors\n",
        "...                 ...         ...\n",
        "32556           Private  Assoc-acdm\n",
        "32557           Private     HS-grad\n",
        "32558           Private     HS-grad\n",
        "32559           Private     HS-grad\n",
        "32560      Self-emp-inc     HS-grad\n",
        "\n",
        "[32561 rows x 2 columns]"
       ]
      }
     ],
     "prompt_number": 17
    },
    {
     "cell_type": "code",
     "collapsed": false,
     "input": [
      "type(dta[[\"workclass\"]])"
     ],
     "language": "python",
     "metadata": {},
     "outputs": [
      {
       "metadata": {},
       "output_type": "pyout",
       "prompt_number": 18,
       "text": [
        "pandas.core.frame.DataFrame"
       ]
      }
     ],
     "prompt_number": 18
    },
    {
     "cell_type": "code",
     "collapsed": false,
     "input": [
      "type(dta[\"workclass\"])"
     ],
     "language": "python",
     "metadata": {},
     "outputs": [
      {
       "metadata": {},
       "output_type": "pyout",
       "prompt_number": 19,
       "text": [
        "pandas.core.series.Series"
       ]
      }
     ],
     "prompt_number": 19
    },
    {
     "cell_type": "code",
     "collapsed": false,
     "input": [
      "dta.ix[[5, 10, 15], [\"workclass\", \"education\"]]"
     ],
     "language": "python",
     "metadata": {},
     "outputs": [
      {
       "html": [
        "<div style=\"max-height:1000px;max-width:1500px;overflow:auto;\">\n",
        "<table border=\"1\" class=\"dataframe\">\n",
        "  <thead>\n",
        "    <tr style=\"text-align: right;\">\n",
        "      <th></th>\n",
        "      <th>workclass</th>\n",
        "      <th>education</th>\n",
        "    </tr>\n",
        "  </thead>\n",
        "  <tbody>\n",
        "    <tr>\n",
        "      <th>5</th>\n",
        "      <td>Private</td>\n",
        "      <td>Masters</td>\n",
        "    </tr>\n",
        "    <tr>\n",
        "      <th>10</th>\n",
        "      <td>Private</td>\n",
        "      <td>Some-college</td>\n",
        "    </tr>\n",
        "    <tr>\n",
        "      <th>15</th>\n",
        "      <td>Private</td>\n",
        "      <td>7th-8th</td>\n",
        "    </tr>\n",
        "  </tbody>\n",
        "</table>\n",
        "</div>"
       ],
       "metadata": {},
       "output_type": "pyout",
       "prompt_number": 20,
       "text": [
        "   workclass     education\n",
        "5    Private       Masters\n",
        "10   Private  Some-college\n",
        "15   Private       7th-8th"
       ]
      }
     ],
     "prompt_number": 20
    },
    {
     "cell_type": "code",
     "collapsed": false,
     "input": [
      "dta.groupby(\"income\").education.describe()"
     ],
     "language": "python",
     "metadata": {},
     "outputs": [
      {
       "metadata": {},
       "output_type": "pyout",
       "prompt_number": 21,
       "text": [
        "income        \n",
        "<=50K   count         24720\n",
        "        unique           16\n",
        "        top         HS-grad\n",
        "        freq           8826\n",
        ">50K    count          7841\n",
        "        unique           15\n",
        "        top       Bachelors\n",
        "        freq           2221\n",
        "dtype: object"
       ]
      }
     ],
     "prompt_number": 21
    },
    {
     "cell_type": "code",
     "collapsed": false,
     "input": [
      "grouper = dta.groupby(\"education\")"
     ],
     "language": "python",
     "metadata": {},
     "outputs": [],
     "prompt_number": 22
    },
    {
     "cell_type": "code",
     "collapsed": false,
     "input": [
      "grouper"
     ],
     "language": "python",
     "metadata": {},
     "outputs": [
      {
       "metadata": {},
       "output_type": "pyout",
       "prompt_number": 23,
       "text": [
        "<pandas.core.groupby.DataFrameGroupBy object at 0x10badac90>"
       ]
      }
     ],
     "prompt_number": 23
    },
    {
     "cell_type": "code",
     "collapsed": false,
     "input": [
      "education_map = grouper.education_num.unique()\n",
      "education_map.sort()\n",
      "\n",
      "with pd.option_context(\"max_rows\", 20):\n",
      "    print(education_map)"
     ],
     "language": "python",
     "metadata": {},
     "outputs": [
      {
       "output_type": "stream",
       "stream": "stdout",
       "text": [
        "education\n",
        "Preschool        [1]\n",
        "1st-4th          [2]\n",
        "5th-6th          [3]\n",
        "7th-8th          [4]\n",
        "9th              [5]\n",
        "10th             [6]\n",
        "11th             [7]\n",
        "12th             [8]\n",
        "HS-grad          [9]\n",
        "Some-college    [10]\n",
        "Assoc-voc       [11]\n",
        "Assoc-acdm      [12]\n",
        "Bachelors       [13]\n",
        "Masters         [14]\n",
        "Prof-school     [15]\n",
        "Doctorate       [16]\n",
        "Name: education_num, dtype: object\n"
       ]
      }
     ],
     "prompt_number": 24
    },
    {
     "cell_type": "code",
     "collapsed": false,
     "input": [
      "grouper.education_num.apply(lambda x : x.unique()[0])\n",
      "education_map.sort()\n",
      "\n",
      "with pd.option_context(\"max_rows\", 20):\n",
      "    print(education_map)"
     ],
     "language": "python",
     "metadata": {},
     "outputs": [
      {
       "output_type": "stream",
       "stream": "stdout",
       "text": [
        "education\n",
        "Preschool        [1]\n",
        "1st-4th          [2]\n",
        "5th-6th          [3]\n",
        "7th-8th          [4]\n",
        "9th              [5]\n",
        "10th             [6]\n",
        "11th             [7]\n",
        "12th             [8]\n",
        "HS-grad          [9]\n",
        "Some-college    [10]\n",
        "Assoc-voc       [11]\n",
        "Assoc-acdm      [12]\n",
        "Bachelors       [13]\n",
        "Masters         [14]\n",
        "Prof-school     [15]\n",
        "Doctorate       [16]\n",
        "Name: education_num, dtype: object\n"
       ]
      }
     ],
     "prompt_number": 25
    },
    {
     "cell_type": "code",
     "collapsed": false,
     "input": [
      "ax = dta.groupby(\"education\").size().plot(kind=\"barh\", figsize=(8, 8))\n",
      "\n",
      "# ax.set_xticklabels([])  # turn off x tick labels\n",
      "\n",
      "# resize y label\n",
      "ylabel = ax.yaxis.get_label()\n",
      "ylabel.set_fontsize(24)\n",
      "\n",
      "# resize x tick labels\n",
      "labels = ax.yaxis.get_ticklabels()\n",
      "[label.set_fontsize(20) for label in labels];\n",
      "\n",
      "# resize y tick labels\n",
      "labels = ax.xaxis.get_ticklabels()\n",
      "[label.set_fontsize(20) for label in labels]\n",
      "[label.set_rotation(-45) for label in labels];"
     ],
     "language": "python",
     "metadata": {},
     "outputs": [
      {
       "metadata": {},
       "output_type": "display_data",
       "png": "[encoded data removed]",
       "text": [
        "<matplotlib.figure.Figure at 0x10cde0a10>"
       ]
      }
     ],
     "prompt_number": 26
    },
    {
     "cell_type": "code",
     "collapsed": false,
     "input": [
      "import seaborn as sns"
     ],
     "language": "python",
     "metadata": {},
     "outputs": [],
     "prompt_number": 27
    },
    {
     "cell_type": "code",
     "collapsed": false,
     "input": [
      "g = sns.factorplot(\"education_num\", \"hours_per_week\", hue=\"sex\", col=\"income\", data=dta)"
     ],
     "language": "python",
     "metadata": {},
     "outputs": [
      {
       "metadata": {},
       "output_type": "display_data",
       "png": "[encoded data removed]",
       "text": [
        "<matplotlib.figure.Figure at 0x10c2dbed0>"
       ]
      }
     ],
     "prompt_number": 28
    },
    {
     "cell_type": "code",
     "collapsed": false,
     "input": [
      "del dta[\"education\"]\n",
      "del dta[\"fnlwgt\"]\n",
      "del test[\"education\"]\n",
      "del test[\"fnlwgt\"]"
     ],
     "language": "python",
     "metadata": {},
     "outputs": [],
     "prompt_number": 29
    },
    {
     "cell_type": "code",
     "collapsed": false,
     "input": [
      "dta.education_num <= 8"
     ],
     "language": "python",
     "metadata": {},
     "outputs": [
      {
       "metadata": {},
       "output_type": "pyout",
       "prompt_number": 30,
       "text": [
        "0        False\n",
        "1        False\n",
        "2        False\n",
        "3         True\n",
        "4        False\n",
        "         ...  \n",
        "32556    False\n",
        "32557    False\n",
        "32558    False\n",
        "32559    False\n",
        "32560    False\n",
        "Name: education_num, dtype: bool"
       ]
      }
     ],
     "prompt_number": 30
    },
    {
     "cell_type": "code",
     "collapsed": false,
     "input": [
      "dta.ix[dta.education_num <= 8, \"education_num\"]"
     ],
     "language": "python",
     "metadata": {},
     "outputs": [
      {
       "metadata": {},
       "output_type": "pyout",
       "prompt_number": 31,
       "text": [
        "3        7\n",
        "6        5\n",
        "15       4\n",
        "18       7\n",
        "22       5\n",
        "        ..\n",
        "32517    4\n",
        "32522    7\n",
        "32526    6\n",
        "32535    8\n",
        "32551    6\n",
        "Name: education_num, dtype: int64"
       ]
      }
     ],
     "prompt_number": 31
    },
    {
     "cell_type": "code",
     "collapsed": false,
     "input": [
      "dta.ix[dta.education_num <= 8, \"education_num\"].iloc[0]"
     ],
     "language": "python",
     "metadata": {},
     "outputs": [
      {
       "metadata": {},
       "output_type": "pyout",
       "prompt_number": 32,
       "text": [
        "7"
       ]
      }
     ],
     "prompt_number": 32
    },
    {
     "cell_type": "code",
     "collapsed": false,
     "input": [
      "dta.ix[dta.education_num <= 8, \"education_num\"].loc[3]"
     ],
     "language": "python",
     "metadata": {},
     "outputs": [
      {
       "metadata": {},
       "output_type": "pyout",
       "prompt_number": 33,
       "text": [
        "7"
       ]
      }
     ],
     "prompt_number": 33
    },
    {
     "cell_type": "code",
     "collapsed": false,
     "input": [
      "dta.groupby(\"workclass\").age.mean()"
     ],
     "language": "python",
     "metadata": {},
     "outputs": [
      {
       "metadata": {},
       "output_type": "pyout",
       "prompt_number": 34,
       "text": [
        "workclass\n",
        "?                   40.960240\n",
        "Federal-gov         42.590625\n",
        "Local-gov           41.751075\n",
        "Never-worked        20.571429\n",
        "Private             36.797585\n",
        "Self-emp-inc        46.017025\n",
        "Self-emp-not-inc    44.969697\n",
        "State-gov           39.436055\n",
        "Without-pay         47.785714\n",
        "Name: age, dtype: float64"
       ]
      }
     ],
     "prompt_number": 34
    },
    {
     "cell_type": "code",
     "collapsed": false,
     "input": [
      "dta.groupby(\"workclass\").age.mean().ix[\"Federal-gov\":\"Private\"]"
     ],
     "language": "python",
     "metadata": {},
     "outputs": [
      {
       "metadata": {},
       "output_type": "pyout",
       "prompt_number": 35,
       "text": [
        "workclass\n",
        "Federal-gov     42.590625\n",
        "Local-gov       41.751075\n",
        "Never-worked    20.571429\n",
        "Private         36.797585\n",
        "Name: age, dtype: float64"
       ]
      }
     ],
     "prompt_number": 35
    },
    {
     "cell_type": "code",
     "collapsed": false,
     "input": [
      "dta.filter(regex=\"capital\")"
     ],
     "language": "python",
     "metadata": {},
     "outputs": [
      {
       "html": [
        "<div style=\"max-height:1000px;max-width:1500px;overflow:auto;\">\n",
        "<table border=\"1\" class=\"dataframe\">\n",
        "  <thead>\n",
        "    <tr style=\"text-align: right;\">\n",
        "      <th></th>\n",
        "      <th>capital_gain</th>\n",
        "      <th>capital_loss</th>\n",
        "    </tr>\n",
        "  </thead>\n",
        "  <tbody>\n",
        "    <tr>\n",
        "      <th>0</th>\n",
        "      <td>2174</td>\n",
        "      <td>0</td>\n",
        "    </tr>\n",
        "    <tr>\n",
        "      <th>1</th>\n",
        "      <td>0</td>\n",
        "      <td>0</td>\n",
        "    </tr>\n",
        "    <tr>\n",
        "      <th>2</th>\n",
        "      <td>0</td>\n",
        "      <td>0</td>\n",
        "    </tr>\n",
        "    <tr>\n",
        "      <th>3</th>\n",
        "      <td>0</td>\n",
        "      <td>0</td>\n",
        "    </tr>\n",
        "    <tr>\n",
        "      <th>4</th>\n",
        "      <td>0</td>\n",
        "      <td>0</td>\n",
        "    </tr>\n",
        "    <tr>\n",
        "      <th>...</th>\n",
        "      <td>...</td>\n",
        "      <td>...</td>\n",
        "    </tr>\n",
        "    <tr>\n",
        "      <th>32556</th>\n",
        "      <td>0</td>\n",
        "      <td>0</td>\n",
        "    </tr>\n",
        "    <tr>\n",
        "      <th>32557</th>\n",
        "      <td>0</td>\n",
        "      <td>0</td>\n",
        "    </tr>\n",
        "    <tr>\n",
        "      <th>32558</th>\n",
        "      <td>0</td>\n",
        "      <td>0</td>\n",
        "    </tr>\n",
        "    <tr>\n",
        "      <th>32559</th>\n",
        "      <td>0</td>\n",
        "      <td>0</td>\n",
        "    </tr>\n",
        "    <tr>\n",
        "      <th>32560</th>\n",
        "      <td>15024</td>\n",
        "      <td>0</td>\n",
        "    </tr>\n",
        "  </tbody>\n",
        "</table>\n",
        "<p>32561 rows \u00d7 2 columns</p>\n",
        "</div>"
       ],
       "metadata": {},
       "output_type": "pyout",
       "prompt_number": 36,
       "text": [
        "       capital_gain  capital_loss\n",
        "0              2174             0\n",
        "1                 0             0\n",
        "2                 0             0\n",
        "3                 0             0\n",
        "4                 0             0\n",
        "...             ...           ...\n",
        "32556             0             0\n",
        "32557             0             0\n",
        "32558             0             0\n",
        "32559             0             0\n",
        "32560         15024             0\n",
        "\n",
        "[32561 rows x 2 columns]"
       ]
      }
     ],
     "prompt_number": 36
    },
    {
     "cell_type": "code",
     "collapsed": false,
     "input": [
      "cat = pd.Categorical(dta.workclass)\n",
      "cat.describe()"
     ],
     "language": "python",
     "metadata": {},
     "outputs": [
      {
       "html": [
        "<div style=\"max-height:1000px;max-width:1500px;overflow:auto;\">\n",
        "<table border=\"1\" class=\"dataframe\">\n",
        "  <thead>\n",
        "    <tr style=\"text-align: right;\">\n",
        "      <th></th>\n",
        "      <th>counts</th>\n",
        "      <th>freqs</th>\n",
        "    </tr>\n",
        "    <tr>\n",
        "      <th>categories</th>\n",
        "      <th></th>\n",
        "      <th></th>\n",
        "    </tr>\n",
        "  </thead>\n",
        "  <tbody>\n",
        "    <tr>\n",
        "      <th>?</th>\n",
        "      <td>1836</td>\n",
        "      <td>0.056386</td>\n",
        "    </tr>\n",
        "    <tr>\n",
        "      <th>Federal-gov</th>\n",
        "      <td>960</td>\n",
        "      <td>0.029483</td>\n",
        "    </tr>\n",
        "    <tr>\n",
        "      <th>Local-gov</th>\n",
        "      <td>2093</td>\n",
        "      <td>0.064279</td>\n",
        "    </tr>\n",
        "    <tr>\n",
        "      <th>Never-worked</th>\n",
        "      <td>7</td>\n",
        "      <td>0.000215</td>\n",
        "    </tr>\n",
        "    <tr>\n",
        "      <th>Private</th>\n",
        "      <td>22696</td>\n",
        "      <td>0.697030</td>\n",
        "    </tr>\n",
        "    <tr>\n",
        "      <th>Self-emp-inc</th>\n",
        "      <td>1116</td>\n",
        "      <td>0.034274</td>\n",
        "    </tr>\n",
        "    <tr>\n",
        "      <th>Self-emp-not-inc</th>\n",
        "      <td>2541</td>\n",
        "      <td>0.078038</td>\n",
        "    </tr>\n",
        "    <tr>\n",
        "      <th>State-gov</th>\n",
        "      <td>1298</td>\n",
        "      <td>0.039864</td>\n",
        "    </tr>\n",
        "    <tr>\n",
        "      <th>Without-pay</th>\n",
        "      <td>14</td>\n",
        "      <td>0.000430</td>\n",
        "    </tr>\n",
        "  </tbody>\n",
        "</table>\n",
        "</div>"
       ],
       "metadata": {},
       "output_type": "pyout",
       "prompt_number": 37,
       "text": [
        "                  counts     freqs\n",
        "categories                        \n",
        "?                   1836  0.056386\n",
        "Federal-gov          960  0.029483\n",
        "Local-gov           2093  0.064279\n",
        "Never-worked           7  0.000215\n",
        "Private            22696  0.697030\n",
        "Self-emp-inc        1116  0.034274\n",
        "Self-emp-not-inc    2541  0.078038\n",
        "State-gov           1298  0.039864\n",
        "Without-pay           14  0.000430"
       ]
      }
     ],
     "prompt_number": 37
    },
    {
     "cell_type": "code",
     "collapsed": false,
     "input": [
      "cat"
     ],
     "language": "python",
     "metadata": {},
     "outputs": [
      {
       "metadata": {},
       "output_type": "pyout",
       "prompt_number": 39,
       "text": [
        "[State-gov, Self-emp-not-inc, Private, Private, Private, ..., Private, Private, Private, Private, Self-emp-inc]\n",
        "Name: workclass, Length: 32561\n",
        "Categories (9, object): [?, Federal-gov, Local-gov, Never-worked, ..., Self-emp-inc, Self-emp-not-inc, State-gov, Without-pay]"
       ]
      }
     ],
     "prompt_number": 39
    },
    {
     "cell_type": "code",
     "collapsed": false,
     "input": [
      "cat.categories"
     ],
     "language": "python",
     "metadata": {},
     "outputs": [
      {
       "metadata": {},
       "output_type": "pyout",
       "prompt_number": 41,
       "text": [
        "Index([u'?', u'Federal-gov', u'Local-gov', u'Never-worked', u'Private',\n",
        "       u'Self-emp-inc', u'Self-emp-not-inc', u'State-gov', u'Without-pay'],\n",
        "      dtype='object', name=u'categories')"
       ]
      }
     ],
     "prompt_number": 41
    },
    {
     "cell_type": "code",
     "collapsed": false,
     "input": [
      "cat.codes"
     ],
     "language": "python",
     "metadata": {},
     "outputs": [
      {
       "metadata": {},
       "output_type": "pyout",
       "prompt_number": 42,
       "text": [
        "array([7, 6, 4, ..., 4, 4, 5], dtype=int8)"
       ]
      }
     ],
     "prompt_number": 42
    },
    {
     "cell_type": "code",
     "collapsed": false,
     "input": [
      "dta.workclass.str.contains(\"\\?\")"
     ],
     "language": "python",
     "metadata": {},
     "outputs": [
      {
       "metadata": {},
       "output_type": "pyout",
       "prompt_number": 43,
       "text": [
        "0        False\n",
        "1        False\n",
        "2        False\n",
        "3        False\n",
        "4        False\n",
        "         ...  \n",
        "32556    False\n",
        "32557    False\n",
        "32558    False\n",
        "32559    False\n",
        "32560    False\n",
        "Name: workclass, dtype: bool"
       ]
      }
     ],
     "prompt_number": 43
    },
    {
     "cell_type": "code",
     "collapsed": false,
     "input": [
      "dta.ix[dta.workclass.str.contains(\"\\?\"), \"workclass\"]"
     ],
     "language": "python",
     "metadata": {},
     "outputs": [
      {
       "metadata": {},
       "output_type": "pyout",
       "prompt_number": 44,
       "text": [
        "27       ?\n",
        "61       ?\n",
        "69       ?\n",
        "77       ?\n",
        "106      ?\n",
        "        ..\n",
        "32530    ?\n",
        "32531    ?\n",
        "32539    ?\n",
        "32541    ?\n",
        "32542    ?\n",
        "Name: workclass, dtype: object"
       ]
      }
     ],
     "prompt_number": 44
    },
    {
     "cell_type": "code",
     "collapsed": false,
     "input": [
      "dta.workclass.unique()"
     ],
     "language": "python",
     "metadata": {},
     "outputs": [
      {
       "metadata": {},
       "output_type": "pyout",
       "prompt_number": 45,
       "text": [
        "array(['State-gov', 'Self-emp-not-inc', 'Private', 'Federal-gov',\n",
        "       'Local-gov', '?', 'Self-emp-inc', 'Without-pay', 'Never-worked'], dtype=object)"
       ]
      }
     ],
     "prompt_number": 45
    },
    {
     "cell_type": "code",
     "collapsed": false,
     "input": [
      "for col in dta:  # iterate through column names\n",
      "    # only look at object types\n",
      "    if not dta[col].dtype.kind == \"O\":\n",
      "        continue\n",
      "    \n",
      "    # Replace \"?\" with \"Other\"\n",
      "    if dta[col].str.contains(\"\\?\").any():\n",
      "        dta.ix[dta[col].str.contains(\"\\?\"), col] = \"Other\"\n",
      "        test.ix[test[col].str.contains(\"\\?\"), col] = \"Other\""
     ],
     "language": "python",
     "metadata": {},
     "outputs": [],
     "prompt_number": 46
    },
    {
     "cell_type": "code",
     "collapsed": false,
     "input": [
      "dta.workclass.unique()"
     ],
     "language": "python",
     "metadata": {},
     "outputs": [
      {
       "metadata": {},
       "output_type": "pyout",
       "prompt_number": 47,
       "text": [
        "array(['State-gov', 'Self-emp-not-inc', 'Private', 'Federal-gov',\n",
        "       'Local-gov', 'Other', 'Self-emp-inc', 'Without-pay', 'Never-worked'], dtype=object)"
       ]
      }
     ],
     "prompt_number": 47
    },
    {
     "cell_type": "code",
     "collapsed": false,
     "input": [
      "dta.income"
     ],
     "language": "python",
     "metadata": {},
     "outputs": [
      {
       "metadata": {},
       "output_type": "pyout",
       "prompt_number": 48,
       "text": [
        "0        <=50K\n",
        "1        <=50K\n",
        "2        <=50K\n",
        "3        <=50K\n",
        "4        <=50K\n",
        "         ...  \n",
        "32556    <=50K\n",
        "32557     >50K\n",
        "32558    <=50K\n",
        "32559    <=50K\n",
        "32560     >50K\n",
        "Name: income, dtype: object"
       ]
      }
     ],
     "prompt_number": 48
    },
    {
     "cell_type": "code",
     "collapsed": false,
     "input": [
      "dta.income.replace({\"<=50K\": 0, \">50K\": 1})"
     ],
     "language": "python",
     "metadata": {},
     "outputs": [
      {
       "metadata": {},
       "output_type": "pyout",
       "prompt_number": 49,
       "text": [
        "0        0\n",
        "1        0\n",
        "2        0\n",
        "3        0\n",
        "4        0\n",
        "        ..\n",
        "32556    0\n",
        "32557    1\n",
        "32558    0\n",
        "32559    0\n",
        "32560    1\n",
        "Name: income, dtype: int64"
       ]
      }
     ],
     "prompt_number": 49
    },
    {
     "cell_type": "code",
     "collapsed": false,
     "input": [
      "dta.income.replace({\"<=50K\": 0, \">50K\": 1}, inplace=True)"
     ],
     "language": "python",
     "metadata": {},
     "outputs": [],
     "prompt_number": 50
    },
    {
     "cell_type": "code",
     "collapsed": false,
     "input": [
      "test.income.replace({\"<=50K.\": 0, \">50K.\": 1}, inplace=True)"
     ],
     "language": "python",
     "metadata": {},
     "outputs": [],
     "prompt_number": 51
    },
    {
     "cell_type": "code",
     "collapsed": false,
     "input": [
      "dta.income.mean()"
     ],
     "language": "python",
     "metadata": {},
     "outputs": [
      {
       "metadata": {},
       "output_type": "pyout",
       "prompt_number": 52,
       "text": [
        "0.24080955744602439"
       ]
      }
     ],
     "prompt_number": 52
    },
    {
     "cell_type": "code",
     "collapsed": false,
     "input": [
      "test.income.mean()"
     ],
     "language": "python",
     "metadata": {},
     "outputs": [
      {
       "metadata": {},
       "output_type": "pyout",
       "prompt_number": 53,
       "text": [
        "0.23622627602727106"
       ]
      }
     ],
     "prompt_number": 53
    },
    {
     "cell_type": "markdown",
     "metadata": {},
     "source": [
      "#Classification with Scikit-Learn\n",
      "Scikit-Learn API\n",
      "\n",
      "Base object is the estimator\n",
      "\n",
      "Any object that learns from data\n",
      "\n",
      "Classification, regression, clustering, or transformer\n",
      "\n",
      "parameters passed to estimator\n",
      "\n",
      "estimator = Estimator(*args, **kwargs)\n",
      "\n",
      "fit method provided\n",
      "\n",
      "estimator.fit(X, y)\n",
      "\n",
      "Computed parameters have an underscore appended\n",
      "\n",
      "estimator.coef_\n",
      "\n",
      "Preparing the Data\n",
      "\n",
      "scikit-learn works with numerical data\n"
     ]
    },
    {
     "cell_type": "code",
     "collapsed": false,
     "input": [
      "y = dta.pop(\"income\")\n",
      "y_test = test.pop(\"income\")"
     ],
     "language": "python",
     "metadata": {},
     "outputs": [],
     "prompt_number": 55
    },
    {
     "cell_type": "code",
     "collapsed": false,
     "input": [
      "from sklearn.preprocessing import LabelBinarizer"
     ],
     "language": "python",
     "metadata": {},
     "outputs": [],
     "prompt_number": 57
    },
    {
     "cell_type": "code",
     "collapsed": false,
     "input": [
      "dta.native_country.head(15).values"
     ],
     "language": "python",
     "metadata": {},
     "outputs": [
      {
       "metadata": {},
       "output_type": "pyout",
       "prompt_number": 58,
       "text": [
        "array(['United-States', 'United-States', 'United-States', 'United-States',\n",
        "       'Cuba', 'United-States', 'Jamaica', 'United-States',\n",
        "       'United-States', 'United-States', 'United-States', 'India',\n",
        "       'United-States', 'United-States', 'Other'], dtype=object)"
       ]
      }
     ],
     "prompt_number": 58
    },
    {
     "cell_type": "code",
     "collapsed": false,
     "input": [
      "binarizer = LabelBinarizer()"
     ],
     "language": "python",
     "metadata": {},
     "outputs": [],
     "prompt_number": 59
    },
    {
     "cell_type": "code",
     "collapsed": false,
     "input": [
      "binarizer.fit_transform(dta.native_country.head(15))"
     ],
     "language": "python",
     "metadata": {},
     "outputs": [
      {
       "metadata": {},
       "output_type": "pyout",
       "prompt_number": 60,
       "text": [
        "array([[0, 0, 0, 0, 1],\n",
        "       [0, 0, 0, 0, 1],\n",
        "       [0, 0, 0, 0, 1],\n",
        "       [0, 0, 0, 0, 1],\n",
        "       [1, 0, 0, 0, 0],\n",
        "       [0, 0, 0, 0, 1],\n",
        "       [0, 0, 1, 0, 0],\n",
        "       [0, 0, 0, 0, 1],\n",
        "       [0, 0, 0, 0, 1],\n",
        "       [0, 0, 0, 0, 1],\n",
        "       [0, 0, 0, 0, 1],\n",
        "       [0, 1, 0, 0, 0],\n",
        "       [0, 0, 0, 0, 1],\n",
        "       [0, 0, 0, 0, 1],\n",
        "       [0, 0, 0, 1, 0]])"
       ]
      }
     ],
     "prompt_number": 60
    },
    {
     "cell_type": "code",
     "collapsed": false,
     "input": [
      "binarizer.classes_"
     ],
     "language": "python",
     "metadata": {},
     "outputs": [
      {
       "metadata": {},
       "output_type": "pyout",
       "prompt_number": 61,
       "text": [
        "array(['Cuba', 'India', 'Jamaica', 'Other', 'United-States'], \n",
        "      dtype='|S13')"
       ]
      }
     ],
     "prompt_number": 61
    },
    {
     "cell_type": "code",
     "collapsed": false,
     "input": [
      "X_train = pd.get_dummies(dta)"
     ],
     "language": "python",
     "metadata": {},
     "outputs": [],
     "prompt_number": 62
    },
    {
     "cell_type": "code",
     "collapsed": false,
     "input": [
      "X_test = pd.get_dummies(test)"
     ],
     "language": "python",
     "metadata": {},
     "outputs": [],
     "prompt_number": 63
    },
    {
     "cell_type": "code",
     "collapsed": false,
     "input": [
      "X_train.columns.equals(X_test.columns)"
     ],
     "language": "python",
     "metadata": {},
     "outputs": [
      {
       "metadata": {},
       "output_type": "pyout",
       "prompt_number": 64,
       "text": [
        "False"
       ]
      }
     ],
     "prompt_number": 64
    },
    {
     "cell_type": "code",
     "collapsed": false,
     "input": [
      "print(X_train.shape)\n",
      "print(X_test.shape)"
     ],
     "language": "python",
     "metadata": {},
     "outputs": [
      {
       "output_type": "stream",
       "stream": "stdout",
       "text": [
        "(32561, 91)\n",
        "(16281, 90)\n"
       ]
      }
     ],
     "prompt_number": 65
    },
    {
     "cell_type": "code",
     "collapsed": false,
     "input": [
      "X_train.columns.difference(X_test.columns)"
     ],
     "language": "python",
     "metadata": {},
     "outputs": [
      {
       "metadata": {},
       "output_type": "pyout",
       "prompt_number": 66,
       "text": [
        "Index([u'native_country_Holand-Netherlands'], dtype='object')"
       ]
      }
     ],
     "prompt_number": 66
    },
    {
     "cell_type": "code",
     "collapsed": false,
     "input": [
      "X_test[X_train.columns.difference(X_test.columns)[0]] = 0"
     ],
     "language": "python",
     "metadata": {},
     "outputs": [],
     "prompt_number": 67
    },
    {
     "cell_type": "code",
     "collapsed": false,
     "input": [
      "X_test = X_test[X_train.columns]"
     ],
     "language": "python",
     "metadata": {},
     "outputs": [],
     "prompt_number": 68
    },
    {
     "cell_type": "code",
     "collapsed": false,
     "input": [
      "from sklearn.tree import DecisionTreeClassifier, export_graphviz"
     ],
     "language": "python",
     "metadata": {},
     "outputs": [],
     "prompt_number": 69
    },
    {
     "cell_type": "code",
     "collapsed": false,
     "input": [
      "dtree = DecisionTreeClassifier(random_state=0, max_depth=2)"
     ],
     "language": "python",
     "metadata": {},
     "outputs": [],
     "prompt_number": 70
    },
    {
     "cell_type": "code",
     "collapsed": false,
     "input": [
      "dtree.fit(X_train, y)"
     ],
     "language": "python",
     "metadata": {},
     "outputs": [
      {
       "metadata": {},
       "output_type": "pyout",
       "prompt_number": 71,
       "text": [
        "DecisionTreeClassifier(compute_importances=None, criterion='gini',\n",
        "            max_depth=2, max_features=None, max_leaf_nodes=None,\n",
        "            min_density=None, min_samples_leaf=1, min_samples_split=2,\n",
        "            random_state=0, splitter='best')"
       ]
      }
     ],
     "prompt_number": 71
    },
    {
     "cell_type": "code",
     "collapsed": false,
     "input": [
      "export_graphviz(dtree, feature_names=X_train.columns)"
     ],
     "language": "python",
     "metadata": {},
     "outputs": [],
     "prompt_number": 72
    },
    {
     "cell_type": "code",
     "collapsed": false,
     "input": [
      "from IPython.display import Image"
     ],
     "language": "python",
     "metadata": {},
     "outputs": [],
     "prompt_number": 74
    },
    {
     "cell_type": "code",
     "collapsed": false,
     "input": [
      "dtree = DecisionTreeClassifier(criterion='entropy', random_state=0)\n",
      "dtree.fit(X_train, y)"
     ],
     "language": "python",
     "metadata": {},
     "outputs": [
      {
       "metadata": {},
       "output_type": "pyout",
       "prompt_number": 77,
       "text": [
        "DecisionTreeClassifier(compute_importances=None, criterion='entropy',\n",
        "            max_depth=None, max_features=None, max_leaf_nodes=None,\n",
        "            min_density=None, min_samples_leaf=1, min_samples_split=2,\n",
        "            random_state=0, splitter='best')"
       ]
      }
     ],
     "prompt_number": 77
    },
    {
     "cell_type": "code",
     "collapsed": false,
     "input": [
      "from sklearn import metrics"
     ],
     "language": "python",
     "metadata": {},
     "outputs": [],
     "prompt_number": 78
    },
    {
     "cell_type": "code",
     "collapsed": false,
     "input": [
      "metrics.mean_absolute_error(y_test, dtree.predict(X_test))"
     ],
     "language": "python",
     "metadata": {},
     "outputs": [
      {
       "metadata": {},
       "output_type": "pyout",
       "prompt_number": 79,
       "text": [
        "0.1768318899330508"
       ]
      }
     ],
     "prompt_number": 79
    },
    {
     "cell_type": "code",
     "collapsed": false,
     "input": [
      "dtree = DecisionTreeClassifier(criterion='entropy', random_state=0, max_depth=10)\n",
      "dtree.fit(X_train, y)\n",
      "metrics.mean_absolute_error(y_test, dtree.predict(X_test))"
     ],
     "language": "python",
     "metadata": {},
     "outputs": [
      {
       "metadata": {},
       "output_type": "pyout",
       "prompt_number": 80,
       "text": [
        "0.13899637614397151"
       ]
      }
     ],
     "prompt_number": 80
    },
    {
     "cell_type": "code",
     "collapsed": false,
     "input": [
      "import joblib"
     ],
     "language": "python",
     "metadata": {},
     "outputs": [],
     "prompt_number": 82
    },
    {
     "cell_type": "code",
     "collapsed": false,
     "input": [
      "# Create a random dataset\n",
      "\n",
      "import numpy as np\n",
      "rng = np.random.RandomState(1)\n",
      "groundX = np.sort(rng.uniform(0, 10, size=250), axis=0)\n",
      "groundy = np.linspace(1, -1, 250) + np.sin(2*groundX).ravel()\n",
      "idx = np.random.randint(0, 250, size=30)\n",
      "idx.sort()\n",
      "XX = groundX[idx]\n",
      "yy = groundy[idx]\n",
      "XX = XX[:, np.newaxis]"
     ],
     "language": "python",
     "metadata": {},
     "outputs": [],
     "prompt_number": 83
    },
    {
     "cell_type": "code",
     "collapsed": false,
     "input": [
      "from sklearn.tree import DecisionTreeRegressor\n",
      "tree1 = DecisionTreeRegressor(max_depth=2)\n",
      "\n",
      "tree1.fit(XX, yy)\n",
      "y1 = tree1.predict(XX)\n",
      "\n",
      "resid1 = yy - y1\n",
      "tree1.fit(XX, resid1)\n",
      "\n",
      "y2 = tree1.predict(XX)\n",
      "resid2 = y2 - resid1\n",
      "tree1.fit(XX, resid2)\n",
      "\n",
      "y3 = tree1.predict(XX)"
     ],
     "language": "python",
     "metadata": {},
     "outputs": [],
     "prompt_number": 84
    },
    {
     "cell_type": "code",
     "collapsed": false,
     "input": [
      "fig, ax = plt.subplots(4, 1, figsize=(6, 18), sharey=True, sharex=True)\n",
      "ax[0].plot(XX, yy, marker='o', ls='', label='observed')\n",
      "ax[0].plot(groundX, groundy, label='truth')\n",
      "ax[0].legend(fontsize=16, loc='lower left');\n",
      "ax[1].plot(XX, yy, marker='o', ls='')\n",
      "ax[1].plot(XX, y1)\n",
      "ax[2].plot(XX, resid1, marker='o', ls='')\n",
      "ax[2].plot(XX, y2)\n",
      "ax[3].plot(XX, resid2, marker='o', ls='')\n",
      "ax[3].plot(XX, y3)\n",
      "fig.suptitle(\"Residual Fitting\", fontsize=24);\n",
      "fig.tight_layout()\n",
      " "
     ],
     "language": "python",
     "metadata": {},
     "outputs": [
      {
       "metadata": {},
       "output_type": "display_data",
       "png": "[encoded data removed]",
       "text": [
        "<matplotlib.figure.Figure at 0x10c939fd0>"
       ]
      }
     ],
     "prompt_number": 85
    },
    {
     "cell_type": "code",
     "collapsed": false,
     "input": [
      "from sklearn.ensemble import GradientBoostingClassifier"
     ],
     "language": "python",
     "metadata": {},
     "outputs": [],
     "prompt_number": 86
    },
    {
     "cell_type": "code",
     "collapsed": false,
     "input": [
      "if not os.path.exists(\"models/gbt1.pkl\"):\n",
      "    gbt = GradientBoostingClassifier(max_depth=5, n_estimators=1000)\n",
      "    gbt.fit(X_train, y)\n",
      "    joblib.dump(gbt, \"models/gbt1.pkl\")\n",
      "else:\n",
      "    gbt = joblib.load(\"models/gbt1.pkl\")"
     ],
     "language": "python",
     "metadata": {},
     "outputs": [],
     "prompt_number": 87
    },
    {
     "cell_type": "code",
     "collapsed": false,
     "input": [
      "metrics.mean_absolute_error(y_test, gbt.predict(X_test))"
     ],
     "language": "python",
     "metadata": {},
     "outputs": [
      {
       "metadata": {},
       "output_type": "pyout",
       "prompt_number": 88,
       "text": [
        "0.13113445120078621"
       ]
      }
     ]
    },
    {
     "cell_type": "code",
     "collapsed": false,
     "input": [
      "if not os.path.exists(\"models/gbt2.pkl\"):\n",
      "    gbt = GradientBoostingClassifier(max_depth=8, n_estimators=1000, subsample=.5, random_state=0,\n",
      "                                    learning_rate=.001)\n",
      "    gbt.fit(X_train, y)\n",
      "    joblib.dump(gbt, \"models/gbt2.pkl\")\n",
      "else:\n",
      "    gbt = joblib.load(\"models/gbt2.pkl\")"
     ],
     "language": "python",
     "metadata": {},
     "outputs": []
    },
    {
     "cell_type": "code",
     "collapsed": false,
     "input": [
      "metrics.mean_absolute_error(y_test, gbt.predict(X_test))"
     ],
     "language": "python",
     "metadata": {},
     "outputs": []
    },
    {
     "cell_type": "code",
     "collapsed": false,
     "input": [
      "from sklearn.ensemble import RandomForestClassifier"
     ],
     "language": "python",
     "metadata": {},
     "outputs": []
    },
    {
     "cell_type": "code",
     "collapsed": false,
     "input": [
      "if not os.path.exists(\"models/rf.pkl\"):\n",
      "    rf = RandomForestClassifier(n_estimators=1000, criterion='entropy', n_jobs=4, max_depth=10)\n",
      "    rf.fit(X_train, y)\n",
      "    joblib.dump(rf, \"models/rf.pkl\")\n",
      "else:\n",
      "    rf = joblib.load(\"models/rf.pkl\")"
     ],
     "language": "python",
     "metadata": {},
     "outputs": []
    },
    {
     "cell_type": "code",
     "collapsed": false,
     "input": [
      "metrics.mean_absolute_error(y_test, rf.predict(X_test))"
     ],
     "language": "python",
     "metadata": {},
     "outputs": []
    },
    {
     "cell_type": "code",
     "collapsed": false,
     "input": [
      "if not os.path.exists(\"models/rf_full.pkl\"):\n",
      "    rf_full = RandomForestClassifier(n_estimators=1000, criterion='entropy', \n",
      "                                     n_jobs=4, max_depth=None)\n",
      "    rf_full.fit(X_train, y)\n",
      "    joblib.dump(rf, \"models/rf_full.pkl\")\n",
      "else:\n",
      "    rf_full = joblib.load(\"models/rf_full.pkl\")"
     ],
     "language": "python",
     "metadata": {},
     "outputs": []
    },
    {
     "cell_type": "code",
     "collapsed": false,
     "input": [
      "metrics.mean_absolute_error(y_test, rf_full.predict(X_test))"
     ],
     "language": "python",
     "metadata": {},
     "outputs": []
    },
    {
     "cell_type": "code",
     "collapsed": false,
     "input": [
      "rom sklearn.cross_validation import StratifiedKFold\n",
      "\n",
      "cv = StratifiedKFold([1, 1, 1, 1, 1, 1, 1, 1, 1, 1, 1,\n",
      "                      0, 0, 0, 0, 0, 0,], n_folds=3)\n",
      "for idx in cv:\n",
      "    print(\"train\", idx[0], \"test\", idx[1])"
     ],
     "language": "python",
     "metadata": {},
     "outputs": []
    },
    {
     "cell_type": "code",
     "collapsed": false,
     "input": [
      "from sklearn.grid_search import GridSearchCV\n",
      "\n",
      "cv = StratifiedKFold(y, n_folds=4)\n",
      "\n",
      "params = {\"max_depth\": [3, 5, 7]}\n",
      "gbt = GradientBoostingClassifier(n_estimators=500, learning_rate=.01)\n",
      "\n",
      "if not os.path.exists(\"models/grid_search.pkl\"):\n",
      "    estimator = GridSearchCV(gbt, param_grid=params, verbose=2)\n",
      "    estimator.fit(X_train, y)\n",
      "    joblib.dump(estimator, \"models/grid_search.pkl\")\n",
      "else:\n",
      "    estimator = joblib.load(\"models/grid_search.pkl\")"
     ],
     "language": "python",
     "metadata": {},
     "outputs": []
    },
    {
     "cell_type": "code",
     "collapsed": false,
     "input": [
      "gbt = GradientBoostingClassifier(learning_rate=.01, n_estimators=1000, subsample=.5)"
     ],
     "language": "python",
     "metadata": {},
     "outputs": []
    },
    {
     "cell_type": "code",
     "collapsed": false,
     "input": [
      "gbt.fit(X_train, y)"
     ],
     "language": "python",
     "metadata": {},
     "outputs": []
    },
    {
     "cell_type": "code",
     "collapsed": false,
     "input": [
      "metrics.mean_absolute_error(y_test, gbt.predict(X_test))"
     ],
     "language": "python",
     "metadata": {},
     "outputs": []
    },
    {
     "cell_type": "code",
     "collapsed": false,
     "input": [
      "fig, ax = plt.subplots(figsize=(10, 10))\n",
      "ax.plot(gbt.oob_improvement_)"
     ],
     "language": "python",
     "metadata": {},
     "outputs": []
    },
    {
     "cell_type": "code",
     "collapsed": false,
     "input": [
      "from sklearn.ensemble import GradientBoostingClassifier"
     ],
     "language": "python",
     "metadata": {},
     "outputs": []
    },
    {
     "cell_type": "code",
     "collapsed": false,
     "input": [
      "def monitor(i, self, local_variables):\n",
      "    start = max(0, i - 4)\n",
      "    stop = i + 1\n",
      "\n",
      "    if i > 5 and np.mean(self.oob_improvement_[start:stop]) < 1e-4:\n",
      "        print(\"Stopped at {}\".format(i))\n",
      "        return True"
     ],
     "language": "python",
     "metadata": {},
     "outputs": []
    },
    {
     "cell_type": "code",
     "collapsed": false,
     "input": [
      "gbt.fit(X_train, y, monitor=monitor)"
     ],
     "language": "python",
     "metadata": {},
     "outputs": []
    },
    {
     "cell_type": "code",
     "collapsed": false,
     "input": [
      "print(len(gbt.oob_improvement_))"
     ],
     "language": "python",
     "metadata": {},
     "outputs": []
    },
    {
     "cell_type": "code",
     "collapsed": false,
     "input": [],
     "language": "python",
     "metadata": {},
     "outputs": []
    }
   ],
   "metadata": {}
  }
 ]
}