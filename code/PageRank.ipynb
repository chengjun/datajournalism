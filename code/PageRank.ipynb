{
 "metadata": {
  "celltoolbar": "Slideshow",
  "name": "",
  "signature": "sha256:ddce946edc56d084026fee976ecee8609198b5fee0faddd435c7556d0cba494a"
 },
 "nbformat": 3,
 "nbformat_minor": 0,
 "worksheets": [
  {
   "cells": [
    {
     "cell_type": "markdown",
     "metadata": {
      "slideshow": {
       "slide_type": "slide"
      }
     },
     "source": [
      "#PageRank\n",
      "PageRank\u7b97\u6cd5\u662f\u4e92\u8054\u7f51\u53d1\u5c55\u8fc7\u7a0b\u4e2d\u7684\u4e00\u4e2a\u91cc\u7a0b\u7891\uff0c\u65af\u5766\u798f\u5927\u5b66\u7684\u4e24\u4e2a\u535a\u58eb\u751f\u51ed\u501f\u8fd9\u4e00\u53d1\u73b0\u6784\u5efa\u4e86\u8c37\u6b4c\u641c\u7d22\uff0c\u5bf9\u6574\u4e2a\u4e92\u8054\u7f51\u4ea7\u751f\u4e86\u5de8\u5927\u5f71\u54cd\u3002PageRank\u8ba9\u94fe\u63a5\u6765\"\u6295\u7968\",\u4e00\u4e2a\u9875\u9762\u7684\u201c\u5f97\u7968\u6570\u201d\u7531\u6240\u6709\u94fe\u5411\u5b83\u7684\u9875\u9762\u7684\u91cd\u8981\u6027\u6765\u51b3\u5b9a\uff0c\u5230\u4e00\u4e2a\u9875\u9762\u7684\u8d85\u94fe\u63a5\u76f8\u5f53\u4e8e\u5bf9\u8be5\u9875\u6295\u4e00\u7968\u3002\u4e00\u4e2a\u9875\u9762\u7684PageRank\u662f\u7531\u6240\u6709\u94fe\u5411\u5b83\u7684\u9875\u9762\uff08\u201c\u94fe\u5165\u9875\u9762\u201d\uff09\u7684\u91cd\u8981\u6027\u7ecf\u8fc7\u9012\u5f52\u7b97\u6cd5\u5f97\u5230\u7684\u3002\u4e00\u4e2a\u6709\u8f83\u591a\u94fe\u5165\u7684\u9875\u9762\u4f1a\u6709\u8f83\u9ad8\u7684\u7b49\u7ea7\uff0c\u76f8\u53cd\u5982\u679c\u4e00\u4e2a\u9875\u9762\u6ca1\u6709\u4efb\u4f55\u94fe\u5165\u9875\u9762\uff0c\u90a3\u4e48\u5b83\u6ca1\u6709\u7b49\u7ea7\u3002\n",
      "\n",
      "![](http://upload.wikimedia.org/wikipedia/commons/thumb/f/fb/PageRanks-Example.svg/800px-PageRanks-Example.svg.png)"
     ]
    },
    {
     "cell_type": "code",
     "collapsed": false,
     "input": [
      "import numpy as np\n"
     ],
     "language": "python",
     "metadata": {
      "slideshow": {
       "slide_type": "slide"
      }
     },
     "outputs": [],
     "prompt_number": 6
    },
    {
     "cell_type": "code",
     "collapsed": false,
     "input": [
      "#\u7b2c\u4e00\u4e2a\u4f8b\u5b50\uff1a\u65e0\u6f0f\u6d1e\n",
      "M = np.matrix([[0, 0, 1],[0.5, 0, 0],[0.5,1,0]])    \n",
      "PR= np.matrix([1, 1, 1]).transpose()\n",
      "\n",
      "for i in range(1,101):\n",
      "    PR = M*PR\n",
      "print str(i)+'\\n', PR"
     ],
     "language": "python",
     "metadata": {
      "slideshow": {
       "slide_type": "slide"
      }
     },
     "outputs": [
      {
       "output_type": "stream",
       "stream": "stdout",
       "text": [
        "100\n",
        "[[ 1.2]\n",
        " [ 0.6]\n",
        " [ 1.2]]\n"
       ]
      }
     ],
     "prompt_number": 22
    },
    {
     "cell_type": "code",
     "collapsed": false,
     "input": [
      "#\u7b2c\u4e8c\u4e2a\u4f8b\u5b50\uff1a\u5f15\u5165\u6f0f\u6d1e\n",
      "M = np.matrix([[0, 1, 1],[0, 0, 0],[0,0,0]])    \n",
      "PR= np.matrix([1, 1, 1]).transpose()\n",
      "\n",
      "for i in range(1,101):\n",
      "    PR = M*PR\n",
      "print str(i)+'\\n', PR"
     ],
     "language": "python",
     "metadata": {
      "slideshow": {
       "slide_type": "slide"
      }
     },
     "outputs": [
      {
       "output_type": "stream",
       "stream": "stdout",
       "text": [
        "100\n",
        "[[0]\n",
        " [0]\n",
        " [0]]\n"
       ]
      }
     ],
     "prompt_number": 23
    },
    {
     "cell_type": "code",
     "collapsed": false,
     "input": [
      "#\u7b2c\u4e8c\u4e2a\u4f8b\u5b50\u6f0f\u6d1e\u95ee\u9898\u7684\u89e3\u51b3\u65b9\u6cd5\uff1a\u5e73\u8861\u4e24\u79cd\u673a\u5236\n",
      "M = np.matrix([[0, 1, 1],[0, 0, 0],[0,0,0]])    \n",
      "PR= np.matrix([1, 1, 1]).transpose()\n",
      "\n",
      "for i in range(1,101):\n",
      "    PR = 0.15/3 + 0.85*M*PR\n",
      "print str(i)+'\\n', PR"
     ],
     "language": "python",
     "metadata": {
      "slideshow": {
       "slide_type": "slide"
      }
     },
     "outputs": [
      {
       "output_type": "stream",
       "stream": "stdout",
       "text": [
        "100\n",
        "[[ 0.135]\n",
        " [ 0.05 ]\n",
        " [ 0.05 ]]\n"
       ]
      }
     ],
     "prompt_number": 24
    },
    {
     "cell_type": "code",
     "collapsed": false,
     "input": [
      "#\u7b2c\u4e00\u4e2a\u4f8b\u5b50\u91c7\u7528pagerank\u7b97\u6cd5\u91cd\u65b0\u8ba1\u7b97\u7684\u7ed3\u679c\n",
      "M = np.matrix([[0, 0, 1],[0.5, 0, 0],[0.5,1,0]])    \n",
      "PR = np.matrix([1, 1, 1]).transpose()\n",
      "for i in range(1,101):\n",
      "    PR = 0.15/3 + 0.85*M*PR\n",
      "print str(i)+'\\n', PR"
     ],
     "language": "python",
     "metadata": {
      "slideshow": {
       "slide_type": "slide"
      }
     },
     "outputs": [
      {
       "output_type": "stream",
       "stream": "stdout",
       "text": [
        "100\n",
        "[[ 0.38778978]\n",
        " [ 0.21481066]\n",
        " [ 0.39739973]]\n"
       ]
      }
     ],
     "prompt_number": 25
    },
    {
     "cell_type": "code",
     "collapsed": false,
     "input": [
      "#\u4e0enetworkx\u4e2d\u7684pagerank\u51fd\u6570\u5f97\u5230\u7684\u7ed3\u679c\n",
      "import networkx as nx\n",
      "\n",
      "G = nx.DiGraph()\n",
      "G.add_edge('A','B')\n",
      "G.add_edge('A', 'C')\n",
      "G.add_edge('B','C')\n",
      "G.add_edge('C','A')\n",
      "#pos=nx.spring_layout(G) #\u8bbe\u7f6e\u7f51\u7edc\u7684\u5e03\u5c40\n",
      "#nx.draw(G, pos, node_color = 'orange', with_labels = True)\n",
      "nx.pagerank(G)"
     ],
     "language": "python",
     "metadata": {
      "slideshow": {
       "slide_type": "slide"
      }
     },
     "outputs": [
      {
       "metadata": {},
       "output_type": "pyout",
       "prompt_number": 4,
       "text": [
        "{'A': 0.38778944270725907, 'B': 0.21481051315058508, 'C': 0.3974000441421556}"
       ]
      }
     ],
     "prompt_number": 4
    },
    {
     "cell_type": "code",
     "collapsed": false,
     "input": [],
     "language": "python",
     "metadata": {},
     "outputs": [],
     "prompt_number": 27
    },
    {
     "cell_type": "code",
     "collapsed": false,
     "input": [],
     "language": "python",
     "metadata": {},
     "outputs": []
    }
   ],
   "metadata": {}
  }
 ]
}