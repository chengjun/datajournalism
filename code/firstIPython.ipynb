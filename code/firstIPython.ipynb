{
 "metadata": {
  "name": "",
  "signature": "sha256:afa5e04879670cd182dc65366b013924f00bfd9aa86945a8e312c6070f04df68"
 },
 "nbformat": 3,
 "nbformat_minor": 0,
 "worksheets": [
  {
   "cells": [
    {
     "cell_type": "heading",
     "level": 1,
     "metadata": {},
     "source": [
      "\u5b66\u4e60\u4f7f\u7528IPython"
     ]
    },
    {
     "cell_type": "markdown",
     "metadata": {},
     "source": [
      "![Image Title](http://www.completemortgageprocessing.net/wp-content/uploads/2011/10/teach-class.jpg)\n",
      "\n",
      "\u8bfe\u7a0b\u63cf\u8ff0\uff08Course Description\uff09\uff1a\u8ba1\u7b97\u4f20\u64ad\u5b66\u662f\u8ba1\u7b97\u793e\u4f1a\u79d1\u5b66\u7684\u91cd\u8981\u5206\u652f\u3002\u5b83\u4e3b\u8981\u5173\u6ce8\u4eba\u7c7b\u4f20\u64ad\u884c\u4e3a\u7684\u53ef\u8ba1\u7b97\u6027\u57fa\u7840\uff0c\u4ee5\u4f20\u64ad\u7f51\u7edc\u5206\u6790\u3001\u4f20\u64ad\u6587\u672c\u6316\u6398\u3001\u6570\u636e\u79d1\u5b66\u7b49\u4e3a\u4e3b\u8981\u5206\u6790\u5de5\u5177\uff0c\uff08\u4ee5\u975e\u4ecb\u5165\u5730\u65b9\u5f0f\uff09\u5927\u89c4\u6a21\u5730\u6536\u96c6\u5e76\u5206\u6790\u4eba\u7c7b\u4f20\u64ad\u884c\u4e3a\u6570\u636e\uff0c\u6316\u6398\u4eba\u7c7b\u4f20\u64ad\u884c\u4e3a\u80cc\u540e\u7684\u6a21\u5f0f\u548c\u6cd5\u5219\uff0c\u5206\u6790\u6a21\u5f0f\u80cc\u540e\u7684\u751f\u6210\u673a\u5236\u4e0e\u57fa\u672c\u539f\u7406\uff0c\u53ef\u4ee5\u88ab\u5e7f\u6cdb\u5730\u5e94\u7528\u4e8e\u6570\u636e\u65b0\u95fb\u548c\u8ba1\u7b97\u5e7f\u544a\u7b49\u573a\u666f\uff0c\u6ce8\u91cd\u7f16\u7a0b\u8bad\u7ec3\u3001\u6570\u5b66\u5efa\u6a21\u3001\u53ef\u8ba1\u7b97\u601d\u7ef4\u3002\n",
      "\n",
      "- \u7b2c\u4e00\u90e8\u5206 \u7f51\u9875\u6293\u53d6\n",
      "- \u7b2c\u4e8c\u90e8\u5206 \u5c55\u73b0\u6570\u5b66\u516c\u5f0f\n",
      "- \u7b2c\u4e09\u90e8\u5206 \u4e92\u52a8\u5c55\u73b0\n"
     ]
    },
    {
     "cell_type": "heading",
     "level": 2,
     "metadata": {},
     "source": [
      "\u7b2c\u4e00\u90e8\u5206 \u7f51\u9875\u6293\u53d6"
     ]
    },
    {
     "cell_type": "code",
     "collapsed": false,
     "input": [
      "import urllib2\n",
      "from bs4 import BeautifulSoup"
     ],
     "language": "python",
     "metadata": {
      "slideshow": {
       "slide_type": "slide"
      }
     },
     "outputs": [],
     "prompt_number": 18
    },
    {
     "cell_type": "code",
     "collapsed": false,
     "input": [
      "from IPython.display import HTML\n",
      "HTML('<iframe src=http://jc.nju.edu.cn width=900 height=500></iframe>')\n",
      "# the webpage we would like to crawl"
     ],
     "language": "python",
     "metadata": {},
     "outputs": [
      {
       "html": [
        "<iframe src=http://jc.nju.edu.cn width=900 height=500></iframe>"
       ],
       "metadata": {},
       "output_type": "pyout",
       "prompt_number": 51,
       "text": [
        "<IPython.core.display.HTML at 0x14a62278>"
       ]
      }
     ],
     "prompt_number": 51
    },
    {
     "cell_type": "code",
     "collapsed": false,
     "input": [
      "url = \"http://jc.nju.edu.cn/\"\n",
      "content = urllib2.urlopen(url).read()\n",
      "soup = BeautifulSoup(content) \n",
      "# title of webpage\n",
      "print soup.title.text"
     ],
     "language": "python",
     "metadata": {
      "slideshow": {
       "slide_type": "subslide"
      }
     },
     "outputs": [
      {
       "output_type": "stream",
       "stream": "stdout",
       "text": [
        "\u5357\u4eac\u5927\u5b66\u65b0\u95fb\u4f20\u64ad\u5b66\u9662\n"
       ]
      }
     ],
     "prompt_number": 49
    },
    {
     "cell_type": "code",
     "collapsed": false,
     "input": [
      "# print notices\n",
      "notices = soup.find_all('a', {'class', 'notice-title'})\n",
      "for i in notices:\n",
      "    print i.text"
     ],
     "language": "python",
     "metadata": {},
     "outputs": [
      {
       "output_type": "stream",
       "stream": "stdout",
       "text": [
        "\u5357\u4eac\u5927\u5b66\u65b0\u95fb\u4f20\u64ad\u5b66\u9662\u7b2c\u4e8c\u5c4a520\u7814\u7a76\u751f\u5b66\u672f\u8bba\n",
        "418\u535a\u58eb\u4e4b\u5bb6\u5b66\u672f\u5348\u9910\u4f1a\u7b2c\u4e8c\u5b63\u7b2c22\u671f(\u603b\u7b2c47\n",
        "418\u535a\u58eb\u4e4b\u5bb6\u5b66\u672f\u5348\u9910\u4f1a\u7b2c\u4e8c\u5b63\u7b2c21\u671f(\u603b\u7b2c46\n",
        "\u5357\u4eac\u5927\u5b66\u65b0\u95fb\u4f20\u64ad\u5b66\u9662\u5f81\u96c6\u7b2c25\u5c4a\u4e2d\u56fd\u65b0\u95fb\u5956\n",
        "\u5357\u4eac\u5927\u5b66\u65b0\u95fb\u4f20\u64ad\u5b66\u9662\u201c\u540c\u4e00\u7247\u5929\u7a7a  \" \u96fe\u973e\n",
        "\u201c\u540c\u4e00\u7247\u5929\u7a7a \"\u96fe\u973e\u5728\u4e2d\u56fd\u201d\u5bd2\u5047\u793e\u4f1a\u5b9e\u8df5\u6d3b\n",
        "\u6c5f\u82cf\u7701\u54f2\u5b66\u793e\u4f1a\u79d1\u5b66\u754c\u7b2c\u516b\u5c4a\u5b66\u672f\u5927\u4f1a\u201c\u793e\u4f1a\n",
        "\u65b0\u95fb\u4f20\u64ad\u5b66\u9662\u5173\u4e8e2015\u5c4a\u7855\u58eb\u6bd5\u4e1a\u751f\u9884\u7b54\u8fa9\u7684\n",
        "\u5357\u4eac\u5927\u5b66\u4e0e\u6c5f\u82cf\u7701\u59d4\u5ba3\u4f20\u90e8\u7b7e\u8ba2\u534f\u8bae\u5171\u5efa\u65b0\u95fb\n",
        "\u6211\u9662\u8058\u4efb\u7b2c\u4e00\u6279\u65b0\u95fb\u4f20\u64ad\u4e13\u4e1a\u7855\u58eb\u6821\u5916\u5bfc\u5e08\n"
       ]
      }
     ],
     "prompt_number": 50
    },
    {
     "cell_type": "heading",
     "level": 2,
     "metadata": {},
     "source": [
      "\u7b2c\u4e8c\u90e8\u5206 \u5c55\u73b0\u6570\u5b66\u516c\u5f0f"
     ]
    },
    {
     "cell_type": "code",
     "collapsed": false,
     "input": [
      "# display equations\n",
      "from IPython.display import Latex\n",
      "Latex(r\"$\\sqrt{x^2+y^2}$\")"
     ],
     "language": "python",
     "metadata": {},
     "outputs": [
      {
       "latex": [
        "$\\sqrt{x^2+y^2}$"
       ],
       "metadata": {},
       "output_type": "pyout",
       "prompt_number": 43,
       "text": [
        "<IPython.core.display.Latex at 0x14a4c9b0>"
       ]
      }
     ],
     "prompt_number": 43
    },
    {
     "cell_type": "code",
     "collapsed": false,
     "input": [
      "Latex(r\"\"\"\\begin{eqnarray}\n",
      "\\nabla \\times \\vec{\\mathbf{B}} -\\, \\frac1c\\, \\frac{\\partial\\vec{\\mathbf{E}}}{\\partial t} & = \\frac{4\\pi}{c}\\vec{\\mathbf{j}} \\\\\n",
      "\\nabla \\cdot \\vec{\\mathbf{E}} & = 4 \\pi \\rho \\\\\n",
      "\\nabla \\times \\vec{\\mathbf{E}}\\, +\\, \\frac1c\\, \\frac{\\partial\\vec{\\mathbf{B}}}{\\partial t} & = \\vec{\\mathbf{0}} \\\\\n",
      "\\nabla \\cdot \\vec{\\mathbf{B}} & = 0 \n",
      "\\end{eqnarray}\"\"\")"
     ],
     "language": "python",
     "metadata": {},
     "outputs": [
      {
       "latex": [
        "\\begin{eqnarray}\n",
        "\\nabla \\times \\vec{\\mathbf{B}} -\\, \\frac1c\\, \\frac{\\partial\\vec{\\mathbf{E}}}{\\partial t} & = \\frac{4\\pi}{c}\\vec{\\mathbf{j}} \\\\\n",
        "\\nabla \\cdot \\vec{\\mathbf{E}} & = 4 \\pi \\rho \\\\\n",
        "\\nabla \\times \\vec{\\mathbf{E}}\\, +\\, \\frac1c\\, \\frac{\\partial\\vec{\\mathbf{B}}}{\\partial t} & = \\vec{\\mathbf{0}} \\\\\n",
        "\\nabla \\cdot \\vec{\\mathbf{B}} & = 0 \n",
        "\\end{eqnarray}"
       ],
       "metadata": {},
       "output_type": "pyout",
       "prompt_number": 42,
       "text": [
        "<IPython.core.display.Latex at 0x14a4ce48>"
       ]
      }
     ],
     "prompt_number": 42
    },
    {
     "cell_type": "code",
     "collapsed": false,
     "input": [
      "%%latex\n",
      "\\begin{equation*}\n",
      "P(E)   = {n \\choose k} p^k (1-p)^{ n-k} \n",
      "\\end{equation*}"
     ],
     "language": "python",
     "metadata": {},
     "outputs": [
      {
       "latex": [
        "\\begin{equation*}\n",
        "P(E)   = {n \\choose k} p^k (1-p)^{ n-k} \n",
        "\\end{equation*}"
       ],
       "metadata": {},
       "output_type": "display_data",
       "text": [
        "<IPython.core.display.Latex at 0x14a4cef0>"
       ]
      }
     ],
     "prompt_number": 41
    },
    {
     "cell_type": "code",
     "collapsed": false,
     "input": [
      "from IPython.display import display, Math, Latex\n",
      "display(Math(r'F(k) = \\int_{-\\infty}^{\\infty} f(x) e^{2\\pi i k} dx'))"
     ],
     "language": "python",
     "metadata": {},
     "outputs": [
      {
       "latex": [
        "$$F(k) = \\int_{-\\infty}^{\\infty} f(x) e^{2\\pi i k} dx$$"
       ],
       "metadata": {},
       "output_type": "display_data",
       "text": [
        "<IPython.core.display.Math at 0x14a4c630>"
       ]
      }
     ],
     "prompt_number": 37
    },
    {
     "cell_type": "heading",
     "level": 2,
     "metadata": {},
     "source": [
      "\u7b2c\u4e09\u90e8\u5206 \u4e92\u52a8\u5c55\u73b0"
     ]
    },
    {
     "cell_type": "code",
     "collapsed": false,
     "input": [
      "# using interctive mode\n",
      "from IPython.html.widgets import interact, interactive, fixed\n",
      "@interact(x=True, y=1.0)\n",
      "def g(x, y):\n",
      "    print(x, y)"
     ],
     "language": "python",
     "metadata": {},
     "outputs": [
      {
       "output_type": "stream",
       "stream": "stdout",
       "text": [
        "(True, -1.0)\n"
       ]
      }
     ],
     "prompt_number": 35
    },
    {
     "cell_type": "heading",
     "level": 2,
     "metadata": {},
     "source": [
      "\u7b2c\u56db\u90e8\u5206 \u6293\u53d6\u5929\u6daf\u8bba\u575b\u6587\u7ae0\u5217\u8868"
     ]
    },
    {
     "cell_type": "code",
     "collapsed": false,
     "input": [
      "import urllib2\n",
      "from bs4 import BeautifulSoup\n",
      "import os\n",
      "\n",
      "# set work directory\n",
      "os.chdir('D:/')\n",
      "\n",
      "\n",
      "def crawler(page_num, file_name):\n",
      "    try:\n",
      "        # open the browser\n",
      "        url = \"http://bbs.tianya.cn/list.jsp?item=free&nextid=%d&order=8&k=\u96fe\u973e\" % page_num\n",
      "        content = urllib2.urlopen(url).read() #\u83b7\u53d6\u7f51\u9875\u7684html\u6587\u672c\n",
      "        soup = BeautifulSoup(content) \n",
      "        articles = soup.find_all('tr')\n",
      "        # write down info\n",
      "        for i in articles[1:]:\n",
      "            td = i.find_all('td')\n",
      "            title = td[0].text.strip()\n",
      "            title_url = td[0].a['href']\n",
      "            author = td[1].text\n",
      "            author_url = td[1].a['href']\n",
      "            views = td[2].text\n",
      "            replies = td[3].text\n",
      "            date = td[4]['title']\n",
      "            record = title + '\\t' + title_url+ '\\t' + author + '\\t'+ author_url + '\\t' + views+ '\\t'  + replies+ '\\t'+ date\n",
      "            with open(file_name,'a') as p: # '''Note'''\uff1a\uff21ppend mode, run only once!\n",
      "                        p.write(record.encode('utf-8')+\"\\n\") ##!!encode here to utf-8 to avoid encoding\n",
      "\n",
      "    except:\n",
      "        pass"
     ],
     "language": "python",
     "metadata": {},
     "outputs": [],
     "prompt_number": 66
    },
    {
     "cell_type": "code",
     "collapsed": false,
     "input": [
      "# crawl all pages\n",
      "for page_num in range(1,5):\n",
      "    print (page_num)\n",
      "    crawler(page_num, 'wumai_first_4_pages.txt') "
     ],
     "language": "python",
     "metadata": {},
     "outputs": [
      {
       "output_type": "stream",
       "stream": "stdout",
       "text": [
        "1\n",
        "2"
       ]
      },
      {
       "output_type": "stream",
       "stream": "stdout",
       "text": [
        "\n",
        "3"
       ]
      },
      {
       "output_type": "stream",
       "stream": "stdout",
       "text": [
        "\n",
        "4"
       ]
      },
      {
       "output_type": "stream",
       "stream": "stdout",
       "text": [
        "\n"
       ]
      }
     ],
     "prompt_number": 67
    },
    {
     "cell_type": "code",
     "collapsed": false,
     "input": [
      "import pandas\n",
      "\n",
      "df = pandas.read_csv('D:/wumai_first_4_pages.txt', sep = \"\\t\", header=None)\n",
      "df[:10]"
     ],
     "language": "python",
     "metadata": {},
     "outputs": [
      {
       "html": [
        "<div style=\"max-height:1000px;max-width:1500px;overflow:auto;\">\n",
        "<table border=\"1\" class=\"dataframe\">\n",
        "  <thead>\n",
        "    <tr style=\"text-align: right;\">\n",
        "      <th></th>\n",
        "      <th>0</th>\n",
        "      <th>1</th>\n",
        "      <th>2</th>\n",
        "      <th>3</th>\n",
        "      <th>4</th>\n",
        "      <th>5</th>\n",
        "      <th>6</th>\n",
        "    </tr>\n",
        "  </thead>\n",
        "  <tbody>\n",
        "    <tr>\n",
        "      <th>0</th>\n",
        "      <td>              \u9ec4\u4e07\u91cc\u5c31\u662f\u5236\u9020\u534e\u5317\u96fe\u973e\u6570\u767e\u4e07\u6761\u4eba\u547d\u7684\u5143\u51f6</td>\n",
        "      <td> /post-free-3932565-1.shtml</td>\n",
        "      <td>        carls</td>\n",
        "      <td>   http://www.tianya.cn/284121</td>\n",
        "      <td> 2871</td>\n",
        "      <td>  39</td>\n",
        "      <td> 2013-12-23 21:14</td>\n",
        "    </tr>\n",
        "    <tr>\n",
        "      <th>1</th>\n",
        "      <td>               \u6bd4\u96fe\u973e\u8fd8\u8981\u53ef\u6015\u7684\u6559\u80b2(\u795e\u6728\u7bc7\u6700\u65b0\u62fc\u76d8)</td>\n",
        "      <td> /post-free-4776578-1.shtml</td>\n",
        "      <td>    happy\u6625\u6ee1\u4eba\u95f4</td>\n",
        "      <td> http://www.tianya.cn/96416374</td>\n",
        "      <td> 2848</td>\n",
        "      <td>   0</td>\n",
        "      <td> 2014-11-17 15:40</td>\n",
        "    </tr>\n",
        "    <tr>\n",
        "      <th>2</th>\n",
        "      <td>                       \u5173\u4e8e\u89e3\u51b3\u96fe\u973e\u95ee\u9898\u7684\u5efa\u8bae</td>\n",
        "      <td> /post-free-4166980-1.shtml</td>\n",
        "      <td>         \u4e01\u4e018O</td>\n",
        "      <td> http://www.tianya.cn/87926338</td>\n",
        "      <td> 2750</td>\n",
        "      <td>   6</td>\n",
        "      <td> 2014-03-04 15:03</td>\n",
        "    </tr>\n",
        "    <tr>\n",
        "      <th>3</th>\n",
        "      <td> \u6211\u5c31\u4e0d\u660e\u767d\u4e86,\u4e3a\u4ec0\u4e48\u67f4\u9759\u6279\u5224\u96fe\u973e,\u4e00\u64ae\u4eba\u5c31\u8ddf\u6b7b\u4e86\u4eb2\u7239\u4f3c\u7684,\u75af...</td>\n",
        "      <td> /post-free-4980131-1.shtml</td>\n",
        "      <td>       avgust</td>\n",
        "      <td> http://www.tianya.cn/26546902</td>\n",
        "      <td> 2673</td>\n",
        "      <td> 122</td>\n",
        "      <td> 2015-03-03 15:52</td>\n",
        "    </tr>\n",
        "    <tr>\n",
        "      <th>4</th>\n",
        "      <td>                   \u96fe\u973e\u9891\u53d1,\u751f\u6001\u6587\u660e\u5efa\u8bbe\u523b\u4e0d\u5bb9\u7f13</td>\n",
        "      <td> /post-free-3020926-1.shtml</td>\n",
        "      <td>          \u77f3\u5339\u72fc</td>\n",
        "      <td> http://www.tianya.cn/61278140</td>\n",
        "      <td> 2638</td>\n",
        "      <td>   0</td>\n",
        "      <td> 2013-01-18 02:57</td>\n",
        "    </tr>\n",
        "    <tr>\n",
        "      <th>5</th>\n",
        "      <td>      \u9762\u5bf9\u5728\u96fe\u973e\u4e2d\u957f\u8dd1\u548c\u4e0a\u4f53\u80b2\u8bfe\u7684\u5b66\u751f,\u5317\u4eac\u5e02\u6559\u59d4\u4f60\u5728\u5e72\u4ec0\u4e48?</td>\n",
        "      <td> /post-free-2340673-1.shtml</td>\n",
        "      <td> whatcaniuse1</td>\n",
        "      <td> http://www.tianya.cn/14331579</td>\n",
        "      <td> 2502</td>\n",
        "      <td>  75</td>\n",
        "      <td> 2011-12-14 23:12</td>\n",
        "    </tr>\n",
        "    <tr>\n",
        "      <th>6</th>\n",
        "      <td>                       \u67f4\u9759\u7684\u4eba\u54c1\u548c\u96fe\u973e\u7684\u5173\u7cfb</td>\n",
        "      <td> /post-free-4980720-1.shtml</td>\n",
        "      <td>       \u8339____\u70df</td>\n",
        "      <td> http://www.tianya.cn/97837032</td>\n",
        "      <td> 2456</td>\n",
        "      <td>  25</td>\n",
        "      <td> 2015-03-03 20:41</td>\n",
        "    </tr>\n",
        "    <tr>\n",
        "      <th>7</th>\n",
        "      <td>       \u5c0f\u5d14\u62a2\u7740\u4e0a\u5934\u6761  \u79c1\u5bb6\u8f66\u5bf9\u96fe\u973e\u5f71\u54cd\u5982\u540c\u653e\u5c41~~(\u8f6c\u8f7d)</td>\n",
        "      <td> /post-free-3847884-1.shtml</td>\n",
        "      <td>          \u7eb3\u6492\u5c3c</td>\n",
        "      <td> http://www.tianya.cn/37182902</td>\n",
        "      <td> 2432</td>\n",
        "      <td>  24</td>\n",
        "      <td> 2013-11-29 12:45</td>\n",
        "    </tr>\n",
        "    <tr>\n",
        "      <th>8</th>\n",
        "      <td>             \u5438\u4e86\u96fe\u973e\u8df3\u697c \u6e05\u65b0\u7a7a\u6c14\u90fd\u6210\u4e86\u5962\u4f88\u54c1(\u8f6c\u8f7d)</td>\n",
        "      <td> /post-free-4166612-1.shtml</td>\n",
        "      <td>          \u5c0f\u6d85\u69c3</td>\n",
        "      <td> http://www.tianya.cn/83396338</td>\n",
        "      <td> 2374</td>\n",
        "      <td>  10</td>\n",
        "      <td> 2014-03-04 13:14</td>\n",
        "    </tr>\n",
        "    <tr>\n",
        "      <th>9</th>\n",
        "      <td>                 \u6cbb\u7406\u4e25\u91cd\u96fe\u973e\u5929\u6c14\u653f\u5e9c\u5fc5\u987b\u6709\u6240\u4f5c\u4e3a!</td>\n",
        "      <td> /post-free-3049491-1.shtml</td>\n",
        "      <td>          \u7eff\u5c9b\u6d6a</td>\n",
        "      <td>  http://www.tianya.cn/9771672</td>\n",
        "      <td> 2369</td>\n",
        "      <td>   0</td>\n",
        "      <td> 2013-02-01 11:17</td>\n",
        "    </tr>\n",
        "  </tbody>\n",
        "</table>\n",
        "<p>10 rows \u00d7 7 columns</p>\n",
        "</div>"
       ],
       "metadata": {},
       "output_type": "pyout",
       "prompt_number": 89,
       "text": [
        "                                   0                           1  \\\n",
        "0               \u9ec4\u4e07\u91cc\u5c31\u662f\u5236\u9020\u534e\u5317\u96fe\u973e\u6570\u767e\u4e07\u6761\u4eba\u547d\u7684\u5143\u51f6  /post-free-3932565-1.shtml   \n",
        "1                \u6bd4\u96fe\u973e\u8fd8\u8981\u53ef\u6015\u7684\u6559\u80b2(\u795e\u6728\u7bc7\u6700\u65b0\u62fc\u76d8)  /post-free-4776578-1.shtml   \n",
        "2                        \u5173\u4e8e\u89e3\u51b3\u96fe\u973e\u95ee\u9898\u7684\u5efa\u8bae  /post-free-4166980-1.shtml   \n",
        "3  \u6211\u5c31\u4e0d\u660e\u767d\u4e86,\u4e3a\u4ec0\u4e48\u67f4\u9759\u6279\u5224\u96fe\u973e,\u4e00\u64ae\u4eba\u5c31\u8ddf\u6b7b\u4e86\u4eb2\u7239\u4f3c\u7684,\u75af...  /post-free-4980131-1.shtml   \n",
        "4                    \u96fe\u973e\u9891\u53d1,\u751f\u6001\u6587\u660e\u5efa\u8bbe\u523b\u4e0d\u5bb9\u7f13  /post-free-3020926-1.shtml   \n",
        "5       \u9762\u5bf9\u5728\u96fe\u973e\u4e2d\u957f\u8dd1\u548c\u4e0a\u4f53\u80b2\u8bfe\u7684\u5b66\u751f,\u5317\u4eac\u5e02\u6559\u59d4\u4f60\u5728\u5e72\u4ec0\u4e48?  /post-free-2340673-1.shtml   \n",
        "6                        \u67f4\u9759\u7684\u4eba\u54c1\u548c\u96fe\u973e\u7684\u5173\u7cfb  /post-free-4980720-1.shtml   \n",
        "7        \u5c0f\u5d14\u62a2\u7740\u4e0a\u5934\u6761  \u79c1\u5bb6\u8f66\u5bf9\u96fe\u973e\u5f71\u54cd\u5982\u540c\u653e\u5c41~~(\u8f6c\u8f7d)  /post-free-3847884-1.shtml   \n",
        "8              \u5438\u4e86\u96fe\u973e\u8df3\u697c \u6e05\u65b0\u7a7a\u6c14\u90fd\u6210\u4e86\u5962\u4f88\u54c1(\u8f6c\u8f7d)  /post-free-4166612-1.shtml   \n",
        "9                  \u6cbb\u7406\u4e25\u91cd\u96fe\u973e\u5929\u6c14\u653f\u5e9c\u5fc5\u987b\u6709\u6240\u4f5c\u4e3a!  /post-free-3049491-1.shtml   \n",
        "\n",
        "              2                              3     4    5                 6  \n",
        "0         carls    http://www.tianya.cn/284121  2871   39  2013-12-23 21:14  \n",
        "1     happy\u6625\u6ee1\u4eba\u95f4  http://www.tianya.cn/96416374  2848    0  2014-11-17 15:40  \n",
        "2          \u4e01\u4e018O  http://www.tianya.cn/87926338  2750    6  2014-03-04 15:03  \n",
        "3        avgust  http://www.tianya.cn/26546902  2673  122  2015-03-03 15:52  \n",
        "4           \u77f3\u5339\u72fc  http://www.tianya.cn/61278140  2638    0  2013-01-18 02:57  \n",
        "5  whatcaniuse1  http://www.tianya.cn/14331579  2502   75  2011-12-14 23:12  \n",
        "6        \u8339____\u70df  http://www.tianya.cn/97837032  2456   25  2015-03-03 20:41  \n",
        "7           \u7eb3\u6492\u5c3c  http://www.tianya.cn/37182902  2432   24  2013-11-29 12:45  \n",
        "8           \u5c0f\u6d85\u69c3  http://www.tianya.cn/83396338  2374   10  2014-03-04 13:14  \n",
        "9           \u7eff\u5c9b\u6d6a   http://www.tianya.cn/9771672  2369    0  2013-02-01 11:17  \n",
        "\n",
        "[10 rows x 7 columns]"
       ]
      }
     ],
     "prompt_number": 89
    },
    {
     "cell_type": "heading",
     "level": 2,
     "metadata": {},
     "source": [
      "\u7b2c\u4e94\u90e8\u5206 \u6293\u53d6\u65b0\u5fae\u699c\u6570\u636e"
     ]
    },
    {
     "cell_type": "code",
     "collapsed": false,
     "input": [
      "from bs4 import BeautifulSoup\n",
      "from selenium import webdriver\n",
      "import selenium.webdriver.support.ui as ui\n",
      "import os\n",
      "\n",
      "# set work directory\n",
      "os.chdir('D:/')\n",
      "\n",
      "# open the browser\n",
      "browser = webdriver.Firefox() # \u6253\u5f00Firefox\u6d4f\u89c8\u5668\n",
      "#wait = ui.WebDriverWait(browser,10) # \u8bbe\u5b9a\u6700\u957f\u7b49\u5f85\u52a0\u8f7d\u65f6\u95f4\u4e3a10\u79d2\n",
      "browser.get(\"http://xwb100.cn/login/login.php\") #\u6253\u5f00\u7f51\u5740\u624b\u5de5\u767b\u9646\n"
     ],
     "language": "python",
     "metadata": {},
     "outputs": [],
     "prompt_number": 103
    },
    {
     "cell_type": "code",
     "collapsed": false,
     "input": [
      "#\u65b0\u5fae\u699c\u52a0\u5165\u4e86\u7528\u6237\u6ce8\u518c\u754c\u9762\uff0c\u56e0\u6b64\u9700\u8981\u624b\u5de5\u8f93\u5165\u7528\u6237\u540d\u3001\u5bc6\u7801\u548c\u9a8c\u8bc1\u7801\n",
      "browser.get(\"http://xwb100.cn/weixin3/search1.php\")\n",
      "# input query keyword, date range, and click if you need"
     ],
     "language": "python",
     "metadata": {},
     "outputs": [],
     "prompt_number": 104
    },
    {
     "cell_type": "code",
     "collapsed": false,
     "input": [
      "# set up the crawler\n",
      "def crawler(page_num, file_name):\n",
      "    try:\n",
      "        # click the javascript button\n",
      "        page_location = \"//a[@href='javascript:nextpage_dosubmit(%d)']\" %page_num\n",
      "        browser.find_element_by_xpath(page_location).click()\n",
      "        # parse the html\n",
      "        soup = BeautifulSoup(browser.page_source) #, from_encoding = 'gb2312')\n",
      "        articles = soup.find_all('tr')[1:]\n",
      "        # write down info\n",
      "        for i in articles:\n",
      "            td = i.find_all('td')\n",
      "            num = td[0].text\n",
      "            title = td[1].text\n",
      "            link = td[1].a['href']\n",
      "            author = td[2].text\n",
      "            date = td[3].text\n",
      "            views = td[4].text\n",
      "            likes = td[5].text\n",
      "            record = num + '\\t' + title+ '\\t' + link+ '\\t' + author+ '\\t' + date+ '\\t' + views+ '\\t' + likes\n",
      "            with open(file_name,'a') as p: # '''Note'''\uff1a\uff21ppend mode, run only once!\n",
      "                p.write(record.encode('utf-8')+\"\\n\") ##!!encode here to utf-8 to avoid encoding error.\n",
      "    except:\n",
      "        pass"
     ],
     "language": "python",
     "metadata": {},
     "outputs": [],
     "prompt_number": 105
    },
    {
     "cell_type": "code",
     "collapsed": false,
     "input": [
      "# crawl all ranks\n",
      "for page_num in range(1,11):\n",
      "    print page_num\n",
      "    crawler(page_num, 'xwb_1000.txt')"
     ],
     "language": "python",
     "metadata": {},
     "outputs": []
    },
    {
     "cell_type": "code",
     "collapsed": false,
     "input": [
      "dfx = pandas.read_csv('xwb_1000.txt', sep = \"\\t\", header=None)\n",
      "dfx[:5]"
     ],
     "language": "python",
     "metadata": {},
     "outputs": [
      {
       "html": [
        "<div style=\"max-height:1000px;max-width:1500px;overflow:auto;\">\n",
        "<table border=\"1\" class=\"dataframe\">\n",
        "  <thead>\n",
        "    <tr style=\"text-align: right;\">\n",
        "      <th></th>\n",
        "      <th>0</th>\n",
        "      <th>1</th>\n",
        "      <th>2</th>\n",
        "      <th>3</th>\n",
        "      <th>4</th>\n",
        "      <th>5</th>\n",
        "      <th>6</th>\n",
        "    </tr>\n",
        "  </thead>\n",
        "  <tbody>\n",
        "    <tr>\n",
        "      <th>0</th>\n",
        "      <td> 1</td>\n",
        "      <td>       \u2764 5\u670810\u65e5\u6bcd\u4eb2\u8282\uff0c\u613f\u6bcd\u4eb2\u5065\u5eb7\u5feb\u4e50\uff01</td>\n",
        "      <td> http://mp.weixin.qq.com/s?__biz=MjM5MDg0OTE0Mw...</td>\n",
        "      <td> \u5361\u5a03\u5fae\u5361</td>\n",
        "      <td> 05-08</td>\n",
        "      <td> 100001</td>\n",
        "      <td> 12354</td>\n",
        "    </tr>\n",
        "    <tr>\n",
        "      <th>1</th>\n",
        "      <td> 2</td>\n",
        "      <td>          \u3010\u51b7\u5154\u2022\u69fd\u3011\u6bcf\u65e5\u4e00\u51b7NO.790</td>\n",
        "      <td> http://mp.weixin.qq.com/s?__biz=MTgwNTE3Mjg2MA...</td>\n",
        "      <td>   \u51b7\u5154</td>\n",
        "      <td> 05-07</td>\n",
        "      <td> 100001</td>\n",
        "      <td> 11014</td>\n",
        "    </tr>\n",
        "    <tr>\n",
        "      <th>2</th>\n",
        "      <td> 3</td>\n",
        "      <td>              \u7ed9\u5929\u4e0b\u5927\u8001\u7237\u4eec\u7684\u4e00\u5c01\u4fe1\uff01</td>\n",
        "      <td> http://mp.weixin.qq.com/s?__biz=MjM5MDg0OTE0Mw...</td>\n",
        "      <td> \u5361\u5a03\u5fae\u5361</td>\n",
        "      <td> 05-08</td>\n",
        "      <td> 100001</td>\n",
        "      <td>  8711</td>\n",
        "    </tr>\n",
        "    <tr>\n",
        "      <th>3</th>\n",
        "      <td> 4</td>\n",
        "      <td>      \u539f\u6765\u3002\u907f\u5b55\u5957\u4e0d\u4ec5\u4ec5\u7528\u4e8e\u556a\u556a\u556a\uff01\u6da8\u59ff\u52bf\u4e86\u3002</td>\n",
        "      <td> http://mp.weixin.qq.com/s?__biz=MTgwNTE3Mjg2MA...</td>\n",
        "      <td>   \u51b7\u5154</td>\n",
        "      <td> 05-07</td>\n",
        "      <td> 100001</td>\n",
        "      <td>  6477</td>\n",
        "    </tr>\n",
        "    <tr>\n",
        "      <th>4</th>\n",
        "      <td> 5</td>\n",
        "      <td> \u6211\u5bb6\u7684\u72d7\u72d7\u8001\u4e86\uff0c\u4e0d\u80fd\u50cf\u5b83\u5e74\u8f7b\u7684\u65f6\u5019\u90a3\u6837\u8e66\u8e66\u8df3\u8df3\u4e86\u3002</td>\n",
        "      <td> http://mp.weixin.qq.com/s?__biz=MTgwNTE3Mjg2MA...</td>\n",
        "      <td>   \u51b7\u5154</td>\n",
        "      <td> 05-05</td>\n",
        "      <td> 100001</td>\n",
        "      <td>  6364</td>\n",
        "    </tr>\n",
        "  </tbody>\n",
        "</table>\n",
        "<p>5 rows \u00d7 7 columns</p>\n",
        "</div>"
       ],
       "metadata": {},
       "output_type": "pyout",
       "prompt_number": 98,
       "text": [
        "   0                          1  \\\n",
        "0  1        \u2764 5\u670810\u65e5\u6bcd\u4eb2\u8282\uff0c\u613f\u6bcd\u4eb2\u5065\u5eb7\u5feb\u4e50\uff01   \n",
        "1  2           \u3010\u51b7\u5154\u2022\u69fd\u3011\u6bcf\u65e5\u4e00\u51b7NO.790   \n",
        "2  3               \u7ed9\u5929\u4e0b\u5927\u8001\u7237\u4eec\u7684\u4e00\u5c01\u4fe1\uff01   \n",
        "3  4       \u539f\u6765\u3002\u907f\u5b55\u5957\u4e0d\u4ec5\u4ec5\u7528\u4e8e\u556a\u556a\u556a\uff01\u6da8\u59ff\u52bf\u4e86\u3002   \n",
        "4  5  \u6211\u5bb6\u7684\u72d7\u72d7\u8001\u4e86\uff0c\u4e0d\u80fd\u50cf\u5b83\u5e74\u8f7b\u7684\u65f6\u5019\u90a3\u6837\u8e66\u8e66\u8df3\u8df3\u4e86\u3002   \n",
        "\n",
        "                                                   2     3      4       5  \\\n",
        "0  http://mp.weixin.qq.com/s?__biz=MjM5MDg0OTE0Mw...  \u5361\u5a03\u5fae\u5361  05-08  100001   \n",
        "1  http://mp.weixin.qq.com/s?__biz=MTgwNTE3Mjg2MA...    \u51b7\u5154  05-07  100001   \n",
        "2  http://mp.weixin.qq.com/s?__biz=MjM5MDg0OTE0Mw...  \u5361\u5a03\u5fae\u5361  05-08  100001   \n",
        "3  http://mp.weixin.qq.com/s?__biz=MTgwNTE3Mjg2MA...    \u51b7\u5154  05-07  100001   \n",
        "4  http://mp.weixin.qq.com/s?__biz=MTgwNTE3Mjg2MA...    \u51b7\u5154  05-05  100001   \n",
        "\n",
        "       6  \n",
        "0  12354  \n",
        "1  11014  \n",
        "2   8711  \n",
        "3   6477  \n",
        "4   6364  \n",
        "\n",
        "[5 rows x 7 columns]"
       ]
      }
     ],
     "prompt_number": 98
    },
    {
     "cell_type": "code",
     "collapsed": false,
     "input": [
      "# crawl all ranks\n",
      "for page_num in range(1,11):\n",
      "    print page_num\n",
      "    crawler(page_num, 'xwb_1000_tiger.txt')"
     ],
     "language": "python",
     "metadata": {},
     "outputs": [
      {
       "output_type": "stream",
       "stream": "stdout",
       "text": [
        "1\n",
        "2"
       ]
      },
      {
       "output_type": "stream",
       "stream": "stdout",
       "text": [
        "\n",
        "3"
       ]
      },
      {
       "output_type": "stream",
       "stream": "stdout",
       "text": [
        "\n",
        "4"
       ]
      },
      {
       "output_type": "stream",
       "stream": "stdout",
       "text": [
        "\n",
        "5"
       ]
      },
      {
       "output_type": "stream",
       "stream": "stdout",
       "text": [
        "\n",
        "6"
       ]
      },
      {
       "output_type": "stream",
       "stream": "stdout",
       "text": [
        "\n",
        "7"
       ]
      },
      {
       "output_type": "stream",
       "stream": "stdout",
       "text": [
        "\n",
        "8"
       ]
      },
      {
       "output_type": "stream",
       "stream": "stdout",
       "text": [
        "\n",
        "9"
       ]
      },
      {
       "output_type": "stream",
       "stream": "stdout",
       "text": [
        "\n",
        "10"
       ]
      },
      {
       "output_type": "stream",
       "stream": "stdout",
       "text": [
        "\n"
       ]
      }
     ],
     "prompt_number": 106
    },
    {
     "cell_type": "code",
     "collapsed": false,
     "input": [
      "dft = pandas.read_csv('xwb_1000_tiger.txt', sep = \"\\t\", header=None)\n",
      "dft[:5]"
     ],
     "language": "python",
     "metadata": {},
     "outputs": [
      {
       "html": [
        "<div style=\"max-height:1000px;max-width:1500px;overflow:auto;\">\n",
        "<table border=\"1\" class=\"dataframe\">\n",
        "  <thead>\n",
        "    <tr style=\"text-align: right;\">\n",
        "      <th></th>\n",
        "      <th>0</th>\n",
        "      <th>1</th>\n",
        "      <th>2</th>\n",
        "      <th>3</th>\n",
        "      <th>4</th>\n",
        "      <th>5</th>\n",
        "      <th>6</th>\n",
        "    </tr>\n",
        "  </thead>\n",
        "  <tbody>\n",
        "    <tr>\n",
        "      <th>0</th>\n",
        "      <td> 1</td>\n",
        "      <td>         \u6ca1\u9519\uff01\u674e\u5609\u8bda\u662f\u4e2d\u56fd\u5730\u4ea7\u754c\u771f\u6b63\u7684\u5927\u8001\u864e</td>\n",
        "      <td> http://mp.weixin.qq.com/s?__biz=MjM5MDc0NTY2OA...</td>\n",
        "      <td>   \u6d1e\u89c1</td>\n",
        "      <td> 01-14</td>\n",
        "      <td> 100001</td>\n",
        "      <td> 2487</td>\n",
        "    </tr>\n",
        "    <tr>\n",
        "      <th>1</th>\n",
        "      <td> 2</td>\n",
        "      <td>     \u516c\u5ba1\u5468\u6c38\u5eb7\u5728\u5929\u6d25\"\u5927\u8001\u864e\"\u843d\u9a6c\u4e3a\u5565\u90fd\u6362\u5730\u5ba1\uff1f</td>\n",
        "      <td> http://mp.weixin.qq.com/s?__biz=MTI0MDU3NDYwMQ...</td>\n",
        "      <td> \u592e\u89c6\u65b0\u95fb</td>\n",
        "      <td> 04-03</td>\n",
        "      <td> 100001</td>\n",
        "      <td> 2329</td>\n",
        "    </tr>\n",
        "    <tr>\n",
        "      <th>2</th>\n",
        "      <td> 3</td>\n",
        "      <td>      66\u4e2a\u843d\u9a6c\u8001\u864e\u201c\u5927\u5408\u5f71\u201d\uff08\u9644\u6848\u4ef6\u67e5\u529e\u8fdb\u5c55\uff09</td>\n",
        "      <td> http://mp.weixin.qq.com/s?__biz=MjM5MDc0NTY2OA...</td>\n",
        "      <td>   \u6d1e\u89c1</td>\n",
        "      <td> 01-09</td>\n",
        "      <td> 100001</td>\n",
        "      <td> 1902</td>\n",
        "    </tr>\n",
        "    <tr>\n",
        "      <th>3</th>\n",
        "      <td> 4</td>\n",
        "      <td> \u6027\u611f\u5c11\u5987\u4e0a\u5c71\u91c7\u836f\uff0c\u88ab\u4e00\u53ea\u9965\u6e34\u7684\u8001\u864e\u641e\u5f97\u5dee\u70b9\u6ca1\u547d.\u706b\u4e86</td>\n",
        "      <td> http://mp.weixin.qq.com/s?__biz=MjM5NzEzNTI4OA...</td>\n",
        "      <td>  \u670d\u88c5 </td>\n",
        "      <td> 04-20</td>\n",
        "      <td> 100001</td>\n",
        "      <td> 1276</td>\n",
        "    </tr>\n",
        "    <tr>\n",
        "      <th>4</th>\n",
        "      <td> 5</td>\n",
        "      <td>     \u5582\uff0c\u4f60\u662f\u53ea\u8001\u864e\uff0c\u4f60\u662f\u767e\u517d\u4e4b\u738b\u600e\u4e48\u53ef\u4ee5\u8fd9\u6837\u5462\uff01</td>\n",
        "      <td> http://mp.weixin.qq.com/s?__biz=MjM5OTIwODMzMQ...</td>\n",
        "      <td>  \u4efb\u771f\u5929</td>\n",
        "      <td> 02-07</td>\n",
        "      <td> 100001</td>\n",
        "      <td> 1222</td>\n",
        "    </tr>\n",
        "  </tbody>\n",
        "</table>\n",
        "<p>5 rows \u00d7 7 columns</p>\n",
        "</div>"
       ],
       "metadata": {},
       "output_type": "pyout",
       "prompt_number": 107,
       "text": [
        "   0                           1  \\\n",
        "0  1          \u6ca1\u9519\uff01\u674e\u5609\u8bda\u662f\u4e2d\u56fd\u5730\u4ea7\u754c\u771f\u6b63\u7684\u5927\u8001\u864e   \n",
        "1  2      \u516c\u5ba1\u5468\u6c38\u5eb7\u5728\u5929\u6d25\"\u5927\u8001\u864e\"\u843d\u9a6c\u4e3a\u5565\u90fd\u6362\u5730\u5ba1\uff1f   \n",
        "2  3       66\u4e2a\u843d\u9a6c\u8001\u864e\u201c\u5927\u5408\u5f71\u201d\uff08\u9644\u6848\u4ef6\u67e5\u529e\u8fdb\u5c55\uff09   \n",
        "3  4  \u6027\u611f\u5c11\u5987\u4e0a\u5c71\u91c7\u836f\uff0c\u88ab\u4e00\u53ea\u9965\u6e34\u7684\u8001\u864e\u641e\u5f97\u5dee\u70b9\u6ca1\u547d.\u706b\u4e86   \n",
        "4  5      \u5582\uff0c\u4f60\u662f\u53ea\u8001\u864e\uff0c\u4f60\u662f\u767e\u517d\u4e4b\u738b\u600e\u4e48\u53ef\u4ee5\u8fd9\u6837\u5462\uff01   \n",
        "\n",
        "                                                   2     3      4       5  \\\n",
        "0  http://mp.weixin.qq.com/s?__biz=MjM5MDc0NTY2OA...    \u6d1e\u89c1  01-14  100001   \n",
        "1  http://mp.weixin.qq.com/s?__biz=MTI0MDU3NDYwMQ...  \u592e\u89c6\u65b0\u95fb  04-03  100001   \n",
        "2  http://mp.weixin.qq.com/s?__biz=MjM5MDc0NTY2OA...    \u6d1e\u89c1  01-09  100001   \n",
        "3  http://mp.weixin.qq.com/s?__biz=MjM5NzEzNTI4OA...   \u670d\u88c5   04-20  100001   \n",
        "4  http://mp.weixin.qq.com/s?__biz=MjM5OTIwODMzMQ...   \u4efb\u771f\u5929  02-07  100001   \n",
        "\n",
        "      6  \n",
        "0  2487  \n",
        "1  2329  \n",
        "2  1902  \n",
        "3  1276  \n",
        "4  1222  \n",
        "\n",
        "[5 rows x 7 columns]"
       ]
      }
     ],
     "prompt_number": 107
    },
    {
     "cell_type": "code",
     "collapsed": false,
     "input": [
      "from weibo import APIClient\n",
      "APP_KEY = '663049101' # app key\n",
      "APP_SECRET = '2fc9ed9a3b9e7f37c3e6667464f0617e' # app secret\n",
      "CALLBACK_URL = 'https://api.weibo.com/oauth2/default.html' # callback url\n",
      "client = APIClient(app_key=APP_KEY, app_secret=APP_SECRET, redirect_uri=CALLBACK_URL)\n",
      "url = client.get_authorize_url()\n",
      "# TODO: redirect to url"
     ],
     "language": "python",
     "metadata": {},
     "outputs": [],
     "prompt_number": 108
    },
    {
     "cell_type": "code",
     "collapsed": false,
     "input": [
      "url\n",
      "# open the browser\n",
      "browser = webdriver.Firefox() # \u6253\u5f00Firefox\u6d4f\u89c8\u5668\n",
      "browser.get(url) #\u6253\u5f00\u7f51\u5740\u624b\u5de5\u767b\u9646\n"
     ],
     "language": "python",
     "metadata": {},
     "outputs": [],
     "prompt_number": 110
    },
    {
     "cell_type": "code",
     "collapsed": false,
     "input": [
      "# \u83b7\u53d6URL\u53c2\u6570code:\n",
      "# code = your.web.framework.request.get('code')\n",
      "client = APIClient(app_key=APP_KEY, app_secret=APP_SECRET, redirect_uri=CALLBACK_URL)\n",
      "r = client.request_access_token('a09cf0254ae5124f46dc794267c390cf') # change the code here\n",
      "access_token = r.access_token # \u65b0\u6d6a\u8fd4\u56de\u7684token\uff0c\u7c7b\u4f3cabc123xyz456\n",
      "expires_in = r.expires_in # token\u8fc7\u671f\u7684UNIX\u65f6\u95f4\n",
      "# TODO: \u5728\u6b64\u53ef\u4fdd\u5b58access token\n",
      "client.set_access_token(access_token, expires_in)"
     ],
     "language": "python",
     "metadata": {},
     "outputs": [],
     "prompt_number": 111
    },
    {
     "cell_type": "code",
     "collapsed": false,
     "input": [
      "print client.statuses.user_timeline.get()"
     ],
     "language": "python",
     "metadata": {},
     "outputs": [
      {
       "output_type": "stream",
       "stream": "stdout",
       "text": [
        "{'interval': 0, 'hasvisible': False, 'total_number': 5771, 'previous_cursor': 0, 'next_cursor': 0, 'marks': [], 'statuses': [{'reposts_count': 1, 'truncated': False, 'text': u'//@\\u660e\\u98ceAndy: @\\u6211\\u7684\\u5370\\u8c61\\u7b14\\u8bb0', 'pid': 3840981742472351L, 'visible': {'type': 0, 'list_id': 0}, 'in_reply_to_status_id': u'', 'id': 3841280197475555L, 'source_allowclick': 0, 'mid': u'3841280197475555', 'source': u'<a href=\"http://weibo.com/\" rel=\"nofollow\">\\u5fae\\u535a weibo.com</a>', 'attitudes_count': 0, 'in_reply_to_screen_name': u'', 'pic_urls': [], 'in_reply_to_user_id': u'', 'darwin_tags': [], 'favorited': False, 'retweeted_status': {'reposts_count': 70, 'truncated': False, 'text': u'Nate Silver\\u57282008\\u5e74\\u7f8e\\u56fd\\u5927\\u9009\\u524d\\u4ee5\\u63a5\\u8fd1\\u5b8c\\u7f8e\\u7684\\u9884\\u6d4b\\u9707\\u60ca\\u4e86\\u4e16\\u754c\\u3002\\u57282015\\u5e74\\u7684\\u82f1\\u56fd\\u5927\\u9009\\u9884\\u6d4b\\u4e0a\\uff0c\\u4ed6\\u548c\\u4ed6\\u7684538\\u56e2\\u961f\\u771f\\u5fc3\\u641e\\u7838\\u4e86\\u3002\\u4ed6\\u4eec\\u5728\\u535a\\u5ba2\\u4e0a\\u8fdb\\u884c\\u4e86\\u6df1\\u523b\\u7684\\u4e8b\\u540e\\u5206\\u6790\\u3001\\u89e3\\u91ca\\u548c\\u53cd\\u7701\\uff0c\\u7740\\u5b9e\\u4ee4\\u4eba\\u656c\\u4f69\\uff08\\u52a8\\u5bb9\\uff09\\u3002\\u535a\\u5ba2\\uff1ahttp://t.cn/RADr7XR \\u91c7\\u8bbf\\uff1ahttp://t.cn/RADr7X8', 'visible': {'type': 0, 'list_id': 0}, 'in_reply_to_status_id': u'', 'bmiddle_pic': u'http://ww2.sinaimg.cn/bmiddle/6f694589jw1erz7grlcyxj20pk07qta3.jpg', 'id': 3840979398371410L, 'thumbnail_pic': u'http://ww2.sinaimg.cn/thumbnail/6f694589jw1erz7grlcyxj20pk07qta3.jpg', 'mid': u'3840979398371410', 'source': u'<a href=\"http://weibo.com/\" rel=\"nofollow\">\\u5fae\\u535a weibo.com</a>', 'attitudes_count': 20, 'in_reply_to_screen_name': u'', 'pic_urls': [{'thumbnail_pic': u'http://ww2.sinaimg.cn/thumbnail/6f694589jw1erz7grlcyxj20pk07qta3.jpg'}, {'thumbnail_pic': u'http://ww3.sinaimg.cn/thumbnail/6f694589jw1erz7go2zz5j20gy0e0diw.jpg'}, {'thumbnail_pic': u'http://ww4.sinaimg.cn/thumbnail/6f694589jw1erz7gqx9clj20xc1f9dns.jpg'}, {'thumbnail_pic': u'http://ww1.sinaimg.cn/thumbnail/6f694589jw1erz7gs9muxj20ra0h17ba.jpg'}], 'in_reply_to_user_id': u'', 'darwin_tags': [], 'favorited': False, 'original_pic': u'http://ww2.sinaimg.cn/large/6f694589jw1erz7grlcyxj20pk07qta3.jpg', 'source_allowclick': 0, 'idstr': u'3840979398371410', 'source_type': 1, 'user': {'bi_followers_count': 388, 'domain': u'cosname', 'avatar_large': u'http://tp2.sinaimg.cn/1869170057/180/1294711581/1', 'verified_source': u'', 'ptype': 0, 'statuses_count': 2387, 'allow_all_comment': True, 'id': 1869170057, 'verified_reason_url': u'', 'city': u'8', 'province': u'11', 'credit_score': 80, 'block_app': 1, 'follow_me': True, 'verified_reason': u'', 'followers_count': 31271, 'location': u'\\u5317\\u4eac \\u6d77\\u6dc0\\u533a', 'verified_trade': u'', 'mbtype': 12, 'verified_source_url': u'', 'profile_url': u'cosname', 'block_word': 0, 'avatar_hd': u'http://tp2.sinaimg.cn/1869170057/180/1294711581/1', 'star': 0, 'description': u'\\u4e13\\u4e1a\\u3001\\u4eba\\u672c\\u3001\\u6b63\\u76f4\\u7684\\u4e2d\\u56fd\\u7edf\\u8ba1\\u5b66\\u95e8\\u6237\\u7f51\\u7ad9\\u3002', 'friends_count': 562, 'online_status': 0, 'mbrank': 4, 'idstr': u'1869170057', 'profile_image_url': u'http://tp2.sinaimg.cn/1869170057/50/1294711581/1', 'allow_all_act_msg': True, 'cover_image': u'http://ww1.sinaimg.cn/crop.0.0.980.300/6f694589gw1e3rksc95a3j.jpg', 'verified': False, 'geo_enabled': False, 'class': 1, 'screen_name': u'\\u7edf\\u8ba1\\u4e4b\\u90fd', 'lang': u'zh-cn', 'weihao': u'', 'remark': u'', 'favourites_count': 39, 'name': u'\\u7edf\\u8ba1\\u4e4b\\u90fd', 'url': u'http://cos.name', 'gender': u'm', 'created_at': u'Sun Nov 21 07:00:24 +0800 2010', 'verified_type': -1, 'following': True, 'pagefriends_count': 1, 'urank': 24}, 'geo': None, 'created_at': u'Sun May 10 15:51:53 +0800 2015', 'mlevel': 0, 'comments_count': 7}, 'idstr': u'3841280197475555', 'source_type': 1, 'user': {'cover_image': u'http://ww2.sinaimg.cn/crop.0.212.980.300/4a238ec2gw1ebki0p6xwnj20r80k30vp.jpg', 'bi_followers_count': 244, 'domain': u'frankwang', 'avatar_large': u'http://tp3.sinaimg.cn/1243844290/180/5614932369/1', 'verified_source': u'', 'ptype': 0, 'statuses_count': 5752, 'id': 1243844290, 'verified_reason_url': u'', 'city': u'1', 'verified': True, 'friends_count': 541, 'verified_reason_modified': u'', 'credit_score': 80, 'block_app': 0, 'follow_me': False, 'verified_reason': u'\\u9999\\u6e2f\\u57ce\\u5e02\\u5927\\u5b66\\u5a92\\u4f53\\u4e0e\\u4f20\\u64ad\\u7cfb\\u535a\\u58eb\\uff0c\\u793e\\u4f1a\\u5316\\u5a92\\u4f53&\\u4fe1\\u606f\\u6269\\u6563\\u7814\\u7a76\\u8005', 'followers_count': 3650, 'location': u'\\u9999\\u6e2f \\u5176\\u4ed6', 'verified_state': 0, 'verified_trade': u'1155', 'mbtype': 0, 'verified_source_url': u'', 'profile_url': u'342116320', 'block_word': 0, 'avatar_hd': u'http://tp3.sinaimg.cn/1243844290/180/5614932369/1', 'star': 0, 'description': u'\\u4e00\\u4e2a\\u4eba\\u547d\\u4e2d\\u6700\\u5927\\u7684\\u5e78\\u8fd0\\uff0c\\u83ab\\u8fc7\\u4e8e\\u5728\\u4ed6\\u7684\\u4eba\\u751f\\u4e2d\\u9014\\uff0c\\u5373\\u5728\\u4ed6\\u5e74\\u5bcc\\u529b\\u5f3a\\u4e4b\\u65f6\\u53d1\\u73b0\\u4e86\\u81ea\\u5df1\\u751f\\u6d3b\\u7684\\u4f7f\\u547d\\u3002', 'verified_contact_email': u'', 'online_status': 0, 'mbrank': 0, 'verified_level': 3, 'profile_image_url': u'http://tp3.sinaimg.cn/1243844290/50/5614932369/1', 'idstr': u'1243844290', 'verified_contact_mobile': u'', 'allow_all_act_msg': False, 'allow_all_comment': True, 'geo_enabled': True, 'class': 1, 'screen_name': u'\\u9ee0\\u4e4b\\u5927\\u8005', 'lang': u'zh-cn', 'weihao': u'342116320', 'remark': u'', 'favourites_count': 204, 'name': u'\\u9ee0\\u4e4b\\u5927\\u8005', 'url': u'http://chengjun.github.io', 'province': u'81', 'created_at': u'Wed Sep 30 14:09:56 +0800 2009', 'verified_contact_name': u'', 'verified_type': 0, 'gender': u'm', 'following': False, 'pagefriends_count': 1, 'urank': 24}, 'geo': None, 'created_at': u'Mon May 11 11:47:09 +0800 2015', 'mlevel': 0, 'comments_count': 0}, {'reposts_count': 0, 'truncated': False, 'text': u'\\u4e0b\\u8f7d\\u5370\\u8c61\\u7b14\\u8bb0\\xb7\\u526a\\u85cf http://t.cn/RZNBnJ2', 'visible': {'type': 0, 'list_id': 0}, 'in_reply_to_status_id': u'', 'id': 3839114090982719L, 'mid': u'3839114090982719', 'source': u'<a href=\"http://weibo.com/\" rel=\"nofollow\">\\u5fae\\u535a weibo.com</a>', 'attitudes_count': 0, 'in_reply_to_screen_name': u'', 'pic_urls': [], 'in_reply_to_user_id': u'', 'darwin_tags': [], 'favorited': False, 'source_allowclick': 0, 'idstr': u'3839114090982719', 'source_type': 1, 'user': {'cover_image': u'http://ww2.sinaimg.cn/crop.0.212.980.300/4a238ec2gw1ebki0p6xwnj20r80k30vp.jpg', 'bi_followers_count': 244, 'domain': u'frankwang', 'avatar_large': u'http://tp3.sinaimg.cn/1243844290/180/5614932369/1', 'verified_source': u'', 'ptype': 0, 'statuses_count': 5752, 'id': 1243844290, 'verified_reason_url': u'', 'city': u'1', 'verified': True, 'friends_count': 541, 'verified_reason_modified': u'', 'credit_score': 80, 'block_app': 0, 'follow_me': False, 'verified_reason': u'\\u9999\\u6e2f\\u57ce\\u5e02\\u5927\\u5b66\\u5a92\\u4f53\\u4e0e\\u4f20\\u64ad\\u7cfb\\u535a\\u58eb\\uff0c\\u793e\\u4f1a\\u5316\\u5a92\\u4f53&\\u4fe1\\u606f\\u6269\\u6563\\u7814\\u7a76\\u8005', 'followers_count': 3650, 'location': u'\\u9999\\u6e2f \\u5176\\u4ed6', 'verified_state': 0, 'verified_trade': u'1155', 'mbtype': 0, 'verified_source_url': u'', 'profile_url': u'342116320', 'block_word': 0, 'avatar_hd': u'http://tp3.sinaimg.cn/1243844290/180/5614932369/1', 'star': 0, 'description': u'\\u4e00\\u4e2a\\u4eba\\u547d\\u4e2d\\u6700\\u5927\\u7684\\u5e78\\u8fd0\\uff0c\\u83ab\\u8fc7\\u4e8e\\u5728\\u4ed6\\u7684\\u4eba\\u751f\\u4e2d\\u9014\\uff0c\\u5373\\u5728\\u4ed6\\u5e74\\u5bcc\\u529b\\u5f3a\\u4e4b\\u65f6\\u53d1\\u73b0\\u4e86\\u81ea\\u5df1\\u751f\\u6d3b\\u7684\\u4f7f\\u547d\\u3002', 'verified_contact_email': u'', 'online_status': 0, 'mbrank': 0, 'verified_level': 3, 'profile_image_url': u'http://tp3.sinaimg.cn/1243844290/50/5614932369/1', 'idstr': u'1243844290', 'verified_contact_mobile': u'', 'allow_all_act_msg': False, 'allow_all_comment': True, 'geo_enabled': True, 'class': 1, 'screen_name': u'\\u9ee0\\u4e4b\\u5927\\u8005', 'lang': u'zh-cn', 'weihao': u'342116320', 'remark': u'', 'favourites_count': 204, 'name': u'\\u9ee0\\u4e4b\\u5927\\u8005', 'url': u'http://chengjun.github.io', 'province': u'81', 'created_at': u'Wed Sep 30 14:09:56 +0800 2009', 'verified_contact_name': u'', 'verified_type': 0, 'gender': u'm', 'following': False, 'pagefriends_count': 1, 'urank': 24}, 'geo': None, 'created_at': u'Tue May 05 12:19:48 +0800 2015', 'mlevel': 0, 'comments_count': 0}, {'reposts_count': 1, 'truncated': False, 'text': u'\\u8f6c\\u53d1\\u5fae\\u535a', 'visible': {'type': 0, 'list_id': 0}, 'in_reply_to_status_id': u'', 'id': 3837675612510151L, 'source_allowclick': 0, 'mid': u'3837675612510151', 'source': u'<a href=\"http://weibo.com/\" rel=\"nofollow\">\\u5fae\\u535a weibo.com</a>', 'attitudes_count': 2, 'in_reply_to_screen_name': u'', 'pic_urls': [], 'in_reply_to_user_id': u'', 'darwin_tags': [], 'favorited': False, 'retweeted_status': {'reposts_count': 175, 'truncated': False, 'text': u'\\u3010Python\\u751f\\u52a8\\u8bcd\\u4e91\\u751f\\u6210\\u5305word_cloud\\u3011http://t.cn/RAnG19X GitHub:http://t.cn/zTdEnSB', 'visible': {'type': 0, 'list_id': 0}, 'in_reply_to_status_id': u'', 'bmiddle_pic': u'http://ww1.sinaimg.cn/bmiddle/5396ee05gw1ern67ohpecj20m80go40k.jpg', 'id': 3837206844298733L, 'thumbnail_pic': u'http://ww1.sinaimg.cn/thumbnail/5396ee05gw1ern67ohpecj20m80go40k.jpg', 'mid': u'3837206844298733', 'source': u'<a href=\"http://weibo.com/\" rel=\"nofollow\">\\u5fae\\u535a weibo.com</a>', 'attitudes_count': 18, 'in_reply_to_screen_name': u'', 'pic_urls': [{'thumbnail_pic': u'http://ww1.sinaimg.cn/thumbnail/5396ee05gw1ern67ohpecj20m80go40k.jpg'}, {'thumbnail_pic': u'http://ww1.sinaimg.cn/thumbnail/5396ee05gw1ern67qk1wsj20m80go0uq.jpg'}, {'thumbnail_pic': u'http://ww2.sinaimg.cn/thumbnail/5396ee05gw1ern67w5fwrj20m80go40z.jpg'}], 'in_reply_to_user_id': u'', 'darwin_tags': [], 'favorited': False, 'original_pic': u'http://ww1.sinaimg.cn/large/5396ee05gw1ern67ohpecj20m80go40k.jpg', 'source_allowclick': 0, 'idstr': u'3837206844298733', 'source_type': 1, 'user': {'bi_followers_count': 508, 'domain': u'fly51fly', 'avatar_large': u'http://tp2.sinaimg.cn/1402400261/180/5713579194/1', 'verified_source': u'', 'ptype': 0, 'cover_image_phone': u'http://ww4.sinaimg.cn/crop.0.0.640.640/7c85468fjw1e8yq7122ixj20hs0hsq3j.jpg', 'statuses_count': 3719, 'id': 1402400261, 'verified_reason_url': u'', 'city': u'5', 'verified': True, 'friends_count': 1201, 'verified_reason_modified': u'', 'credit_score': 80, 'block_app': 1, 'follow_me': True, 'verified_reason': u'\\u5317\\u4eac\\u90ae\\u7535\\u5927\\u5b66\\u6a21\\u5f0f\\u8bc6\\u522b\\u5b9e\\u9a8c\\u5ba4\\u9648\\u5149\\u8001\\u5e08', 'followers_count': 10308, 'location': u'\\u5317\\u4eac \\u671d\\u9633\\u533a', 'verified_state': 0, 'verified_trade': u'873', 'mbtype': 12, 'verified_source_url': u'', 'profile_url': u'fly51fly', 'block_word': 0, 'avatar_hd': u'http://ww2.sinaimg.cn/crop.10.34.646.646.1024/5396ee05jw1ena6co8qiwj20sg0izjxd.jpg', 'star': 0, 'description': u'\\u5317\\u90ae\\u7f51\\u7edc\\u641c\\u7d22\\u4e2d\\u5fc3\\u8001\\u5e08', 'verified_contact_email': u'', 'online_status': 0, 'mbrank': 3, 'verified_level': 3, 'profile_image_url': u'http://tp2.sinaimg.cn/1402400261/50/5713579194/1', 'idstr': u'1402400261', 'verified_contact_mobile': u'', 'allow_all_act_msg': False, 'allow_all_comment': True, 'geo_enabled': False, 'class': 1, 'screen_name': u'\\u7231\\u53ef\\u53ef-\\u7231\\u751f\\u6d3b', 'lang': u'zh-cn', 'weihao': u'', 'remark': u'', 'favourites_count': 1259, 'name': u'\\u7231\\u53ef\\u53ef-\\u7231\\u751f\\u6d3b', 'ability_tags': u'\\u79fb\\u52a8\\u5e94\\u7528', 'url': u'http://blog.fly51fly.com', 'province': u'11', 'created_at': u'Sat Jan 30 08:06:34 +0800 2010', 'verified_contact_name': u'', 'verified_type': 0, 'gender': u'm', 'following': False, 'pagefriends_count': 2, 'urank': 24}, 'geo': None, 'created_at': u'Thu Apr 30 06:01:06 +0800 2015', 'mlevel': 0, 'comments_count': 24}, 'idstr': u'3837675612510151', 'source_type': 1, 'user': {'cover_image': u'http://ww2.sinaimg.cn/crop.0.212.980.300/4a238ec2gw1ebki0p6xwnj20r80k30vp.jpg', 'bi_followers_count': 244, 'domain': u'frankwang', 'avatar_large': u'http://tp3.sinaimg.cn/1243844290/180/5614932369/1', 'verified_source': u'', 'ptype': 0, 'statuses_count': 5752, 'id': 1243844290, 'verified_reason_url': u'', 'city': u'1', 'verified': True, 'friends_count': 541, 'verified_reason_modified': u'', 'credit_score': 80, 'block_app': 0, 'follow_me': False, 'verified_reason': u'\\u9999\\u6e2f\\u57ce\\u5e02\\u5927\\u5b66\\u5a92\\u4f53\\u4e0e\\u4f20\\u64ad\\u7cfb\\u535a\\u58eb\\uff0c\\u793e\\u4f1a\\u5316\\u5a92\\u4f53&\\u4fe1\\u606f\\u6269\\u6563\\u7814\\u7a76\\u8005', 'followers_count': 3650, 'location': u'\\u9999\\u6e2f \\u5176\\u4ed6', 'verified_state': 0, 'verified_trade': u'1155', 'mbtype': 0, 'verified_source_url': u'', 'profile_url': u'342116320', 'block_word': 0, 'avatar_hd': u'http://tp3.sinaimg.cn/1243844290/180/5614932369/1', 'star': 0, 'description': u'\\u4e00\\u4e2a\\u4eba\\u547d\\u4e2d\\u6700\\u5927\\u7684\\u5e78\\u8fd0\\uff0c\\u83ab\\u8fc7\\u4e8e\\u5728\\u4ed6\\u7684\\u4eba\\u751f\\u4e2d\\u9014\\uff0c\\u5373\\u5728\\u4ed6\\u5e74\\u5bcc\\u529b\\u5f3a\\u4e4b\\u65f6\\u53d1\\u73b0\\u4e86\\u81ea\\u5df1\\u751f\\u6d3b\\u7684\\u4f7f\\u547d\\u3002', 'verified_contact_email': u'', 'online_status': 0, 'mbrank': 0, 'verified_level': 3, 'profile_image_url': u'http://tp3.sinaimg.cn/1243844290/50/5614932369/1', 'idstr': u'1243844290', 'verified_contact_mobile': u'', 'allow_all_act_msg': False, 'allow_all_comment': True, 'geo_enabled': True, 'class': 1, 'screen_name': u'\\u9ee0\\u4e4b\\u5927\\u8005', 'lang': u'zh-cn', 'weihao': u'342116320', 'remark': u'', 'favourites_count': 204, 'name': u'\\u9ee0\\u4e4b\\u5927\\u8005', 'url': u'http://chengjun.github.io', 'province': u'81', 'created_at': u'Wed Sep 30 14:09:56 +0800 2009', 'verified_contact_name': u'', 'verified_type': 0, 'gender': u'm', 'following': False, 'pagefriends_count': 1, 'urank': 24}, 'geo': None, 'created_at': u'Fri May 01 13:03:49 +0800 2015', 'mlevel': 0, 'comments_count': 0}, {'reposts_count': 0, 'truncated': False, 'text': u'\\u8f6c\\u53d1\\u5fae\\u535a', 'visible': {'type': 0, 'list_id': 0}, 'in_reply_to_status_id': u'', 'id': 3837672307274160L, 'source_allowclick': 0, 'mid': u'3837672307274160', 'source': u'<a href=\"http://weibo.com/\" rel=\"nofollow\">\\u5fae\\u535a weibo.com</a>', 'attitudes_count': 0, 'in_reply_to_screen_name': u'', 'pic_urls': [], 'in_reply_to_user_id': u'', 'darwin_tags': [], 'favorited': False, 'retweeted_status': {'reposts_count': 59, 'truncated': False, 'text': u'\\u4e00\\u5e72\\u72c2\\u4eba\\u5fc3\\u8840\\u6765\\u6f6e\\uff0c\\u901a\\u8fc7\\u4f17\\u5305\\u68c0\\u9a8c100\\u7bc7\\u5fc3\\u7406\\u5b66\\u8bba\\u6587\\u7ed3\\u679c\\uff0c\\u5374\\u53d1\\u73b0\\u53ea\\u670939\\u7bc7\\u53ef\\u4ee5\\u91cd\\u73b0\\uff0c\\u611f\\u89c9\\u88ab\\u6b3a\\u9a97\\u591a\\u5e74\\u7684\\u770b\\u5b98\\u4eec\\u8bf7\\u6233\\u5173\\u4e8e\\u53ef\\u91cd\\u590d\\u5b9e\\u9a8c\\u7684\\u5927\\u8ba8\\u8bba\\uff1ahttp://t.cn/RAmcgj0', 'visible': {'type': 0, 'list_id': 0}, 'in_reply_to_status_id': u'', 'bmiddle_pic': u'http://ww4.sinaimg.cn/bmiddle/6f694589jw1erom81nbhij20hi0o3wh7.jpg', 'id': 3837659791274250L, 'thumbnail_pic': u'http://ww4.sinaimg.cn/thumbnail/6f694589jw1erom81nbhij20hi0o3wh7.jpg', 'mid': u'3837659791274250', 'source': u'<a href=\"http://weibo.com/\" rel=\"nofollow\">\\u5fae\\u535a weibo.com</a>', 'attitudes_count': 10, 'in_reply_to_screen_name': u'', 'pic_urls': [{'thumbnail_pic': u'http://ww4.sinaimg.cn/thumbnail/6f694589jw1erom81nbhij20hi0o3wh7.jpg'}], 'in_reply_to_user_id': u'', 'darwin_tags': [], 'favorited': False, 'original_pic': u'http://ww4.sinaimg.cn/large/6f694589jw1erom81nbhij20hi0o3wh7.jpg', 'source_allowclick': 0, 'idstr': u'3837659791274250', 'source_type': 1, 'user': {'bi_followers_count': 388, 'domain': u'cosname', 'avatar_large': u'http://tp2.sinaimg.cn/1869170057/180/1294711581/1', 'verified_source': u'', 'ptype': 0, 'statuses_count': 2387, 'allow_all_comment': True, 'id': 1869170057, 'verified_reason_url': u'', 'city': u'8', 'province': u'11', 'credit_score': 80, 'block_app': 1, 'follow_me': True, 'verified_reason': u'', 'followers_count': 31271, 'location': u'\\u5317\\u4eac \\u6d77\\u6dc0\\u533a', 'verified_trade': u'', 'mbtype': 12, 'verified_source_url': u'', 'profile_url': u'cosname', 'block_word': 0, 'avatar_hd': u'http://tp2.sinaimg.cn/1869170057/180/1294711581/1', 'star': 0, 'description': u'\\u4e13\\u4e1a\\u3001\\u4eba\\u672c\\u3001\\u6b63\\u76f4\\u7684\\u4e2d\\u56fd\\u7edf\\u8ba1\\u5b66\\u95e8\\u6237\\u7f51\\u7ad9\\u3002', 'friends_count': 562, 'online_status': 0, 'mbrank': 4, 'idstr': u'1869170057', 'profile_image_url': u'http://tp2.sinaimg.cn/1869170057/50/1294711581/1', 'allow_all_act_msg': True, 'cover_image': u'http://ww1.sinaimg.cn/crop.0.0.980.300/6f694589gw1e3rksc95a3j.jpg', 'verified': False, 'geo_enabled': False, 'class': 1, 'screen_name': u'\\u7edf\\u8ba1\\u4e4b\\u90fd', 'lang': u'zh-cn', 'weihao': u'', 'remark': u'', 'favourites_count': 39, 'name': u'\\u7edf\\u8ba1\\u4e4b\\u90fd', 'url': u'http://cos.name', 'gender': u'm', 'created_at': u'Sun Nov 21 07:00:24 +0800 2010', 'verified_type': -1, 'following': True, 'pagefriends_count': 1, 'urank': 24}, 'geo': None, 'created_at': u'Fri May 01 12:00:57 +0800 2015', 'mlevel': 0, 'comments_count': 8}, 'idstr': u'3837672307274160', 'source_type': 1, 'user': {'cover_image': u'http://ww2.sinaimg.cn/crop.0.212.980.300/4a238ec2gw1ebki0p6xwnj20r80k30vp.jpg', 'bi_followers_count': 244, 'domain': u'frankwang', 'avatar_large': u'http://tp3.sinaimg.cn/1243844290/180/5614932369/1', 'verified_source': u'', 'ptype': 0, 'statuses_count': 5752, 'id': 1243844290, 'verified_reason_url': u'', 'city': u'1', 'verified': True, 'friends_count': 541, 'verified_reason_modified': u'', 'credit_score': 80, 'block_app': 0, 'follow_me': False, 'verified_reason': u'\\u9999\\u6e2f\\u57ce\\u5e02\\u5927\\u5b66\\u5a92\\u4f53\\u4e0e\\u4f20\\u64ad\\u7cfb\\u535a\\u58eb\\uff0c\\u793e\\u4f1a\\u5316\\u5a92\\u4f53&\\u4fe1\\u606f\\u6269\\u6563\\u7814\\u7a76\\u8005', 'followers_count': 3650, 'location': u'\\u9999\\u6e2f \\u5176\\u4ed6', 'verified_state': 0, 'verified_trade': u'1155', 'mbtype': 0, 'verified_source_url': u'', 'profile_url': u'342116320', 'block_word': 0, 'avatar_hd': u'http://tp3.sinaimg.cn/1243844290/180/5614932369/1', 'star': 0, 'description': u'\\u4e00\\u4e2a\\u4eba\\u547d\\u4e2d\\u6700\\u5927\\u7684\\u5e78\\u8fd0\\uff0c\\u83ab\\u8fc7\\u4e8e\\u5728\\u4ed6\\u7684\\u4eba\\u751f\\u4e2d\\u9014\\uff0c\\u5373\\u5728\\u4ed6\\u5e74\\u5bcc\\u529b\\u5f3a\\u4e4b\\u65f6\\u53d1\\u73b0\\u4e86\\u81ea\\u5df1\\u751f\\u6d3b\\u7684\\u4f7f\\u547d\\u3002', 'verified_contact_email': u'', 'online_status': 0, 'mbrank': 0, 'verified_level': 3, 'profile_image_url': u'http://tp3.sinaimg.cn/1243844290/50/5614932369/1', 'idstr': u'1243844290', 'verified_contact_mobile': u'', 'allow_all_act_msg': False, 'allow_all_comment': True, 'geo_enabled': True, 'class': 1, 'screen_name': u'\\u9ee0\\u4e4b\\u5927\\u8005', 'lang': u'zh-cn', 'weihao': u'342116320', 'remark': u'', 'favourites_count': 204, 'name': u'\\u9ee0\\u4e4b\\u5927\\u8005', 'url': u'http://chengjun.github.io', 'province': u'81', 'created_at': u'Wed Sep 30 14:09:56 +0800 2009', 'verified_contact_name': u'', 'verified_type': 0, 'gender': u'm', 'following': False, 'pagefriends_count': 1, 'urank': 24}, 'geo': None, 'created_at': u'Fri May 01 12:50:41 +0800 2015', 'mlevel': 0, 'comments_count': 0}, {'reposts_count': 0, 'truncated': False, 'text': u'\\u53bb\\u5b66\\u4e60\\u4e86\\u4e00\\u4e0bgephi \\u5206\\u4eab\\u56fe\\u7247', 'visible': {'type': 0, 'list_id': 0}, 'in_reply_to_status_id': u'', 'bmiddle_pic': u'http://ww3.sinaimg.cn/bmiddle/4a238ec2gw1ernjngpodaj21kw1kw1fh.jpg', 'id': 3837324486264659L, 'thumbnail_pic': u'http://ww3.sinaimg.cn/thumbnail/4a238ec2gw1ernjngpodaj21kw1kw1fh.jpg', 'mid': u'3837324486264659', 'source': u'<a href=\"http://weibo.com/\" rel=\"nofollow\">\\u5fae\\u535a weibo.com</a>', 'attitudes_count': 1, 'in_reply_to_screen_name': u'', 'pic_urls': [{'thumbnail_pic': u'http://ww3.sinaimg.cn/thumbnail/4a238ec2gw1ernjngpodaj21kw1kw1fh.jpg'}], 'in_reply_to_user_id': u'', 'darwin_tags': [], 'favorited': False, 'original_pic': u'http://ww3.sinaimg.cn/large/4a238ec2gw1ernjngpodaj21kw1kw1fh.jpg', 'source_allowclick': 0, 'idstr': u'3837324486264659', 'source_type': 1, 'user': {'cover_image': u'http://ww2.sinaimg.cn/crop.0.212.980.300/4a238ec2gw1ebki0p6xwnj20r80k30vp.jpg', 'bi_followers_count': 244, 'domain': u'frankwang', 'avatar_large': u'http://tp3.sinaimg.cn/1243844290/180/5614932369/1', 'verified_source': u'', 'ptype': 0, 'statuses_count': 5752, 'id': 1243844290, 'verified_reason_url': u'', 'city': u'1', 'verified': True, 'friends_count': 541, 'verified_reason_modified': u'', 'credit_score': 80, 'block_app': 0, 'follow_me': False, 'verified_reason': u'\\u9999\\u6e2f\\u57ce\\u5e02\\u5927\\u5b66\\u5a92\\u4f53\\u4e0e\\u4f20\\u64ad\\u7cfb\\u535a\\u58eb\\uff0c\\u793e\\u4f1a\\u5316\\u5a92\\u4f53&\\u4fe1\\u606f\\u6269\\u6563\\u7814\\u7a76\\u8005', 'followers_count': 3650, 'location': u'\\u9999\\u6e2f \\u5176\\u4ed6', 'verified_state': 0, 'verified_trade': u'1155', 'mbtype': 0, 'verified_source_url': u'', 'profile_url': u'342116320', 'block_word': 0, 'avatar_hd': u'http://tp3.sinaimg.cn/1243844290/180/5614932369/1', 'star': 0, 'description': u'\\u4e00\\u4e2a\\u4eba\\u547d\\u4e2d\\u6700\\u5927\\u7684\\u5e78\\u8fd0\\uff0c\\u83ab\\u8fc7\\u4e8e\\u5728\\u4ed6\\u7684\\u4eba\\u751f\\u4e2d\\u9014\\uff0c\\u5373\\u5728\\u4ed6\\u5e74\\u5bcc\\u529b\\u5f3a\\u4e4b\\u65f6\\u53d1\\u73b0\\u4e86\\u81ea\\u5df1\\u751f\\u6d3b\\u7684\\u4f7f\\u547d\\u3002', 'verified_contact_email': u'', 'online_status': 0, 'mbrank': 0, 'verified_level': 3, 'profile_image_url': u'http://tp3.sinaimg.cn/1243844290/50/5614932369/1', 'idstr': u'1243844290', 'verified_contact_mobile': u'', 'allow_all_act_msg': False, 'allow_all_comment': True, 'geo_enabled': True, 'class': 1, 'screen_name': u'\\u9ee0\\u4e4b\\u5927\\u8005', 'lang': u'zh-cn', 'weihao': u'342116320', 'remark': u'', 'favourites_count': 204, 'name': u'\\u9ee0\\u4e4b\\u5927\\u8005', 'url': u'http://chengjun.github.io', 'province': u'81', 'created_at': u'Wed Sep 30 14:09:56 +0800 2009', 'verified_contact_name': u'', 'verified_type': 0, 'gender': u'm', 'following': False, 'pagefriends_count': 1, 'urank': 24}, 'geo': None, 'created_at': u'Thu Apr 30 13:48:34 +0800 2015', 'mlevel': 0, 'comments_count': 4}]}\n"
       ]
      }
     ],
     "prompt_number": 112
    },
    {
     "cell_type": "code",
     "collapsed": false,
     "input": [
      "mid = client.get.statuses__queryid(mid = 'Bhd8k0Jv8', isBase62 = 1, type = 1)['id']\n",
      "count = client.get.statuses__count(ids = mid)\n",
      "repostNum = count[0]['reposts']\n",
      "print mid, count, repostNum"
     ],
     "language": "python",
     "metadata": {},
     "outputs": [
      {
       "output_type": "stream",
       "stream": "stdout",
       "text": [
        " 3741020640174910 [{'attitudes': 398, 'id': 3741020640174910L, 'comments': 427, 'reposts': 969}] 969\n"
       ]
      }
     ],
     "prompt_number": 130
    },
    {
     "cell_type": "code",
     "collapsed": false,
     "input": [
      "from time import clock\n",
      "clock()"
     ],
     "language": "python",
     "metadata": {},
     "outputs": [
      {
       "metadata": {},
       "output_type": "pyout",
       "prompt_number": 117,
       "text": [
        "6.399961088236583e-07"
       ]
      }
     ],
     "prompt_number": 117
    },
    {
     "cell_type": "code",
     "collapsed": false,
     "input": [
      "print pageNum, mid"
     ],
     "language": "python",
     "metadata": {},
     "outputs": [
      {
       "output_type": "stream",
       "stream": "stdout",
       "text": [
        "5 3741020640174910\n"
       ]
      }
     ],
     "prompt_number": 122
    },
    {
     "cell_type": "code",
     "collapsed": false,
     "input": [
      "r = client.get.statuses__repost_timeline(id = mid, page = 1, count = 200)\n",
      "r\n",
      "#\u53ea\u80fd\u6293\u53d6\u5230\u6388\u6743\u7684\u7528\u6237"
     ],
     "language": "python",
     "metadata": {},
     "outputs": [
      {
       "metadata": {},
       "output_type": "pyout",
       "prompt_number": 131,
       "text": [
        "{'hasvisible': False,\n",
        " 'interval': 0,\n",
        " 'next_cursor': 3741060402373610L,\n",
        " 'previous_cursor': 0,\n",
        " 'reposts': [{'attitudes_count': 0,\n",
        "   'comments_count': 0,\n",
        "   'created_at': u'Tue May 12 15:50:31 +0800 2015',\n",
        "   'darwin_tags': [],\n",
        "   'favorited': False,\n",
        "   'geo': None,\n",
        "   'id': 3841703830612632L,\n",
        "   'idstr': u'3841703830612632',\n",
        "   'in_reply_to_screen_name': u'',\n",
        "   'in_reply_to_status_id': u'',\n",
        "   'in_reply_to_user_id': u'',\n",
        "   'mid': u'3841703830612632',\n",
        "   'mlevel': 0,\n",
        "   'pic_urls': [],\n",
        "   'reposts_count': 0,\n",
        "   'retweeted_status': {'attitudes_count': 398,\n",
        "    'bmiddle_pic': u'http://ww4.sinaimg.cn/bmiddle/a716fd45jw1ej4beatwekj20m70m77at.jpg',\n",
        "    'comments_count': 429,\n",
        "    'created_at': u'Thu Aug 07 19:51:26 +0800 2014',\n",
        "    'darwin_tags': [],\n",
        "    'favorited': False,\n",
        "    'geo': None,\n",
        "    'id': 3741020640174910L,\n",
        "    'idstr': u'3741020640174910',\n",
        "    'in_reply_to_screen_name': u'',\n",
        "    'in_reply_to_status_id': u'',\n",
        "    'in_reply_to_user_id': u'',\n",
        "    'mid': u'3741020640174910',\n",
        "    'mlevel': 0,\n",
        "    'original_pic': u'http://ww4.sinaimg.cn/large/a716fd45jw1ej4beatwekj20m70m77at.jpg',\n",
        "    'pic_urls': [{'thumbnail_pic': u'http://ww4.sinaimg.cn/thumbnail/a716fd45jw1ej4beatwekj20m70m77at.jpg'}],\n",
        "    'reposts_count': 970,\n",
        "    'source': u'<a href=\"http://app.weibo.com/t/feed/42EgW9\" rel=\"nofollow\">\\u4eba\\u6c11\\u65e5\\u62a5\\u5fae\\u535a</a>',\n",
        "    'source_allowclick': 0,\n",
        "    'source_type': 1,\n",
        "    'text': u'#\\u4e91\\u5357\\u9c81\\u7538\\u53bf\\u5730\\u9707#\\u3010\\u9047\\u96be\\u4eba\\u6570\\u589e\\u81f3615\\u4eba[\\u8721\\u70db]\\u3011\\u636e\\u6297\\u9707\\u6551\\u707e\\u6307\\u6325\\u90e8\\u6d88\\u606f\\uff0c\\u622a\\u81f3\\u4eca\\u592919\\u65f6\\uff0c\\u5730\\u9707\\u5171\\u9020\\u6210615\\u4eba\\u6b7b\\u4ea1\\uff0c\\u5176\\u4e2d\\u9c81\\u7538\\u53bf526\\u4eba\\u3001\\u5de7\\u5bb6\\u53bf76\\u4eba\\u3001\\u662d\\u9633\\u533a1\\u4eba\\u3001\\u4f1a\\u6cfd\\u53bf12\\u4eba\\uff1b\\u76ee\\u524d\\u4ecd\\u6709114\\u4eba\\u5931\\u8e2a\\uff0c\\u5176\\u4e2d\\u9c81\\u7538\\u53bf109\\u4eba\\u3001\\u5de7\\u5bb6\\u53bf5\\u4eba\\uff1b\\u53e6\\u67093143\\u4eba\\u53d7\\u4f24\\u3002',\n",
        "    'thumbnail_pic': u'http://ww4.sinaimg.cn/thumbnail/a716fd45jw1ej4beatwekj20m70m77at.jpg',\n",
        "    'truncated': False,\n",
        "    'user': {'allow_all_act_msg': False,\n",
        "     'allow_all_comment': True,\n",
        "     'avatar_hd': u'http://ww1.sinaimg.cn/crop.0.0.1024.1024.1024/a716fd45jw8erc5nhv9pkj20sg0sg415.jpg',\n",
        "     'avatar_large': u'http://tp2.sinaimg.cn/2803301701/180/5724488890/1',\n",
        "     'bi_followers_count': 267,\n",
        "     'block_app': 0,\n",
        "     'block_word': 0,\n",
        "     'city': u'1000',\n",
        "     'class': 1,\n",
        "     'cover_image': u'http://ww3.sinaimg.cn/crop.0.0.920.300/a716fd45jw1erc5gld4qij20pk08caco.jpg',\n",
        "     'cover_image_phone': u'http://ww4.sinaimg.cn/crop.0.0.0.0/a716fd45jw1erk4slckarj20yi0yi0uk.jpg',\n",
        "     'created_at': u'Sun Jul 22 02:28:35 +0800 2012',\n",
        "     'credit_score': 80,\n",
        "     'description': u'\\u4eba\\u6c11\\u65e5\\u62a5\\u6cd5\\u4eba\\u5fae\\u535a\\u3002\\u53c2\\u4e0e\\u3001\\u6c9f\\u901a\\u3001\\u8bb0\\u5f55\\u65f6\\u4ee3\\u3002',\n",
        "     'domain': u'rmrb',\n",
        "     'favourites_count': 14,\n",
        "     'follow_me': False,\n",
        "     'followers_count': 35087945,\n",
        "     'following': False,\n",
        "     'friends_count': 914,\n",
        "     'gender': u'm',\n",
        "     'geo_enabled': False,\n",
        "     'id': 2803301701L,\n",
        "     'idstr': u'2803301701',\n",
        "     'lang': u'zh-cn',\n",
        "     'location': u'\\u5317\\u4eac',\n",
        "     'mbrank': 4,\n",
        "     'mbtype': 2,\n",
        "     'name': u'\\u4eba\\u6c11\\u65e5\\u62a5',\n",
        "     'online_status': 0,\n",
        "     'pagefriends_count': 624,\n",
        "     'profile_image_url': u'http://tp2.sinaimg.cn/2803301701/50/5724488890/1',\n",
        "     'profile_url': u'rmrb',\n",
        "     'province': u'11',\n",
        "     'ptype': 0,\n",
        "     'remark': u'',\n",
        "     'screen_name': u'\\u4eba\\u6c11\\u65e5\\u62a5',\n",
        "     'star': 0,\n",
        "     'statuses_count': 46448,\n",
        "     'urank': 26,\n",
        "     'url': u'',\n",
        "     'verified': True,\n",
        "     'verified_contact_email': u'',\n",
        "     'verified_contact_mobile': u'',\n",
        "     'verified_contact_name': u'',\n",
        "     'verified_level': 3,\n",
        "     'verified_reason': u'\\u300a\\u4eba\\u6c11\\u65e5\\u62a5\\u300b\\u6cd5\\u4eba\\u5fae\\u535a',\n",
        "     'verified_reason_modified': u'\\u8fbd\\u5b81\\u79d1\\u6280\\u5927\\u5b66\\u5b98\\u65b9\\u5fae\\u535a\\uff0c\\u6559\\u80b2\\u5b98\\u5fae\\u8054\\u76df\\u6210\\u5458',\n",
        "     'verified_reason_url': u'',\n",
        "     'verified_source': u'',\n",
        "     'verified_source_url': u'',\n",
        "     'verified_state': 2,\n",
        "     'verified_trade': u'',\n",
        "     'verified_type': 3,\n",
        "     'weihao': u''},\n",
        "    'visible': {'list_id': 0, 'type': 0}},\n",
        "   'source': u'<a href=\"http://weibo.com/\" rel=\"nofollow\">\\u5fae\\u535a weibo.com</a>',\n",
        "   'source_allowclick': 0,\n",
        "   'source_type': 1,\n",
        "   'text': u'test this',\n",
        "   'truncated': False,\n",
        "   'user': {'allow_all_act_msg': False,\n",
        "    'allow_all_comment': True,\n",
        "    'avatar_hd': u'http://tp3.sinaimg.cn/1243844290/180/5614932369/1',\n",
        "    'avatar_large': u'http://tp3.sinaimg.cn/1243844290/180/5614932369/1',\n",
        "    'bi_followers_count': 244,\n",
        "    'block_app': 0,\n",
        "    'block_word': 0,\n",
        "    'city': u'1',\n",
        "    'class': 1,\n",
        "    'cover_image': u'http://ww2.sinaimg.cn/crop.0.212.980.300/4a238ec2gw1ebki0p6xwnj20r80k30vp.jpg',\n",
        "    'created_at': u'Wed Sep 30 14:09:56 +0800 2009',\n",
        "    'credit_score': 80,\n",
        "    'description': u'\\u4e00\\u4e2a\\u4eba\\u547d\\u4e2d\\u6700\\u5927\\u7684\\u5e78\\u8fd0\\uff0c\\u83ab\\u8fc7\\u4e8e\\u5728\\u4ed6\\u7684\\u4eba\\u751f\\u4e2d\\u9014\\uff0c\\u5373\\u5728\\u4ed6\\u5e74\\u5bcc\\u529b\\u5f3a\\u4e4b\\u65f6\\u53d1\\u73b0\\u4e86\\u81ea\\u5df1\\u751f\\u6d3b\\u7684\\u4f7f\\u547d\\u3002',\n",
        "    'domain': u'frankwang',\n",
        "    'favourites_count': 204,\n",
        "    'follow_me': False,\n",
        "    'followers_count': 3650,\n",
        "    'following': False,\n",
        "    'friends_count': 541,\n",
        "    'gender': u'm',\n",
        "    'geo_enabled': True,\n",
        "    'id': 1243844290,\n",
        "    'idstr': u'1243844290',\n",
        "    'lang': u'zh-cn',\n",
        "    'location': u'\\u9999\\u6e2f \\u5176\\u4ed6',\n",
        "    'mbrank': 0,\n",
        "    'mbtype': 0,\n",
        "    'name': u'\\u9ee0\\u4e4b\\u5927\\u8005',\n",
        "    'online_status': 0,\n",
        "    'pagefriends_count': 1,\n",
        "    'profile_image_url': u'http://tp3.sinaimg.cn/1243844290/50/5614932369/1',\n",
        "    'profile_url': u'342116320',\n",
        "    'province': u'81',\n",
        "    'ptype': 0,\n",
        "    'remark': u'',\n",
        "    'screen_name': u'\\u9ee0\\u4e4b\\u5927\\u8005',\n",
        "    'star': 0,\n",
        "    'statuses_count': 5753,\n",
        "    'urank': 24,\n",
        "    'url': u'http://chengjun.github.io',\n",
        "    'verified': True,\n",
        "    'verified_contact_email': u'',\n",
        "    'verified_contact_mobile': u'',\n",
        "    'verified_contact_name': u'',\n",
        "    'verified_level': 3,\n",
        "    'verified_reason': u'\\u9999\\u6e2f\\u57ce\\u5e02\\u5927\\u5b66\\u5a92\\u4f53\\u4e0e\\u4f20\\u64ad\\u7cfb\\u535a\\u58eb\\uff0c\\u793e\\u4f1a\\u5316\\u5a92\\u4f53&\\u4fe1\\u606f\\u6269\\u6563\\u7814\\u7a76\\u8005',\n",
        "    'verified_reason_modified': u'',\n",
        "    'verified_reason_url': u'',\n",
        "    'verified_source': u'',\n",
        "    'verified_source_url': u'',\n",
        "    'verified_state': 0,\n",
        "    'verified_trade': u'1155',\n",
        "    'verified_type': 0,\n",
        "    'weihao': u'342116320'},\n",
        "   'visible': {'list_id': 0, 'type': 0}}],\n",
        " 'total_number': 970}"
       ]
      }
     ],
     "prompt_number": 131
    },
    {
     "cell_type": "code",
     "collapsed": false,
     "input": [
      "r"
     ],
     "language": "python",
     "metadata": {},
     "outputs": [
      {
       "metadata": {},
       "output_type": "pyout",
       "prompt_number": 125,
       "text": [
        "{'hasvisible': False,\n",
        " 'interval': 0,\n",
        " 'next_cursor': 3741060402373609L,\n",
        " 'previous_cursor': 0,\n",
        " 'reposts': [],\n",
        " 'total_number': 969}"
       ]
      }
     ],
     "prompt_number": 125
    },
    {
     "cell_type": "code",
     "collapsed": false,
     "input": [
      "r['reposts']"
     ],
     "language": "python",
     "metadata": {},
     "outputs": [
      {
       "metadata": {},
       "output_type": "pyout",
       "prompt_number": 127,
       "text": [
        "[]"
       ]
      }
     ],
     "prompt_number": 127
    },
    {
     "cell_type": "code",
     "collapsed": false,
     "input": [
      "s = client.get.search__topics(q =u\"#\u6c76\u5ddd\u5730\u97077\u5468\u5e74#\" , page = 1, count = 200)\n",
      "print s"
     ],
     "language": "python",
     "metadata": {},
     "outputs": [
      {
       "ename": "APIError",
       "evalue": "APIError: 10014: Insufficient app permissions!, request: /2/search/topics.json",
       "output_type": "pyerr",
       "traceback": [
        "\u001b[1;31m---------------------------------------------------------------------------\u001b[0m\n\u001b[1;31mAPIError\u001b[0m                                  Traceback (most recent call last)",
        "\u001b[1;32m<ipython-input-137-90c0120a7407>\u001b[0m in \u001b[0;36m<module>\u001b[1;34m()\u001b[0m\n\u001b[1;32m----> 1\u001b[1;33m \u001b[0ms\u001b[0m \u001b[1;33m=\u001b[0m \u001b[0mclient\u001b[0m\u001b[1;33m.\u001b[0m\u001b[0mget\u001b[0m\u001b[1;33m.\u001b[0m\u001b[0msearch__topics\u001b[0m\u001b[1;33m(\u001b[0m\u001b[0mq\u001b[0m \u001b[1;33m=\u001b[0m\u001b[1;34mu\"#\u6c76\u5ddd\u5730\u97077\u5468\u5e74#\"\u001b[0m \u001b[1;33m,\u001b[0m \u001b[0mpage\u001b[0m \u001b[1;33m=\u001b[0m \u001b[1;36m1\u001b[0m\u001b[1;33m,\u001b[0m \u001b[0mcount\u001b[0m \u001b[1;33m=\u001b[0m \u001b[1;36m200\u001b[0m\u001b[1;33m)\u001b[0m\u001b[1;33m\u001b[0m\u001b[0m\n\u001b[0m\u001b[0;32m      2\u001b[0m \u001b[1;32mprint\u001b[0m \u001b[0ms\u001b[0m\u001b[1;33m\u001b[0m\u001b[0m\n",
        "\u001b[1;32mE:\\WinPython-64bit-2.7.6.4\\python-2.7.6.amd64\\lib\\site-packages\\sinaweibopy-1.1.3-py2.7.egg\\weibo.pyc\u001b[0m in \u001b[0;36mwrap\u001b[1;34m(**kw)\u001b[0m\n\u001b[0;32m    183\u001b[0m             \u001b[1;32mif\u001b[0m \u001b[0mself\u001b[0m\u001b[1;33m.\u001b[0m\u001b[0mclient\u001b[0m\u001b[1;33m.\u001b[0m\u001b[0mis_expires\u001b[0m\u001b[1;33m(\u001b[0m\u001b[1;33m)\u001b[0m\u001b[1;33m:\u001b[0m\u001b[1;33m\u001b[0m\u001b[0m\n\u001b[0;32m    184\u001b[0m                 \u001b[1;32mraise\u001b[0m \u001b[0mAPIError\u001b[0m\u001b[1;33m(\u001b[0m\u001b[1;34m'21327'\u001b[0m\u001b[1;33m,\u001b[0m \u001b[1;34m'expired_token'\u001b[0m\u001b[1;33m,\u001b[0m \u001b[0mattr\u001b[0m\u001b[1;33m)\u001b[0m\u001b[1;33m\u001b[0m\u001b[0m\n\u001b[1;32m--> 185\u001b[1;33m             \u001b[1;32mreturn\u001b[0m \u001b[0m_http_call\u001b[0m\u001b[1;33m(\u001b[0m\u001b[1;34m'%s%s.json'\u001b[0m \u001b[1;33m%\u001b[0m \u001b[1;33m(\u001b[0m\u001b[0mself\u001b[0m\u001b[1;33m.\u001b[0m\u001b[0mclient\u001b[0m\u001b[1;33m.\u001b[0m\u001b[0mapi_url\u001b[0m\u001b[1;33m,\u001b[0m \u001b[0mattr\u001b[0m\u001b[1;33m.\u001b[0m\u001b[0mreplace\u001b[0m\u001b[1;33m(\u001b[0m\u001b[1;34m'__'\u001b[0m\u001b[1;33m,\u001b[0m \u001b[1;34m'/'\u001b[0m\u001b[1;33m)\u001b[0m\u001b[1;33m)\u001b[0m\u001b[1;33m,\u001b[0m \u001b[0mself\u001b[0m\u001b[1;33m.\u001b[0m\u001b[0mmethod\u001b[0m\u001b[1;33m,\u001b[0m \u001b[0mself\u001b[0m\u001b[1;33m.\u001b[0m\u001b[0mclient\u001b[0m\u001b[1;33m.\u001b[0m\u001b[0maccess_token\u001b[0m\u001b[1;33m,\u001b[0m \u001b[1;33m**\u001b[0m\u001b[0mkw\u001b[0m\u001b[1;33m)\u001b[0m\u001b[1;33m\u001b[0m\u001b[0m\n\u001b[0m\u001b[0;32m    186\u001b[0m         \u001b[1;32mreturn\u001b[0m \u001b[0mwrap\u001b[0m\u001b[1;33m\u001b[0m\u001b[0m\n\u001b[0;32m    187\u001b[0m \u001b[1;33m\u001b[0m\u001b[0m\n",
        "\u001b[1;32mE:\\WinPython-64bit-2.7.6.4\\python-2.7.6.amd64\\lib\\site-packages\\sinaweibopy-1.1.3-py2.7.egg\\weibo.pyc\u001b[0m in \u001b[0;36m_http_call\u001b[1;34m(the_url, method, authorization, **kw)\u001b[0m\n\u001b[0;32m    170\u001b[0m             \u001b[0mr\u001b[0m \u001b[1;33m=\u001b[0m \u001b[0mNone\u001b[0m\u001b[1;33m\u001b[0m\u001b[0m\n\u001b[0;32m    171\u001b[0m         \u001b[1;32mif\u001b[0m \u001b[0mhasattr\u001b[0m\u001b[1;33m(\u001b[0m\u001b[0mr\u001b[0m\u001b[1;33m,\u001b[0m \u001b[1;34m'error_code'\u001b[0m\u001b[1;33m)\u001b[0m\u001b[1;33m:\u001b[0m\u001b[1;33m\u001b[0m\u001b[0m\n\u001b[1;32m--> 172\u001b[1;33m             \u001b[1;32mraise\u001b[0m \u001b[0mAPIError\u001b[0m\u001b[1;33m(\u001b[0m\u001b[0mr\u001b[0m\u001b[1;33m.\u001b[0m\u001b[0merror_code\u001b[0m\u001b[1;33m,\u001b[0m \u001b[0mr\u001b[0m\u001b[1;33m.\u001b[0m\u001b[0mget\u001b[0m\u001b[1;33m(\u001b[0m\u001b[1;34m'error'\u001b[0m\u001b[1;33m,\u001b[0m \u001b[1;34m''\u001b[0m\u001b[1;33m)\u001b[0m\u001b[1;33m,\u001b[0m \u001b[0mr\u001b[0m\u001b[1;33m.\u001b[0m\u001b[0mget\u001b[0m\u001b[1;33m(\u001b[0m\u001b[1;34m'request'\u001b[0m\u001b[1;33m,\u001b[0m \u001b[1;34m''\u001b[0m\u001b[1;33m)\u001b[0m\u001b[1;33m)\u001b[0m\u001b[1;33m\u001b[0m\u001b[0m\n\u001b[0m\u001b[0;32m    173\u001b[0m         \u001b[1;32mraise\u001b[0m \u001b[0me\u001b[0m\u001b[1;33m\u001b[0m\u001b[0m\n\u001b[0;32m    174\u001b[0m \u001b[1;33m\u001b[0m\u001b[0m\n",
        "\u001b[1;31mAPIError\u001b[0m: APIError: 10014: Insufficient app permissions!, request: /2/search/topics.json"
       ]
      }
     ],
     "prompt_number": 137
    },
    {
     "cell_type": "code",
     "collapsed": false,
     "input": [
      "s = client.get.trends__weekly()\n",
      "print s"
     ],
     "language": "python",
     "metadata": {},
     "outputs": [
      {
       "output_type": "stream",
       "stream": "stdout",
       "text": [
        "{'trends': {'2015-05-12 15:58': [{'query': u'\\u5434\\u6615', 'amount': u'236486', 'name': u'\\u5434\\u6615', 'delta': u'236486'}, {'query': u'\\u5728\\u6821\\u751f30\\u4f8b\\u827e\\u6ecb\\u75c5', 'amount': u'168451', 'name': u'\\u5728\\u6821\\u751f30\\u4f8b\\u827e\\u6ecb\\u75c5', 'delta': u'168451'}, {'query': u'\\u516b\\u638c\\u67dc', 'amount': u'138751', 'name': u'\\u516b\\u638c\\u67dc', 'delta': u'138751'}, {'query': u'\\u8981\\u4e0d\\u662f\\u56e0\\u4e3a\\u4e11', 'amount': u'113402', 'name': u'\\u8981\\u4e0d\\u662f\\u56e0\\u4e3a\\u4e11', 'delta': u'113402'}, {'query': u'\\u718a\\u4e43\\u747e', 'amount': u'100010', 'name': u'\\u718a\\u4e43\\u747e', 'delta': u'100010'}, {'query': u'\\u7559\\u957f\\u53d1\\u8fd8\\u662f\\u77ed\\u53d1', 'amount': u'96466', 'name': u'\\u7559\\u957f\\u53d1\\u8fd8\\u662f\\u77ed\\u53d1', 'delta': u'96466'}, {'query': u'\\u5973\\u751f\\u7684\\u602a\\u7656', 'amount': u'90511', 'name': u'\\u5973\\u751f\\u7684\\u602a\\u7656', 'delta': u'90511'}, {'query': u'3\\u5206\\u949f\\u6570\\u5b8c', 'amount': u'76293', 'name': u'3\\u5206\\u949f\\u6570\\u5b8c', 'delta': u'76293'}, {'query': u'\\u84b2\\u516c\\u82f1\\u7684\\u6b63\\u786e\\u73a9\\u6cd5', 'amount': u'72407', 'name': u'\\u84b2\\u516c\\u82f1\\u7684\\u6b63\\u786e\\u73a9\\u6cd5', 'delta': u'72407'}, {'query': u'\\u6211\\u8d5a\\u5916\\u56fd\\u4eba\\u7684\\u94b1', 'amount': u'71038', 'name': u'\\u6211\\u8d5a\\u5916\\u56fd\\u4eba\\u7684\\u94b1', 'delta': u'71038'}]}, 'as_of': 1431417505}\n"
       ]
      }
     ],
     "prompt_number": 138
    },
    {
     "cell_type": "code",
     "collapsed": false,
     "input": [],
     "language": "python",
     "metadata": {},
     "outputs": []
    }
   ],
   "metadata": {}
  }
 ]
}